{
 "cells": [
  {
   "cell_type": "code",
   "execution_count": null,
   "id": "50401a4e",
   "metadata": {},
   "outputs": [],
   "source": [
    "import pandas as pd\n",
    "\n",
    "df = pd.read_csv(\"review_overview.csv\")\n",
    "\n",
    "#拆分原始dataframe\n",
    "part1 = df.iloc[:300001]\n",
    "part2 = df.iloc[300001:500001]\n",
    "part3 = df.iloc[500001:700001]\n",
    "part4 = df.iloc[700001:1000001]\n",
    "part5 = df.iloc[1000001:1300001]\n",
    "part6 = df.iloc[1300001:1600001]\n",
    "part7 = df.iloc[1600001:1733312]\n",
    "\n",
    "part1.to_csv(\"part1.csv\", index=None, encoding=\"UTF-8-sig\")\n",
    "part2.to_csv(\"part2.csv\", index=None, encoding=\"UTF-8-sig\")\n",
    "part3.to_csv(\"part3.csv\", index=None, encoding=\"UTF-8-sig\")\n",
    "part4.to_csv(\"part4.csv\", index=None, encoding=\"UTF-8-sig\")\n",
    "part5.to_csv(\"part5.csv\", index=None, encoding=\"UTF-8-sig\")\n",
    "part6.to_csv(\"part6.csv\", index=None, encoding=\"UTF-8-sig\")\n",
    "part7.to_csv(\"part7.csv\", index=None, encoding=\"UTF-8-sig\")\n",
    "\n",
    "print(\"---Done---\")"
   ]
  },
  {
   "cell_type": "code",
   "execution_count": null,
   "id": "8e4037c0",
   "metadata": {},
   "outputs": [],
   "source": [
    "import pandas as pd\n",
    "\n",
    "# part1 = pd.read_csv('part1.csv')\n",
    "# part2 = pd.read_csv('part2.csv')\n",
    "# part3 = pd.read_csv('part3.csv')\n",
    "part4 = pd.read_csv('part4.csv')\n",
    "# part5 = pd.read_csv('part5.csv')\n",
    "# part6 = pd.read_csv('part6.csv')\n",
    "# part7 = pd.read_csv('part7.csv')"
   ]
  },
  {
   "cell_type": "code",
   "execution_count": null,
   "id": "1c9b9001",
   "metadata": {},
   "outputs": [],
   "source": [
    "from transformers import TextClassificationPipeline\n",
    "from transformers import AutoModelForSequenceClassification, TrainingArguments, Trainer\n",
    "import time\n",
    "from transformers import BertTokenizer, BertModel, BertConfig, BertTokenizerFast\n",
    "import pandas as pd\n",
    "import numpy as np\n",
    "\n",
    "# 建立模型\n",
    "new_model = AutoModelForSequenceClassification.from_pretrained(\"./results/checkpoint-224/\", output_attentions=True)\n",
    "new_model.to('cuda')  # 將模型移至GPU\n",
    "\n",
    "#建構一個分詞器使用bert-base-chinese詞庫去分詞，超過max_length會截斷，不夠會padding\n",
    "max_seq_length = 512\n",
    "tokenizer = BertTokenizerFast.from_pretrained('bert-base-chinese',max_length=max_seq_length,padding='max_length', truncation=True)\n",
    "\n",
    "# 載入評論資料\n",
    "df_pre_star = part4\n",
    "\n",
    "# 初始化 PipelineInterface\n",
    "PipelineInterface = TextClassificationPipeline(model=new_model, tokenizer=tokenizer,device=0, return_all_scores=False)\n",
    "\n",
    "#計時開始\n",
    "start_time = time.time()\n",
    "\n",
    "# 進行預測        \n",
    "for i in range(len(df_pre_star[\"rw_review\"])):\n",
    "    text = df_pre_star.loc[i, \"rw_review\"]\n",
    "    if text is np.nan:\n",
    "        df_pre_star.loc[i, \"new_star_label\"] = np.nan\n",
    "    else:\n",
    "        if len(text) > 512:\n",
    "            inputs = tokenizer(text, max_length=512, padding='max_length', truncation=True, return_tensors='pt')\n",
    "            inputs.to('cuda')  # 將輸入資料移到GPU\n",
    "            text = tokenizer.decode(inputs[\"input_ids\"][0], skip_special_tokens=True)\n",
    "        result = PipelineInterface(text)\n",
    "        df_pre_star.loc[i, \"new_star_label\"] = result[0][\"label\"]\n",
    "\n",
    "df_pre_star.to_csv(\"part4_new.csv\", index=None, encoding=\"UTF-8-sig\")\n",
    "print(\"---Done---\")\n",
    "\n",
    "#計時結束\n",
    "end_time = time.time()\n",
    "\n",
    "total_time = end_time - start_time\n",
    "\n",
    "print(\"Total_Time:{:02d}:{:02d}:{:02d}\".format(int(total_time//3600),int((total_time % 3600) // 60),int(total_time % 60)))"
   ]
  },
  {
   "cell_type": "code",
   "execution_count": null,
   "id": "751c7b4f",
   "metadata": {},
   "outputs": [],
   "source": [
    "import pandas as pd\n",
    "\n",
    "# part1 = pd.read_csv('part1_new.csv')\n",
    "# part2 = pd.read_csv('part2_new.csv')\n",
    "# part3 = pd.read_csv('part3_new.csv')\n",
    "# part4 = pd.read_csv('part4_new.csv')\n",
    "# part5 = pd.read_csv('part5_new.csv')\n",
    "# part6 = pd.read_csv('part6_new.csv')\n",
    "# part7 = pd.read_csv('part7_new.csv')"
   ]
  },
  {
   "cell_type": "code",
   "execution_count": null,
   "id": "dcb8b16a",
   "metadata": {},
   "outputs": [],
   "source": [
    "#合併原始dataframe\n",
    "combined_df = pd.concat([part1, part2, part3, part4, part5, part6, part7], ignore_index=True)\n",
    "\n",
    "combined_df.to_csv(\"review_overview_newstar.csv\", index=None, encoding=\"UTF-8-sig\")\n",
    "print(\"---Done---\")"
   ]
  },
  {
   "cell_type": "markdown",
   "id": "73ba5e2a",
   "metadata": {},
   "source": [
    "# 資料處理"
   ]
  },
  {
   "cell_type": "code",
   "execution_count": 1,
   "id": "6ce21a2a",
   "metadata": {},
   "outputs": [
    {
     "name": "stderr",
     "output_type": "stream",
     "text": [
      "C:\\Users\\zxsde\\anaconda3\\envs\\python37\\lib\\site-packages\\IPython\\core\\interactiveshell.py:3457: DtypeWarning: Columns (5,35) have mixed types.Specify dtype option on import or set low_memory=False.\n",
      "  exec(code_obj, self.user_global_ns, self.user_ns)\n"
     ]
    }
   ],
   "source": [
    "import pandas as pd\n",
    "rev_ove = pd.read_csv(\"review_overview.csv\", encoding = \"UTF-8-sig\")\n",
    "rev_ove = rev_ove.dropna(subset = [\"new_star_label\"])"
   ]
  },
  {
   "cell_type": "code",
   "execution_count": 2,
   "id": "06401f52",
   "metadata": {},
   "outputs": [
    {
     "name": "stdout",
     "output_type": "stream",
     "text": [
      "False\n"
     ]
    }
   ],
   "source": [
    "print(rev_ove[\"new_star_label\"].isnull().any())"
   ]
  },
  {
   "cell_type": "code",
   "execution_count": 3,
   "id": "09492658",
   "metadata": {},
   "outputs": [
    {
     "name": "stdout",
     "output_type": "stream",
     "text": [
      "   Unnamed: 0           rw_name      rw_current_time rw_category  \\\n",
      "0           0  125K---石墨烯遠紅外線汗蒸  2023-08-03 13:11:08        旅遊景點   \n",
      "3           3  125K---石墨烯遠紅外線汗蒸  2023-08-03 13:11:08        旅遊景點   \n",
      "4           4  125K---石墨烯遠紅外線汗蒸  2023-08-03 13:11:08        旅遊景點   \n",
      "5           5  125K---石墨烯遠紅外線汗蒸  2023-08-03 13:11:08        旅遊景點   \n",
      "6           6  125K---石墨烯遠紅外線汗蒸  2023-08-03 13:11:08        旅遊景點   \n",
      "\n",
      "               rw_tag rw_tickets_sale  \\\n",
      "0  無障礙入口 無障礙停車場 適合兒童              NaN   \n",
      "3  無障礙入口 無障礙停車場 適合兒童              NaN   \n",
      "4  無障礙入口 無障礙停車場 適合兒童              NaN   \n",
      "5  無障礙入口 無障礙停車場 適合兒童              NaN   \n",
      "6  無障礙入口 無障礙停車場 適合兒童              NaN   \n",
      "\n",
      "                                        rw_open_time  rw_Monday_open  \\\n",
      "0  星期四09:00–17:00 星期五09:00–17:00 星期六09:00–17:00 星...           900.0   \n",
      "3  星期四09:00–17:00 星期五09:00–17:00 星期六09:00–17:00 星...           900.0   \n",
      "4  星期四09:00–17:00 星期五09:00–17:00 星期六09:00–17:00 星...           900.0   \n",
      "5  星期四09:00–17:00 星期五09:00–17:00 星期六09:00–17:00 星...           900.0   \n",
      "6  星期四09:00–17:00 星期五09:00–17:00 星期六09:00–17:00 星...           900.0   \n",
      "\n",
      "   rw_Monday_close  rw_Tuesday_open  ...  \\\n",
      "0           1700.0            900.0  ...   \n",
      "3           1700.0            900.0  ...   \n",
      "4           1700.0            900.0  ...   \n",
      "5           1700.0            900.0  ...   \n",
      "6           1700.0            900.0  ...   \n",
      "\n",
      "                                    rw_reviewer_page  rw_reviewer_tag  \\\n",
      "0  https://www.google.com/maps/contrib/1069408598...    在地嚮導 · 44 則評論   \n",
      "3  https://www.google.com/maps/contrib/1143339907...   在地嚮導 · 412 則評論   \n",
      "4  https://www.google.com/maps/contrib/1127466750...           16 則評論   \n",
      "5  https://www.google.com/maps/contrib/1129474097...   在地嚮導 · 148 則評論   \n",
      "6  https://www.google.com/maps/contrib/1088219620...   在地嚮導 · 315 則評論   \n",
      "\n",
      "   rw_review_time  rw_rating_reviewer  rw_likes  \\\n",
      "0            3 週前                5 顆星       NaN   \n",
      "3            1 年前                5 顆星       NaN   \n",
      "4            1 年前                5 顆星       NaN   \n",
      "5            1 年前                5 顆星       NaN   \n",
      "6            1 年前                4 顆星       NaN   \n",
      "\n",
      "                       rw_review  \\\n",
      "0                 很豐富的產品項，服務很親切    \n",
      "3                  好停車 SPA蒸氣箱超棒    \n",
      "4  大汗淋漓後，通體舒暢，精神倍加，服務親切，值得購票體驗！    \n",
      "5                    值得來逛逛~收穫很多    \n",
      "6                             好    \n",
      "\n",
      "                                      rw_review_word  rw_city  rw_town  \\\n",
      "0                                                NaN      苗栗縣      頭屋鄉   \n",
      "3                                                NaN      苗栗縣      頭屋鄉   \n",
      "4                                                NaN      苗栗縣      頭屋鄉   \n",
      "5  謝謝🙏我們推行康養體驗41年的公司，包括世界藥食茶飲食品非，胺基酸老陳醋、藥浴、石墨烯遠紅外...      苗栗縣      頭屋鄉   \n",
      "6                                                NaN      苗栗縣      頭屋鄉   \n",
      "\n",
      "   new_star_label  \n",
      "0               5  \n",
      "3               5  \n",
      "4               5  \n",
      "5               5  \n",
      "6               1  \n",
      "\n",
      "[5 rows x 39 columns]\n"
     ]
    }
   ],
   "source": [
    "rev_ove[\"new_star_label\"] = rev_ove[\"new_star_label\"].apply(lambda x: int(x.replace(\"顆星\", \"\")))\n",
    "print(rev_ove.head(5))"
   ]
  },
  {
   "cell_type": "code",
   "execution_count": 4,
   "id": "b3b5dcad",
   "metadata": {},
   "outputs": [
    {
     "data": {
      "text/plain": [
       "Index(['Unnamed: 0', 'rw_name', 'rw_current_time', 'rw_category', 'rw_tag',\n",
       "       'rw_tickets_sale', 'rw_open_time', 'rw_Monday_open', 'rw_Monday_close',\n",
       "       'rw_Tuesday_open', 'rw_Tuesday_close', 'rw_Wednesday_open',\n",
       "       'rw_Wednesday_close', 'rw_Thursday_open', 'rw_Thursday_close',\n",
       "       'rw_Friday_open', 'rw_Friday_close', 'rw_Saturday_open',\n",
       "       'rw_Saturday_close', 'rw_Sunday_open', 'rw_Sunday_close', 'rw_latitude',\n",
       "       'rw_longitude', 'rw_introduction', 'rw_rating_total',\n",
       "       'rw_rating_count_total', 'rw_phone', 'rw_address', 'rw_reviewer',\n",
       "       'rw_reviewer_page', 'rw_reviewer_tag', 'rw_review_time',\n",
       "       'rw_rating_reviewer', 'rw_likes', 'rw_review', 'rw_review_word',\n",
       "       'rw_city', 'rw_town', 'new_star_label'],\n",
       "      dtype='object')"
      ]
     },
     "execution_count": 4,
     "metadata": {},
     "output_type": "execute_result"
    }
   ],
   "source": [
    "rev_ove.columns"
   ]
  },
  {
   "cell_type": "code",
   "execution_count": 5,
   "id": "a3fd7f59",
   "metadata": {
    "scrolled": true
   },
   "outputs": [
    {
     "data": {
      "text/html": [
       "<div>\n",
       "<style scoped>\n",
       "    .dataframe tbody tr th:only-of-type {\n",
       "        vertical-align: middle;\n",
       "    }\n",
       "\n",
       "    .dataframe tbody tr th {\n",
       "        vertical-align: top;\n",
       "    }\n",
       "\n",
       "    .dataframe thead th {\n",
       "        text-align: right;\n",
       "    }\n",
       "</style>\n",
       "<table border=\"1\" class=\"dataframe\">\n",
       "  <thead>\n",
       "    <tr style=\"text-align: right;\">\n",
       "      <th></th>\n",
       "      <th>rw_name</th>\n",
       "      <th>count</th>\n",
       "    </tr>\n",
       "  </thead>\n",
       "  <tbody>\n",
       "    <tr>\n",
       "      <th>0</th>\n",
       "      <td>全地型沙灘車 立式划槳 - 臺東 太麻里 ATV &amp; SUP Taitung TaiMaLi...</td>\n",
       "      <td>1572</td>\n",
       "    </tr>\n",
       "    <tr>\n",
       "      <th>1</th>\n",
       "      <td>仁愛鄉清境創始店Cona's 妮娜巧克力｜世界得獎143面、獨家專利、冠軍巧克力</td>\n",
       "      <td>1253</td>\n",
       "    </tr>\n",
       "    <tr>\n",
       "      <th>2</th>\n",
       "      <td>無口小廚 Mukuchi Kitchen &amp; Bar</td>\n",
       "      <td>1227</td>\n",
       "    </tr>\n",
       "    <tr>\n",
       "      <th>3</th>\n",
       "      <td>淨園農場(婚禮、派對場地)</td>\n",
       "      <td>791</td>\n",
       "    </tr>\n",
       "    <tr>\n",
       "      <th>4</th>\n",
       "      <td>淡水情人塔 Lover's Tower</td>\n",
       "      <td>762</td>\n",
       "    </tr>\n",
       "    <tr>\n",
       "      <th>...</th>\n",
       "      <td>...</td>\n",
       "      <td>...</td>\n",
       "    </tr>\n",
       "    <tr>\n",
       "      <th>6061</th>\n",
       "      <td>石德公園</td>\n",
       "      <td>1</td>\n",
       "    </tr>\n",
       "    <tr>\n",
       "      <th>6062</th>\n",
       "      <td>鹽水大和行</td>\n",
       "      <td>1</td>\n",
       "    </tr>\n",
       "    <tr>\n",
       "      <th>6063</th>\n",
       "      <td>海賊糧倉</td>\n",
       "      <td>1</td>\n",
       "    </tr>\n",
       "    <tr>\n",
       "      <th>6064</th>\n",
       "      <td>山仔腳木棉道</td>\n",
       "      <td>1</td>\n",
       "    </tr>\n",
       "    <tr>\n",
       "      <th>6065</th>\n",
       "      <td>鹽水中正路建築立面</td>\n",
       "      <td>1</td>\n",
       "    </tr>\n",
       "  </tbody>\n",
       "</table>\n",
       "<p>6066 rows × 2 columns</p>\n",
       "</div>"
      ],
      "text/plain": [
       "                                                rw_name  count\n",
       "0     全地型沙灘車 立式划槳 - 臺東 太麻里 ATV & SUP Taitung TaiMaLi...   1572\n",
       "1              仁愛鄉清境創始店Cona's 妮娜巧克力｜世界得獎143面、獨家專利、冠軍巧克力   1253\n",
       "2                            無口小廚 Mukuchi Kitchen & Bar   1227\n",
       "3                                         淨園農場(婚禮、派對場地)    791\n",
       "4                                   淡水情人塔 Lover's Tower    762\n",
       "...                                                 ...    ...\n",
       "6061                                               石德公園      1\n",
       "6062                                              鹽水大和行      1\n",
       "6063                                               海賊糧倉      1\n",
       "6064                                             山仔腳木棉道      1\n",
       "6065                                          鹽水中正路建築立面      1\n",
       "\n",
       "[6066 rows x 2 columns]"
      ]
     },
     "execution_count": 5,
     "metadata": {},
     "output_type": "execute_result"
    }
   ],
   "source": [
    "counts = rev_ove[\"rw_name\"].value_counts().reset_index()\n",
    "counts.columns = [\"rw_name\", \"count\"]\n",
    "counts"
   ]
  },
  {
   "cell_type": "code",
   "execution_count": 6,
   "id": "daf79cf6",
   "metadata": {},
   "outputs": [
    {
     "data": {
      "text/html": [
       "<div>\n",
       "<style scoped>\n",
       "    .dataframe tbody tr th:only-of-type {\n",
       "        vertical-align: middle;\n",
       "    }\n",
       "\n",
       "    .dataframe tbody tr th {\n",
       "        vertical-align: top;\n",
       "    }\n",
       "\n",
       "    .dataframe thead th {\n",
       "        text-align: right;\n",
       "    }\n",
       "</style>\n",
       "<table border=\"1\" class=\"dataframe\">\n",
       "  <thead>\n",
       "    <tr style=\"text-align: right;\">\n",
       "      <th></th>\n",
       "      <th>rw_name</th>\n",
       "      <th>count</th>\n",
       "    </tr>\n",
       "  </thead>\n",
       "  <tbody>\n",
       "    <tr>\n",
       "      <th>0</th>\n",
       "      <td>全地型沙灘車 立式划槳 - 臺東 太麻里 ATV &amp; SUP Taitung TaiMaLi...</td>\n",
       "      <td>1572</td>\n",
       "    </tr>\n",
       "    <tr>\n",
       "      <th>1</th>\n",
       "      <td>仁愛鄉清境創始店Cona's 妮娜巧克力｜世界得獎143面、獨家專利、冠軍巧克力</td>\n",
       "      <td>1253</td>\n",
       "    </tr>\n",
       "    <tr>\n",
       "      <th>2</th>\n",
       "      <td>無口小廚 Mukuchi Kitchen &amp; Bar</td>\n",
       "      <td>1227</td>\n",
       "    </tr>\n",
       "    <tr>\n",
       "      <th>3</th>\n",
       "      <td>淨園農場(婚禮、派對場地)</td>\n",
       "      <td>791</td>\n",
       "    </tr>\n",
       "    <tr>\n",
       "      <th>4</th>\n",
       "      <td>淡水情人塔 Lover's Tower</td>\n",
       "      <td>762</td>\n",
       "    </tr>\n",
       "    <tr>\n",
       "      <th>...</th>\n",
       "      <td>...</td>\n",
       "      <td>...</td>\n",
       "    </tr>\n",
       "    <tr>\n",
       "      <th>5059</th>\n",
       "      <td>小坪頂山</td>\n",
       "      <td>30</td>\n",
       "    </tr>\n",
       "    <tr>\n",
       "      <th>5060</th>\n",
       "      <td>金龍窯</td>\n",
       "      <td>30</td>\n",
       "    </tr>\n",
       "    <tr>\n",
       "      <th>5061</th>\n",
       "      <td>獅潭護魚步道</td>\n",
       "      <td>30</td>\n",
       "    </tr>\n",
       "    <tr>\n",
       "      <th>5062</th>\n",
       "      <td>海蛙石</td>\n",
       "      <td>30</td>\n",
       "    </tr>\n",
       "    <tr>\n",
       "      <th>5063</th>\n",
       "      <td>吳鳳故居</td>\n",
       "      <td>30</td>\n",
       "    </tr>\n",
       "  </tbody>\n",
       "</table>\n",
       "<p>5064 rows × 2 columns</p>\n",
       "</div>"
      ],
      "text/plain": [
       "                                                rw_name  count\n",
       "0     全地型沙灘車 立式划槳 - 臺東 太麻里 ATV & SUP Taitung TaiMaLi...   1572\n",
       "1              仁愛鄉清境創始店Cona's 妮娜巧克力｜世界得獎143面、獨家專利、冠軍巧克力   1253\n",
       "2                            無口小廚 Mukuchi Kitchen & Bar   1227\n",
       "3                                         淨園農場(婚禮、派對場地)    791\n",
       "4                                   淡水情人塔 Lover's Tower    762\n",
       "...                                                 ...    ...\n",
       "5059                                               小坪頂山     30\n",
       "5060                                                金龍窯     30\n",
       "5061                                             獅潭護魚步道     30\n",
       "5062                                                海蛙石     30\n",
       "5063                                               吳鳳故居     30\n",
       "\n",
       "[5064 rows x 2 columns]"
      ]
     },
     "execution_count": 6,
     "metadata": {},
     "output_type": "execute_result"
    }
   ],
   "source": [
    "counts_new = counts[counts[\"count\"]>=30]\n",
    "counts_new"
   ]
  },
  {
   "cell_type": "code",
   "execution_count": 7,
   "id": "744f1bf9",
   "metadata": {},
   "outputs": [],
   "source": [
    "rev_ove_new = pd.merge(rev_ove, counts_new, on=\"rw_name\", how=\"inner\")\n",
    "rev_ove_new2 = rev_ove_new[[\"rw_name\",\"new_star_label\"]]"
   ]
  },
  {
   "cell_type": "code",
   "execution_count": 8,
   "id": "e894b724",
   "metadata": {},
   "outputs": [
    {
     "name": "stdout",
     "output_type": "stream",
     "text": [
      "                       rw_name  new_star_label\n",
      "index_column                                  \n",
      "0             125K---石墨烯遠紅外線汗蒸               2\n",
      "1             125K---石墨烯遠紅外線汗蒸               2\n",
      "2             125K---石墨烯遠紅外線汗蒸               4\n",
      "3             125K---石墨烯遠紅外線汗蒸               5\n",
      "4             125K---石墨烯遠紅外線汗蒸               3\n",
      "...                        ...             ...\n",
      "151915                𩻸魚堀溪觀魚步道               5\n",
      "151916                𩻸魚堀溪觀魚步道               5\n",
      "151917                𩻸魚堀溪觀魚步道               5\n",
      "151918                𩻸魚堀溪觀魚步道               5\n",
      "151919                𩻸魚堀溪觀魚步道               5\n",
      "\n",
      "[151920 rows x 2 columns]\n"
     ]
    }
   ],
   "source": [
    "import numpy as np\n",
    "\n",
    "def random_sample(group):\n",
    "    return group.sample(30, replace=False)\n",
    "\n",
    "result = rev_ove_new2.groupby(\"rw_name\").apply(random_sample)\n",
    "result[\"index_column\"] = range(len(result))\n",
    "result.set_index(\"index_column\", inplace=True)\n",
    "print(result)"
   ]
  },
  {
   "cell_type": "code",
   "execution_count": 9,
   "id": "23730cbf",
   "metadata": {
    "scrolled": true
   },
   "outputs": [],
   "source": [
    "result_mean = result.groupby('rw_name')['new_star_label'].mean().round(1).reset_index()"
   ]
  },
  {
   "cell_type": "code",
   "execution_count": 10,
   "id": "3a23d2d0",
   "metadata": {},
   "outputs": [
    {
     "name": "stdout",
     "output_type": "stream",
     "text": [
      "            rw_name  new_star_label\n",
      "0  125K---石墨烯遠紅外線汗蒸             3.3\n",
      "1           140高地公園             3.9\n",
      "2        167咖啡 海銀花園             4.6\n",
      "3      1895乙未保台紀念公園             4.4\n",
      "4    1895八卦山抗日保台史蹟館             3.2\n",
      "5064\n"
     ]
    }
   ],
   "source": [
    "print(result_mean.head(5))\n",
    "print(len(result_mean))"
   ]
  },
  {
   "cell_type": "code",
   "execution_count": 11,
   "id": "007ddcf6",
   "metadata": {},
   "outputs": [
    {
     "name": "stdout",
     "output_type": "stream",
     "text": [
      "            rw_name  new_star_label  good  neutral  bad\n",
      "0  125K---石墨烯遠紅外線汗蒸             3.3    15        5   10\n",
      "1           140高地公園             3.9    19       10    1\n",
      "2        167咖啡 海銀花園             4.6    28        2    0\n",
      "3      1895乙未保台紀念公園             4.4    26        2    2\n",
      "4    1895八卦山抗日保台史蹟館             3.2    12        8   10\n",
      "5064\n"
     ]
    }
   ],
   "source": [
    "recommend_count = result[result[\"new_star_label\"] > 3].groupby('rw_name')['new_star_label'].count().reset_index()\n",
    "recommend_count.rename(columns={'new_star_label': 'good'}, inplace=True)\n",
    "result_mean = result_mean.merge(recommend_count, on='rw_name', how='left')\n",
    "result_mean['good'].fillna(int(0), inplace=True)\n",
    "\n",
    "recommend_count = result[result[\"new_star_label\"] == 3].groupby('rw_name')['new_star_label'].count().reset_index()\n",
    "recommend_count.rename(columns={'new_star_label': 'neutral'}, inplace=True)\n",
    "result_mean = result_mean.merge(recommend_count, on='rw_name', how='left')\n",
    "result_mean['neutral'].fillna(int(0), inplace=True)\n",
    "\n",
    "recommend_count = result[result[\"new_star_label\"] < 3].groupby('rw_name')['new_star_label'].count().reset_index()\n",
    "recommend_count.rename(columns={'new_star_label': 'bad'}, inplace=True)\n",
    "result_mean = result_mean.merge(recommend_count, on='rw_name', how='left')\n",
    "result_mean['bad'].fillna(int(0), inplace=True)\n",
    "\n",
    "result_mean[\"good\"] = result_mean[\"good\"].astype(int)\n",
    "result_mean[\"neutral\"] = result_mean[\"neutral\"].astype(int)\n",
    "result_mean[\"bad\"] = result_mean[\"bad\"].astype(int)\n",
    "print(result_mean.head(5))\n",
    "print(len(result_mean))"
   ]
  },
  {
   "cell_type": "code",
   "execution_count": 12,
   "id": "2f704c5a",
   "metadata": {},
   "outputs": [
    {
     "name": "stdout",
     "output_type": "stream",
     "text": [
      "      Unnamed: 0      keyword                name         current_time  \\\n",
      "0              0  南投縣中寮鄉 景點推薦  中寮劉家梅園休園（一期一會明年再見）  2023-08-02 18:35:21   \n",
      "1              1  南投縣中寮鄉 景點推薦             剝皮寮歷史街區  2023-08-02 18:35:21   \n",
      "2              2  南投縣中寮鄉 景點推薦              仙洞坪棋盤石  2023-08-02 18:35:21   \n",
      "3              3  南投縣中寮鄉 景點推薦               中寮石龍宮  2023-08-02 18:35:21   \n",
      "4              4  南投縣中寮鄉 景點推薦              南投龍鳳瀑布  2023-08-02 18:35:21   \n",
      "...          ...          ...                 ...                  ...   \n",
      "5979        6070  高雄市鼓山區 景點推薦              內惟李氏祖厝  2023-08-08 18:40:56   \n",
      "5980        6071  高雄市鼓山區 景點推薦             萬壽山龍泉禪寺  2023-08-08 18:40:56   \n",
      "5981        6072  高雄市鼓山區 景點推薦                 少女峰  2023-08-08 18:40:56   \n",
      "5982        6073  高雄市鼓山區 景點推薦              打鼓岩元亨寺  2023-08-08 18:40:56   \n",
      "5983        6074  高雄市鼓山區 景點推薦               鼓山地嶽殿  2023-08-08 18:40:56   \n",
      "\n",
      "      rating  rating_count category     address             introduce  \\\n",
      "0        4.3           125     旅遊景點      頂坑巷12號                   NaN   \n",
      "1        4.2         12238     歷史建築     康定路173巷        18 世紀房屋林立的城市街區   \n",
      "2        3.6            84     旅遊景點         NaN               24 小時營業   \n",
      "3        4.6          3731       寺廟   龍南路303-9號           河畔的道教信徒朝聖寺廟   \n",
      "4        4.0          1437     旅遊景點         65號              有觀景台的小瀑布   \n",
      "...      ...           ...      ...         ...                   ...   \n",
      "5979     4.3            12     旅遊景點     內惟路365號                   NaN   \n",
      "5980     4.3           797     旅遊景點  鼓山三路51巷59號                   NaN   \n",
      "5981     4.6           221     旅遊景點         NaN               24 小時營業   \n",
      "5982     4.4          2692     旅遊景點       元亨街7號  已打烊 ⋅ 開始營業時間：週三08:00   \n",
      "5983     4.7           254     旅遊景點  河川街103巷20號    營業中 ⋅ 結束營業時間：21:00   \n",
      "\n",
      "                                                Website  ... rw_Sunday_open  \\\n",
      "0     https://www.google.com/maps/place/%E4%B8%AD%E5...  ...            NaN   \n",
      "1     https://www.google.com/maps/place/%E5%89%9D%E7...  ...          900.0   \n",
      "2     https://www.google.com/maps/place/%E4%BB%99%E6...  ...            0.0   \n",
      "3     https://www.google.com/maps/place/%E4%B8%AD%E5...  ...            0.0   \n",
      "4     https://www.google.com/maps/place/%E5%8D%97%E6...  ...            NaN   \n",
      "...                                                 ...  ...            ...   \n",
      "5979  https://www.google.com/maps/place/%E5%85%A7%E6...  ...            NaN   \n",
      "5980  https://www.google.com/maps/place/%E8%90%AC%E5...  ...            NaN   \n",
      "5981  https://www.google.com/maps/place/%E5%B0%91%E5...  ...            0.0   \n",
      "5982  https://www.google.com/maps/place/%E6%89%93%E9...  ...          800.0   \n",
      "5983  https://www.google.com/maps/place/%E9%BC%93%E5...  ...          700.0   \n",
      "\n",
      "      rw_Sunday_close                   rw_introduction      rw_phone  \\\n",
      "0                 NaN                               NaN  0983 756 921   \n",
      "1              1800.0  具歷史意義的城市街區，坐擁 18 世紀傳統建築群，另有教育中心。  02 2302 3199   \n",
      "2              2400.0                               NaN           NaN   \n",
      "3              2400.0      坐落於河谷間的熱門道教聖地，以免費提供麵食給遊客而聞名。  04 9260 2087   \n",
      "4                 NaN        風景優美的地方，有小瀑布和架在樹上的 U 型觀景台。           NaN   \n",
      "...               ...                               ...           ...   \n",
      "5979              NaN                               NaN           NaN   \n",
      "5980              NaN                               NaN   07 521 7261   \n",
      "5981           2400.0                               NaN   07 262 0610   \n",
      "5982           1100.0                               NaN   07 521 3236   \n",
      "5983           2100.0                               NaN   07 551 9629   \n",
      "\n",
      "               rw_address rw_city rw_town  stay_time_min  \\\n",
      "0         541南投縣中寮鄉頂坑巷12號     南投縣     中寮鄉            NaN   \n",
      "1        108台北市萬華區康定路173巷     台北市     萬華區            NaN   \n",
      "2               541南投縣中寮鄉     南投縣     中寮鄉            NaN   \n",
      "3      541南投縣中寮鄉龍南路303-9號     南投縣     中寮鄉            NaN   \n",
      "4            541南投縣中寮鄉65號     南投縣     中寮鄉            NaN   \n",
      "...                   ...     ...     ...            ...   \n",
      "5979     804高雄市鼓山區內惟路365號     高雄市     鼓山區            NaN   \n",
      "5980  804高雄市鼓山區鼓山三路51巷59號     高雄市     鼓山區            NaN   \n",
      "5981            804高雄市鼓山區     高雄市     鼓山區            NaN   \n",
      "5982       804高雄市鼓山區元亨街7號     高雄市     鼓山區            NaN   \n",
      "5983  804高雄市鼓山區河川街103巷20號     高雄市     鼓山區            NaN   \n",
      "\n",
      "                                  weekday_opentime_dict           is_open_list  \n",
      "0                                                   NaN                    NaN  \n",
      "1     {'星期一': [], '星期二': ['09:00–18:00'], '星期三': ['0...  [0, 1, 1, 1, 1, 1, 1]  \n",
      "2     {'星期一': ['00:00–23:59'], '星期二': ['00:00–23:59'...  [1, 1, 1, 1, 1, 1, 1]  \n",
      "3     {'星期一': ['00:00–23:59'], '星期二': ['00:00–23:59'...  [1, 1, 1, 1, 1, 1, 1]  \n",
      "4                                                   NaN                    NaN  \n",
      "...                                                 ...                    ...  \n",
      "5979                                                NaN                    NaN  \n",
      "5980                                                NaN                    NaN  \n",
      "5981  {'星期一': ['00:00–23:59'], '星期二': ['00:00–23:59'...  [1, 1, 1, 1, 1, 1, 1]  \n",
      "5982  {'星期一': ['08:00–11:00', '14:00–17:00'], '星期二':...  [1, 1, 1, 1, 1, 1, 1]  \n",
      "5983  {'星期一': ['07:00–21:00'], '星期二': ['07:00–21:00'...  [1, 1, 1, 1, 1, 1, 1]  \n",
      "\n",
      "[5984 rows x 39 columns]\n"
     ]
    }
   ],
   "source": [
    "search_clear = pd.read_csv(\"search_clear.csv\", encoding = \"UTF-8-sig\")\n",
    "print(search_clear)"
   ]
  },
  {
   "cell_type": "code",
   "execution_count": 13,
   "id": "500f1cfc",
   "metadata": {},
   "outputs": [
    {
     "name": "stdout",
     "output_type": "stream",
     "text": [
      "      Unnamed: 0      keyword     name         current_time  rating  \\\n",
      "0              1  南投縣中寮鄉 景點推薦  剝皮寮歷史街區  2023-08-02 18:35:21     4.2   \n",
      "1              2  南投縣中寮鄉 景點推薦   仙洞坪棋盤石  2023-08-02 18:35:21     3.6   \n",
      "2              3  南投縣中寮鄉 景點推薦    中寮石龍宮  2023-08-02 18:35:21     4.6   \n",
      "3              4  南投縣中寮鄉 景點推薦   南投龍鳳瀑布  2023-08-02 18:35:21     4.0   \n",
      "4              5  南投縣中寮鄉 景點推薦    仙峰日月洞  2023-08-02 18:35:21     3.9   \n",
      "...          ...          ...      ...                  ...     ...   \n",
      "4713        6069  高雄市鼓山區 景點推薦  一號船渠景觀橋  2023-08-08 18:40:56     4.2   \n",
      "4714        6071  高雄市鼓山區 景點推薦  萬壽山龍泉禪寺  2023-08-08 18:40:56     4.3   \n",
      "4715        6072  高雄市鼓山區 景點推薦      少女峰  2023-08-08 18:40:56     4.6   \n",
      "4716        6073  高雄市鼓山區 景點推薦   打鼓岩元亨寺  2023-08-08 18:40:56     4.4   \n",
      "4717        6074  高雄市鼓山區 景點推薦    鼓山地嶽殿  2023-08-08 18:40:56     4.7   \n",
      "\n",
      "      rating_count category     address             introduce  \\\n",
      "0            12238     歷史建築     康定路173巷        18 世紀房屋林立的城市街區   \n",
      "1               84     旅遊景點         NaN               24 小時營業   \n",
      "2             3731       寺廟   龍南路303-9號           河畔的道教信徒朝聖寺廟   \n",
      "3             1437     旅遊景點         65號              有觀景台的小瀑布   \n",
      "4              156     旅遊景點    仙峰巷27之1號                   NaN   \n",
      "...            ...      ...         ...                   ...   \n",
      "4713           571       橋樑      哨船街30號               24 小時營業   \n",
      "4714           797     旅遊景點  鼓山三路51巷59號                   NaN   \n",
      "4715           221     旅遊景點         NaN               24 小時營業   \n",
      "4716          2692     旅遊景點       元亨街7號  已打烊 ⋅ 開始營業時間：週三08:00   \n",
      "4717           254     旅遊景點  河川街103巷20號    營業中 ⋅ 結束營業時間：21:00   \n",
      "\n",
      "                                                Website  ...  \\\n",
      "0     https://www.google.com/maps/place/%E5%89%9D%E7...  ...   \n",
      "1     https://www.google.com/maps/place/%E4%BB%99%E6...  ...   \n",
      "2     https://www.google.com/maps/place/%E4%B8%AD%E5...  ...   \n",
      "3     https://www.google.com/maps/place/%E5%8D%97%E6...  ...   \n",
      "4     https://www.google.com/maps/place/%E4%BB%99%E5...  ...   \n",
      "...                                                 ...  ...   \n",
      "4713  https://www.google.com/maps/place/%E4%B8%80%E8...  ...   \n",
      "4714  https://www.google.com/maps/place/%E8%90%AC%E5...  ...   \n",
      "4715  https://www.google.com/maps/place/%E5%B0%91%E5...  ...   \n",
      "4716  https://www.google.com/maps/place/%E6%89%93%E9...  ...   \n",
      "4717  https://www.google.com/maps/place/%E9%BC%93%E5...  ...   \n",
      "\n",
      "               rw_address  rw_city  rw_town stay_time_min  \\\n",
      "0        108台北市萬華區康定路173巷      台北市      萬華區           NaN   \n",
      "1               541南投縣中寮鄉      南投縣      中寮鄉           NaN   \n",
      "2      541南投縣中寮鄉龍南路303-9號      南投縣      中寮鄉           NaN   \n",
      "3            541南投縣中寮鄉65號      南投縣      中寮鄉           NaN   \n",
      "4       541南投縣中寮鄉仙峰巷27之1號      南投縣      中寮鄉           NaN   \n",
      "...                   ...      ...      ...           ...   \n",
      "4713      804高雄市鼓山區哨船街30號      高雄市      鼓山區           NaN   \n",
      "4714  804高雄市鼓山區鼓山三路51巷59號      高雄市      鼓山區           NaN   \n",
      "4715            804高雄市鼓山區      高雄市      鼓山區           NaN   \n",
      "4716       804高雄市鼓山區元亨街7號      高雄市      鼓山區           NaN   \n",
      "4717  804高雄市鼓山區河川街103巷20號      高雄市      鼓山區           NaN   \n",
      "\n",
      "                                  weekday_opentime_dict  \\\n",
      "0     {'星期一': [], '星期二': ['09:00–18:00'], '星期三': ['0...   \n",
      "1     {'星期一': ['00:00–23:59'], '星期二': ['00:00–23:59'...   \n",
      "2     {'星期一': ['00:00–23:59'], '星期二': ['00:00–23:59'...   \n",
      "3                                                   NaN   \n",
      "4                                                   NaN   \n",
      "...                                                 ...   \n",
      "4713  {'星期一': ['00:00–23:59'], '星期二': ['00:00–23:59'...   \n",
      "4714                                                NaN   \n",
      "4715  {'星期一': ['00:00–23:59'], '星期二': ['00:00–23:59'...   \n",
      "4716  {'星期一': ['08:00–11:00', '14:00–17:00'], '星期二':...   \n",
      "4717  {'星期一': ['07:00–21:00'], '星期二': ['07:00–21:00'...   \n",
      "\n",
      "               is_open_list new_star_label  good  neutral  bad  \n",
      "0     [0, 1, 1, 1, 1, 1, 1]            3.9    20        6    4  \n",
      "1     [1, 1, 1, 1, 1, 1, 1]            3.1    12        9    9  \n",
      "2     [1, 1, 1, 1, 1, 1, 1]            4.1    22        5    3  \n",
      "3                       NaN            3.7    18        6    6  \n",
      "4                       NaN            3.3    12        9    9  \n",
      "...                     ...            ...   ...      ...  ...  \n",
      "4713  [1, 1, 1, 1, 1, 1, 1]            4.5    27        0    3  \n",
      "4714                    NaN            4.0    21        8    1  \n",
      "4715  [1, 1, 1, 1, 1, 1, 1]            3.3    14        7    9  \n",
      "4716  [1, 1, 1, 1, 1, 1, 1]            3.7    16       11    3  \n",
      "4717  [1, 1, 1, 1, 1, 1, 1]            4.4    24        6    0  \n",
      "\n",
      "[4718 rows x 43 columns]\n"
     ]
    }
   ],
   "source": [
    "new_search_clear = search_clear.merge(result_mean, left_on=\"name\", right_on=\"rw_name\", how=\"inner\")\n",
    "new_search_clear = new_search_clear.drop(\"rw_name\", axis=1)\n",
    "print(new_search_clear)"
   ]
  },
  {
   "cell_type": "code",
   "execution_count": 14,
   "id": "4b4d3cf3",
   "metadata": {},
   "outputs": [
    {
     "name": "stdout",
     "output_type": "stream",
     "text": [
      "---Done---\n"
     ]
    }
   ],
   "source": [
    "new_search_clear.to_csv(\"new_search_clear.csv\", index=None, encoding=\"UTF-8-sig\")\n",
    "print(\"---Done---\")"
   ]
  },
  {
   "cell_type": "code",
   "execution_count": 45,
   "id": "78c10fd8",
   "metadata": {},
   "outputs": [
    {
     "data": {
      "image/png": "[encoded data removed]",
      "text/plain": [
       "<Figure size 640x480 with 1 Axes>"
      ]
     },
     "metadata": {},
     "output_type": "display_data"
    }
   ],
   "source": [
    "import matplotlib.pyplot as plt\n",
    "import numpy as np\n",
    "from scipy.stats import norm\n",
    "\n",
    "df_search = pd.read_csv(\"new_search_clear.csv\", encoding = \"UTF-8-sig\")\n",
    "data1 = df_search[\"rating\"]\n",
    "data2 = df_search[\"new_star_label\"]\n",
    "\n",
    "bins1 = sorted(data1.unique())\n",
    "bins2 = sorted(data2.unique())\n",
    "\n",
    "plt.hist(data1, bins=bins1, edgecolor='black', color='blue', alpha=0.3, label=\"origin\")\n",
    "plt.hist(data2, bins=bins2, edgecolor='black', color='red', alpha=0.3, label='new')\n",
    "\n",
    "plt.xlabel('stars')\n",
    "plt.ylabel('nums')\n",
    "plt.title('Histogram')\n",
    "\n",
    "y_values = [100, 200, 300, 400, 500, 600, 700]\n",
    "for y_value in y_values:\n",
    "    plt.axhline(y_value, color='black', linestyle='--', alpha=0.1)\n",
    "    \n",
    "bins2.append(5.0)\n",
    "plt.xticks(bins2, [f'{val:.1f}' for val in bins2], rotation=45)\n",
    "\n",
    "plt.legend()\n",
    "plt.show()"
   ]
  },
  {
   "cell_type": "code",
   "execution_count": 4,
   "id": "5f32b885",
   "metadata": {},
   "outputs": [
    {
     "name": "stdout",
     "output_type": "stream",
     "text": [
      "---Done---\n"
     ]
    }
   ],
   "source": [
    "import pandas as pd\n",
    "\n",
    "df_search = pd.read_csv(\"new_search_clear.csv\", encoding = \"UTF-8-sig\")\n",
    "df_search.to_excel('new_search_clear.xlsx', index=False, encoding = \"UTF-8-sig\")\n",
    "\n",
    "# df_search = pd.read_csv(\"new_review_overview.csv\", encoding = \"UTF-8-sig\")\n",
    "# df_search.to_excel('new_review_overview.xlsx', index=False, encoding = \"UTF-8-sig\")\n",
    "print(\"---Done---\")"
   ]
  }
 ],
 "metadata": {
  "kernelspec": {
   "display_name": "Python 3 (ipykernel)",
   "language": "python",
   "name": "python3"
  },
  "language_info": {
   "codemirror_mode": {
    "name": "ipython",
    "version": 3
   },
   "file_extension": ".py",
   "mimetype": "text/x-python",
   "name": "python",
   "nbconvert_exporter": "python",
   "pygments_lexer": "ipython3",
   "version": "3.7.16"
  }
 },
 "nbformat": 4,
 "nbformat_minor": 5
}
