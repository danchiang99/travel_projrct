{
 "cells": [
  {
   "cell_type": "code",
   "execution_count": 38,
   "metadata": {},
   "outputs": [],
   "source": [
    "import pandas as pd\n",
    "from sklearn.linear_model import LinearRegression\n",
    "from sklearn.model_selection import train_test_split\n",
    "import numpy as np"
   ]
  },
  {
   "cell_type": "code",
   "execution_count": 39,
   "metadata": {},
   "outputs": [
    {
     "data": {
      "text/html": [
       "<div>\n",
       "<style scoped>\n",
       "    .dataframe tbody tr th:only-of-type {\n",
       "        vertical-align: middle;\n",
       "    }\n",
       "\n",
       "    .dataframe tbody tr th {\n",
       "        vertical-align: top;\n",
       "    }\n",
       "\n",
       "    .dataframe thead th {\n",
       "        text-align: right;\n",
       "    }\n",
       "</style>\n",
       "<table border=\"1\" class=\"dataframe\">\n",
       "  <thead>\n",
       "    <tr style=\"text-align: right;\">\n",
       "      <th></th>\n",
       "      <th>keyword</th>\n",
       "      <th>name</th>\n",
       "      <th>current_time</th>\n",
       "      <th>rating</th>\n",
       "      <th>rating_count</th>\n",
       "      <th>category</th>\n",
       "      <th>address</th>\n",
       "      <th>introduce</th>\n",
       "      <th>Website</th>\n",
       "      <th>img</th>\n",
       "      <th>...</th>\n",
       "      <th>rw_address</th>\n",
       "      <th>rw_city</th>\n",
       "      <th>rw_town</th>\n",
       "      <th>stay_time_min</th>\n",
       "      <th>weekday_opentime_dict</th>\n",
       "      <th>is_open_list</th>\n",
       "      <th>new_star_label</th>\n",
       "      <th>good</th>\n",
       "      <th>neutral</th>\n",
       "      <th>bad</th>\n",
       "    </tr>\n",
       "  </thead>\n",
       "  <tbody>\n",
       "    <tr>\n",
       "      <th>0</th>\n",
       "      <td>南投縣中寮鄉 景點推薦</td>\n",
       "      <td>剝皮寮歷史街區</td>\n",
       "      <td>2023-08-02 18:35:21</td>\n",
       "      <td>4.2</td>\n",
       "      <td>12238</td>\n",
       "      <td>歷史建築</td>\n",
       "      <td>康定路173巷</td>\n",
       "      <td>18 世紀房屋林立的城市街區</td>\n",
       "      <td>https://www.google.com/maps/place/%E5%89%9D%E7...</td>\n",
       "      <td>https://lh5.googleusercontent.com/p/AF1QipP-Th...</td>\n",
       "      <td>...</td>\n",
       "      <td>108台北市萬華區康定路173巷</td>\n",
       "      <td>台北市</td>\n",
       "      <td>萬華區</td>\n",
       "      <td>NaN</td>\n",
       "      <td>{'星期一': [], '星期二': ['09:00–18:00'], '星期三': ['0...</td>\n",
       "      <td>[0, 1, 1, 1, 1, 1, 1]</td>\n",
       "      <td>3.9</td>\n",
       "      <td>20</td>\n",
       "      <td>6</td>\n",
       "      <td>4</td>\n",
       "    </tr>\n",
       "    <tr>\n",
       "      <th>1</th>\n",
       "      <td>南投縣中寮鄉 景點推薦</td>\n",
       "      <td>仙洞坪棋盤石</td>\n",
       "      <td>2023-08-02 18:35:21</td>\n",
       "      <td>3.6</td>\n",
       "      <td>84</td>\n",
       "      <td>旅遊景點</td>\n",
       "      <td>NaN</td>\n",
       "      <td>24 小時營業</td>\n",
       "      <td>https://www.google.com/maps/place/%E4%BB%99%E6...</td>\n",
       "      <td>https://lh5.googleusercontent.com/p/AF1QipP1js...</td>\n",
       "      <td>...</td>\n",
       "      <td>541南投縣中寮鄉</td>\n",
       "      <td>南投縣</td>\n",
       "      <td>中寮鄉</td>\n",
       "      <td>NaN</td>\n",
       "      <td>{'星期一': ['00:00–23:59'], '星期二': ['00:00–23:59'...</td>\n",
       "      <td>[1, 1, 1, 1, 1, 1, 1]</td>\n",
       "      <td>3.1</td>\n",
       "      <td>12</td>\n",
       "      <td>9</td>\n",
       "      <td>9</td>\n",
       "    </tr>\n",
       "    <tr>\n",
       "      <th>2</th>\n",
       "      <td>南投縣中寮鄉 景點推薦</td>\n",
       "      <td>中寮石龍宮</td>\n",
       "      <td>2023-08-02 18:35:21</td>\n",
       "      <td>4.6</td>\n",
       "      <td>3731</td>\n",
       "      <td>寺廟</td>\n",
       "      <td>龍南路303-9號</td>\n",
       "      <td>河畔的道教信徒朝聖寺廟</td>\n",
       "      <td>https://www.google.com/maps/place/%E4%B8%AD%E5...</td>\n",
       "      <td>https://lh5.googleusercontent.com/p/AF1QipOmSJ...</td>\n",
       "      <td>...</td>\n",
       "      <td>541南投縣中寮鄉龍南路303-9號</td>\n",
       "      <td>南投縣</td>\n",
       "      <td>中寮鄉</td>\n",
       "      <td>NaN</td>\n",
       "      <td>{'星期一': ['00:00–23:59'], '星期二': ['00:00–23:59'...</td>\n",
       "      <td>[1, 1, 1, 1, 1, 1, 1]</td>\n",
       "      <td>4.1</td>\n",
       "      <td>22</td>\n",
       "      <td>5</td>\n",
       "      <td>3</td>\n",
       "    </tr>\n",
       "  </tbody>\n",
       "</table>\n",
       "<p>3 rows × 42 columns</p>\n",
       "</div>"
      ],
      "text/plain": [
       "       keyword     name         current_time  rating  rating_count category  \\\n",
       "0  南投縣中寮鄉 景點推薦  剝皮寮歷史街區  2023-08-02 18:35:21     4.2         12238     歷史建築   \n",
       "1  南投縣中寮鄉 景點推薦   仙洞坪棋盤石  2023-08-02 18:35:21     3.6            84     旅遊景點   \n",
       "2  南投縣中寮鄉 景點推薦    中寮石龍宮  2023-08-02 18:35:21     4.6          3731       寺廟   \n",
       "\n",
       "     address       introduce  \\\n",
       "0    康定路173巷  18 世紀房屋林立的城市街區   \n",
       "1        NaN         24 小時營業   \n",
       "2  龍南路303-9號     河畔的道教信徒朝聖寺廟   \n",
       "\n",
       "                                             Website  \\\n",
       "0  https://www.google.com/maps/place/%E5%89%9D%E7...   \n",
       "1  https://www.google.com/maps/place/%E4%BB%99%E6...   \n",
       "2  https://www.google.com/maps/place/%E4%B8%AD%E5...   \n",
       "\n",
       "                                                 img  ...          rw_address  \\\n",
       "0  https://lh5.googleusercontent.com/p/AF1QipP-Th...  ...    108台北市萬華區康定路173巷   \n",
       "1  https://lh5.googleusercontent.com/p/AF1QipP1js...  ...           541南投縣中寮鄉   \n",
       "2  https://lh5.googleusercontent.com/p/AF1QipOmSJ...  ...  541南投縣中寮鄉龍南路303-9號   \n",
       "\n",
       "   rw_city rw_town stay_time_min  \\\n",
       "0      台北市     萬華區           NaN   \n",
       "1      南投縣     中寮鄉           NaN   \n",
       "2      南投縣     中寮鄉           NaN   \n",
       "\n",
       "                               weekday_opentime_dict           is_open_list  \\\n",
       "0  {'星期一': [], '星期二': ['09:00–18:00'], '星期三': ['0...  [0, 1, 1, 1, 1, 1, 1]   \n",
       "1  {'星期一': ['00:00–23:59'], '星期二': ['00:00–23:59'...  [1, 1, 1, 1, 1, 1, 1]   \n",
       "2  {'星期一': ['00:00–23:59'], '星期二': ['00:00–23:59'...  [1, 1, 1, 1, 1, 1, 1]   \n",
       "\n",
       "   new_star_label  good  neutral  bad  \n",
       "0             3.9    20        6    4  \n",
       "1             3.1    12        9    9  \n",
       "2             4.1    22        5    3  \n",
       "\n",
       "[3 rows x 42 columns]"
      ]
     },
     "execution_count": 39,
     "metadata": {},
     "output_type": "execute_result"
    }
   ],
   "source": [
    "df = pd.read_csv(\"new_search_clear.csv\")\n",
    "df = df.drop(['Unnamed: 0'],axis = 1)\n",
    "df.head(3)"
   ]
  },
  {
   "cell_type": "code",
   "execution_count": 40,
   "metadata": {},
   "outputs": [],
   "source": [
    "df_label = pd.read_csv(\"spotsoverview.v3_semi_RF_c_lab023.csv\")"
   ]
  },
  {
   "cell_type": "code",
   "execution_count": 41,
   "metadata": {},
   "outputs": [],
   "source": [
    "# 設定要顯示的最大行數\n",
    "# pd.set_option('display.max_rows', None)\n",
    "\n",
    "# 設定要顯示的最大列數（如果需要）\n",
    "# pd.set_option('display.max_columns', None)"
   ]
  },
  {
   "cell_type": "code",
   "execution_count": 42,
   "metadata": {},
   "outputs": [
    {
     "name": "stdout",
     "output_type": "stream",
     "text": [
      "['Unnamed: 0.4', 'Unnamed: 0.3', 'Unnamed: 0.2', 'Unnamed: 0.1', 'Unnamed: 0', 'keyword', 'name', 'current_time', 'rating', 'rating_count', 'category', 'address', 'introduce', 'Website', 'img', 'latitude', 'longitude', 'rw_category', 'rw_tag', 'rw_tickets_sale', 'rw_open_time', 'rw_Monday_open', 'rw_Monday_close', 'rw_Tuesday_open', 'rw_Tuesday_close', 'rw_Wednesday_open', 'rw_Wednesday_close', 'rw_Thursday_open', 'rw_Thursday_close', 'rw_Friday_open', 'rw_Friday_close', 'rw_Saturday_open', 'rw_Saturday_close', 'rw_Sunday_open', 'rw_Sunday_close', 'rw_introduction', 'rw_phone', 'rw_address', 'rw_city', 'rw_town', 'stay_time_min', 'weekday_opentime_dict', 'is_open_list', 'brief_intro', 'span_intro_', 'label_lCr01', 'label_lCr02', 'new_cate3', 'ncat_label02', 'c_lab021', 'c_lab022', 'c_lab023']\n"
     ]
    }
   ],
   "source": [
    "print(str(df_label.columns.tolist()))\n"
   ]
  },
  {
   "cell_type": "code",
   "execution_count": 43,
   "metadata": {},
   "outputs": [],
   "source": [
    "df_label = df_label.drop(columns=['Unnamed: 0.4', 'Unnamed: 0.3', 'Unnamed: 0.2', 'Unnamed: 0.1', 'Unnamed: 0', 'keyword','current_time', 'rating', 'rating_count', 'category', 'address', 'introduce', 'Website', 'img', 'latitude', 'longitude', 'rw_category', 'rw_tag', 'rw_tickets_sale', 'rw_open_time', 'rw_Monday_open', 'rw_Monday_close', 'rw_Tuesday_open', 'rw_Tuesday_close', 'rw_Wednesday_open', 'rw_Wednesday_close', 'rw_Thursday_open', 'rw_Thursday_close', 'rw_Friday_open', 'rw_Friday_close', 'rw_Saturday_open', 'rw_Saturday_close', 'rw_Sunday_open', 'rw_Sunday_close', 'rw_introduction', 'rw_phone', 'rw_address', 'rw_city', 'rw_town', 'stay_time_min', 'weekday_opentime_dict', 'is_open_list'])"
   ]
  },
  {
   "cell_type": "code",
   "execution_count": 44,
   "metadata": {},
   "outputs": [
    {
     "name": "stdout",
     "output_type": "stream",
     "text": [
      "5974\n",
      "4718\n",
      "['keyword', 'name', 'current_time', 'rating', 'rating_count', 'category', 'address', 'introduce', 'Website', 'img', 'latitude', 'longitude', 'rw_category', 'rw_tag', 'rw_tickets_sale', 'rw_open_time', 'rw_Monday_open', 'rw_Monday_close', 'rw_Tuesday_open', 'rw_Tuesday_close', 'rw_Wednesday_open', 'rw_Wednesday_close', 'rw_Thursday_open', 'rw_Thursday_close', 'rw_Friday_open', 'rw_Friday_close', 'rw_Saturday_open', 'rw_Saturday_close', 'rw_Sunday_open', 'rw_Sunday_close', 'rw_introduction', 'rw_phone', 'rw_address', 'rw_city', 'rw_town', 'stay_time_min', 'weekday_opentime_dict', 'is_open_list', 'new_star_label', 'good', 'neutral', 'bad', 'brief_intro', 'span_intro_', 'label_lCr01', 'label_lCr02', 'new_cate3', 'ncat_label02', 'c_lab021', 'c_lab022', 'c_lab023']\n",
      "4711\n"
     ]
    }
   ],
   "source": [
    "df_r = df_label\n",
    "df_s = df\n",
    "print(len(df_r))\n",
    "print(len(df_s))\n",
    "\n",
    "# 不知道為甚麼名字中會有空格 但取代掉\n",
    "df_s['name'] = df_s['name'].str.replace(' ', '')\n",
    "df_r['name'] = df_r['name'].str.replace(' ', '')\n",
    "\n",
    "# 合併df_s、df_r \n",
    "df_merged = pd.merge(df_s, df_r, left_on='name', right_on='name')\n",
    "# df_merged = pd.merge(df_s, df_r, on='name', how='right')\n",
    "\n",
    "\n",
    "# df_merged.columns.tolist()\n",
    "print(str(df_merged.columns.tolist()))\n",
    "print(len(df_merged))\n"
   ]
  },
  {
   "cell_type": "code",
   "execution_count": 45,
   "metadata": {},
   "outputs": [],
   "source": [
    "df= df_merged"
   ]
  },
  {
   "cell_type": "code",
   "execution_count": 46,
   "metadata": {},
   "outputs": [
    {
     "name": "stdout",
     "output_type": "stream",
     "text": [
      "total search count:  4711\n"
     ]
    },
    {
     "data": {
      "text/plain": [
       "name                        0\n",
       "current_time                0\n",
       "rating                      0\n",
       "rating_count                0\n",
       "category                    4\n",
       "address                  1083\n",
       "introduce                 301\n",
       "Website                     0\n",
       "img                         0\n",
       "latitude                    0\n",
       "longitude                   0\n",
       "rw_category                 1\n",
       "rw_tag                     54\n",
       "rw_tickets_sale          4471\n",
       "rw_open_time              404\n",
       "rw_introduction          3524\n",
       "rw_phone                 1897\n",
       "rw_address                  0\n",
       "rw_city                     0\n",
       "rw_town                    10\n",
       "stay_time_min            2400\n",
       "weekday_opentime_dict     404\n",
       "is_open_list              404\n",
       "new_star_label              0\n",
       "good                        0\n",
       "neutral                     0\n",
       "bad                         0\n",
       "brief_intro                 0\n",
       "span_intro_                 0\n",
       "label_lCr01                 0\n",
       "label_lCr02                 0\n",
       "new_cate3                3500\n",
       "ncat_label02             3500\n",
       "c_lab021                 2349\n",
       "c_lab022                 1166\n",
       "c_lab023                    0\n",
       "dtype: int64"
      ]
     },
     "execution_count": 46,
     "metadata": {},
     "output_type": "execute_result"
    }
   ],
   "source": [
    "print('total search count: ',len(df))\n",
    "df.isnull().sum().drop(['keyword','rw_Monday_open','rw_Monday_close','rw_Tuesday_open','rw_Tuesday_close','rw_Wednesday_open','rw_Wednesday_close','rw_Thursday_open','rw_Thursday_close','rw_Friday_open','rw_Friday_close','rw_Saturday_open','rw_Saturday_close','rw_Sunday_open','rw_Sunday_close'])"
   ]
  },
  {
   "cell_type": "markdown",
   "metadata": {},
   "source": [
    "彩虹瀑布景點不明原因 地址錯誤 故重新寫入"
   ]
  },
  {
   "cell_type": "code",
   "execution_count": 47,
   "metadata": {},
   "outputs": [],
   "source": [
    "df.loc[df['name']=='彩虹瀑布','address']='556南投縣信義鄉'\n",
    "df.loc[df['name']=='彩虹瀑布','rw_address']='556南投縣信義鄉'\n",
    "df.loc[df['name']=='彩虹瀑布','rw_city']='南投縣'\n",
    "df.loc[df['name']=='彩虹瀑布','rw_town']='信義鄉'\n",
    "df.loc[df['name']=='彩虹瀑布','latitude']='23.5669457'\n",
    "df.loc[df['name']=='彩虹瀑布','longitude']='120.935102'"
   ]
  },
  {
   "cell_type": "markdown",
   "metadata": {},
   "source": [
    "從tableau發現類似彩虹瀑布問題景點 一同補植"
   ]
  },
  {
   "cell_type": "code",
   "execution_count": 48,
   "metadata": {},
   "outputs": [],
   "source": [
    "\n",
    "df.loc[df['name']=='長壽山','address']='中和區 新北市'\n",
    "df.loc[df['name']=='長壽山','rw_address']='中和區 新北市'\n",
    "df.loc[df['name']=='長壽山','rw_city']='新北市'\n",
    "df.loc[df['name']=='長壽山','rw_town']='中和區'\n",
    "\n",
    "df.loc[df['name']=='中華公園','address']='湖口鄉 新竹縣'\n",
    "df.loc[df['name']=='中華公園','rw_address']='湖口鄉 新竹縣'\n",
    "df.loc[df['name']=='中華公園','rw_city']='新竹縣'\n",
    "df.loc[df['name']=='中華公園','rw_town']='湖口鄉'\n",
    "\n",
    "df.loc[df['name']=='永康公園','address']='247新北市蘆洲區長安街204號'\n",
    "df.loc[df['name']=='永康公園','rw_address']='247新北市蘆洲區長安街204號'\n",
    "df.loc[df['name']=='永康公園','rw_city']='新北市'\n",
    "df.loc[df['name']=='永康公園','rw_town']='蘆洲區'\n",
    "\n",
    "df.loc[df['name']=='黃金海岸','address']='屏東縣車城鄉944'\n",
    "df.loc[df['name']=='黃金海岸','rw_address']='屏東縣車城鄉944'\n",
    "df.loc[df['name']=='黃金海岸','rw_city']='屏東縣'\n",
    "df.loc[df['name']=='黃金海岸','rw_town']='車城鄉'\n",
    "\n",
    "df.loc[df['name']=='觀海樓','address']='946屏東縣恆春鎮'\n",
    "df.loc[df['name']=='觀海樓','rw_address']='946屏東縣恆春鎮'\n",
    "df.loc[df['name']=='觀海樓','rw_city']='屏東縣'\n",
    "df.loc[df['name']=='觀海樓','rw_town']='恆春鎮'\n",
    "\n",
    "df.loc[df['name']=='楓林步道','address']='仁愛鄉 南投縣'\n",
    "df.loc[df['name']=='楓林步道','rw_address']='仁愛鄉 南投縣'\n",
    "df.loc[df['name']=='楓林步道','rw_city']='南投縣'\n",
    "df.loc[df['name']=='楓林步道','rw_town']='仁愛鄉'\n",
    "\n",
    "df.loc[df['name']=='民族公園','address']='東區 新竹市'\n",
    "df.loc[df['name']=='民族公園','rw_address']='東區 新竹市'\n",
    "df.loc[df['name']=='民族公園','rw_city']='新竹市'\n",
    "df.loc[df['name']=='民族公園','rw_town']='東區'\n",
    "\n",
    "df.loc[df['name']=='三民公園','address']='247新北市蘆洲區三民路611號'\n",
    "df.loc[df['name']=='三民公園','rw_address']='247新北市蘆洲區三民路611號'\n",
    "df.loc[df['name']=='三民公園','rw_city']='新北市'\n",
    "df.loc[df['name']=='三民公園','rw_town']='蘆洲區'\n",
    "\n",
    "df.loc[df['name']=='忘憂森林','address']='557南投縣竹山鎮溪山路1-8號號'\n",
    "df.loc[df['name']=='忘憂森林','rw_address']='557南投縣竹山鎮溪山路1-8號號'\n",
    "df.loc[df['name']=='忘憂森林','rw_city']='南投縣'\n",
    "df.loc[df['name']=='忘憂森林','rw_town']='竹山鎮'\n",
    "\n",
    "df.loc[df['name']=='一線天','address']='546南投縣仁愛鄉'\n",
    "df.loc[df['name']=='一線天','rw_address']='546南投縣仁愛鄉'\n",
    "df.loc[df['name']=='一線天','rw_city']='南投縣'\n",
    "df.loc[df['name']=='一線天','rw_town']='仁愛鄉'\n",
    "\n",
    "df.loc[df['name']=='員山公園','address']='264宜蘭縣員山鄉復興路'\n",
    "df.loc[df['name']=='員山公園','rw_address']='264宜蘭縣員山鄉復興路'\n",
    "df.loc[df['name']=='員山公園','rw_city']='宜蘭縣'\n",
    "df.loc[df['name']=='員山公園','rw_town']='員山鄉'\n",
    "\n",
    "df.loc[df['name']=='綠色隧道','address']='集集鎮 南投縣'\n",
    "df.loc[df['name']=='綠色隧道','rw_address']='集集鎮 南投縣'\n",
    "df.loc[df['name']=='綠色隧道','rw_city']='南投縣'\n",
    "df.loc[df['name']=='綠色隧道','rw_town']='集集鎮'\n",
    "\n",
    "df.loc[df['name']=='雙心石滬','address']='241新北市三重區'\n",
    "df.loc[df['name']=='雙心石滬','rw_address']='241新北市三重區'\n",
    "df.loc[df['name']=='雙心石滬','rw_city']='新北市'\n",
    "df.loc[df['name']=='雙心石滬','rw_town']='三重區'\n"
   ]
  },
  {
   "cell_type": "markdown",
   "metadata": {},
   "source": [
    "根據爬蟲指定點到各景點的結果，找出有些景點無法抵達以下刪除這些資料"
   ]
  },
  {
   "cell_type": "markdown",
   "metadata": {},
   "source": [
    "水漾森林 聖母登山步道 北大武山神社 落日亭 北大武神木 雪山圈谷 七彩湖"
   ]
  },
  {
   "cell_type": "code",
   "execution_count": 49,
   "metadata": {},
   "outputs": [
    {
     "name": "stdout",
     "output_type": "stream",
     "text": [
      "data len before 4711\n",
      "data len after 4711\n"
     ]
    }
   ],
   "source": [
    "print('data len before',len(df))\n",
    "values_to_remove = ['水漾森林', '聖母登山步道', '北大武山神社','落日亭','北大武神木','雪山圈谷','七彩湖']\n",
    "\n",
    "condition = ~df['name'].isin(values_to_remove)\n",
    "df = df[condition]\n",
    "\n",
    "df = df.reset_index(drop=True)\n",
    "print('data len after',len(df))\n"
   ]
  },
  {
   "cell_type": "code",
   "execution_count": null,
   "metadata": {},
   "outputs": [],
   "source": []
  },
  {
   "cell_type": "markdown",
   "metadata": {},
   "source": [
    "過濾外島景點\n",
    "\n",
    "這些暫不刪除 因為理論上不會造成交通無法計算的問題:\n",
    "澎湖縣\n",
    "金門縣\n",
    "連江縣\n",
    "\n",
    "琉球鄉\n",
    "蘭嶼鄉\n",
    "綠島鄉"
   ]
  },
  {
   "cell_type": "code",
   "execution_count": null,
   "metadata": {},
   "outputs": [],
   "source": []
  },
  {
   "cell_type": "code",
   "execution_count": 50,
   "metadata": {},
   "outputs": [],
   "source": [
    "# df_1 = df[df['rw_city'] == '澎湖縣']\n",
    "# df_2 = df[df['rw_city'] == '金門縣']\n",
    "# df_3 = df[df['rw_city'] == '連江縣']\n",
    "\n",
    "df_4 = df[df['rw_town'] == '琉球鄉']\n",
    "df_5 = df[df['rw_town'] == '蘭嶼鄉']\n",
    "df_6 = df[df['rw_town'] == '綠島鄉']"
   ]
  },
  {
   "cell_type": "code",
   "execution_count": 51,
   "metadata": {},
   "outputs": [
    {
     "name": "stdout",
     "output_type": "stream",
     "text": [
      "       name rw_city rw_town\n",
      "953     美人洞     屏東縣     琉球鄉\n",
      "974  杉福生態廊道     屏東縣     琉球鄉\n",
      "     name rw_city rw_town\n",
      "3610  五孔洞     台東縣     蘭嶼鄉\n",
      "3611  雙獅岩     台東縣     蘭嶼鄉\n",
      "      name rw_city rw_town\n",
      "3603   牛頭山     台東縣     綠島鄉\n",
      "3604  哈巴狗岩     台東縣     綠島鄉\n"
     ]
    }
   ],
   "source": [
    "print_result=['name','rw_city','rw_town']\n",
    "# print(df_1[print_result].head(2))\n",
    "# print(df_2[print_result].head(2))\n",
    "# print(df_3[print_result].head(2))\n",
    "print(df_4[print_result].head(2))\n",
    "print(df_5[print_result].head(2))\n",
    "print(df_6[print_result].head(2))"
   ]
  },
  {
   "cell_type": "code",
   "execution_count": 52,
   "metadata": {},
   "outputs": [
    {
     "name": "stdout",
     "output_type": "stream",
     "text": [
      "(24, 51)\n",
      "(22, 51)\n",
      "(7, 51)\n"
     ]
    }
   ],
   "source": [
    "# print(df_1.shape)\n",
    "# print(df_2.shape)\n",
    "# print(df_3.shape)\n",
    "print(df_4.shape)\n",
    "print(df_5.shape)\n",
    "print(df_6.shape)"
   ]
  },
  {
   "cell_type": "code",
   "execution_count": 53,
   "metadata": {},
   "outputs": [],
   "source": [
    "# df = df[df['rw_city'] != '澎湖縣']\n",
    "# df = df[df['rw_city'] != '金門縣']\n",
    "# df = df[df['rw_city'] != '連江縣']\n",
    "\n",
    "df = df[df['rw_town'] != '琉球鄉']\n",
    "df = df[df['rw_town'] != '蘭嶼鄉']\n",
    "df = df[df['rw_town'] != '綠島鄉']"
   ]
  },
  {
   "cell_type": "code",
   "execution_count": 54,
   "metadata": {},
   "outputs": [],
   "source": [
    "\n",
    "df = df.reset_index(drop=True)"
   ]
  },
  {
   "cell_type": "code",
   "execution_count": 55,
   "metadata": {},
   "outputs": [],
   "source": [
    "# df_1 = df[df['rw_city'] == '澎湖縣']\n",
    "# df_2 = df[df['rw_city'] == '金門縣']\n",
    "# df_3 = df[df['rw_city'] == '連江縣']\n",
    "\n",
    "df_4 = df[df['rw_town'] == '琉球鄉']\n",
    "df_5 = df[df['rw_town'] == '蘭嶼鄉']\n",
    "df_6 = df[df['rw_town'] == '綠島鄉']"
   ]
  },
  {
   "cell_type": "code",
   "execution_count": 56,
   "metadata": {},
   "outputs": [
    {
     "name": "stdout",
     "output_type": "stream",
     "text": [
      "(0, 51)\n",
      "(0, 51)\n",
      "(0, 51)\n"
     ]
    }
   ],
   "source": [
    "# print(df_1.shape)\n",
    "# print(df_2.shape)\n",
    "# print(df_3.shape)\n",
    "print(df_4.shape)\n",
    "print(df_5.shape)\n",
    "print(df_6.shape)"
   ]
  },
  {
   "cell_type": "code",
   "execution_count": 57,
   "metadata": {},
   "outputs": [
    {
     "name": "stdout",
     "output_type": "stream",
     "text": [
      "total search count:  4658\n"
     ]
    },
    {
     "data": {
      "text/plain": [
       "name                        0\n",
       "current_time                0\n",
       "rating                      0\n",
       "rating_count                0\n",
       "category                    4\n",
       "address                  1051\n",
       "introduce                 295\n",
       "Website                     0\n",
       "img                         0\n",
       "latitude                    0\n",
       "longitude                   0\n",
       "rw_category                 1\n",
       "rw_tag                     52\n",
       "rw_tickets_sale          4418\n",
       "rw_open_time              397\n",
       "rw_introduction          3478\n",
       "rw_phone                 1873\n",
       "rw_address                  0\n",
       "rw_city                     0\n",
       "rw_town                    10\n",
       "stay_time_min            2371\n",
       "weekday_opentime_dict     397\n",
       "is_open_list              397\n",
       "new_star_label              0\n",
       "good                        0\n",
       "neutral                     0\n",
       "bad                         0\n",
       "brief_intro                 0\n",
       "span_intro_                 0\n",
       "label_lCr01                 0\n",
       "label_lCr02                 0\n",
       "new_cate3                3454\n",
       "ncat_label02             3454\n",
       "c_lab021                 2314\n",
       "c_lab022                 1149\n",
       "c_lab023                    0\n",
       "dtype: int64"
      ]
     },
     "execution_count": 57,
     "metadata": {},
     "output_type": "execute_result"
    }
   ],
   "source": [
    "print('total search count: ',len(df))\n",
    "df.isnull().sum().drop(['keyword','rw_Monday_open','rw_Monday_close','rw_Tuesday_open','rw_Tuesday_close','rw_Wednesday_open','rw_Wednesday_close','rw_Thursday_open','rw_Thursday_close','rw_Friday_open','rw_Friday_close','rw_Saturday_open','rw_Saturday_close','rw_Sunday_open','rw_Sunday_close'])"
   ]
  },
  {
   "cell_type": "code",
   "execution_count": 58,
   "metadata": {},
   "outputs": [
    {
     "name": "stdout",
     "output_type": "stream",
     "text": [
      "count    2287.000000\n",
      "mean       58.682991\n",
      "std        37.534406\n",
      "min        10.000000\n",
      "25%        37.000000\n",
      "50%        45.000000\n",
      "75%        60.000000\n",
      "max       390.000000\n",
      "Name: stay_time_min, dtype: float64\n"
     ]
    }
   ],
   "source": [
    "print(df['stay_time_min'].describe())"
   ]
  },
  {
   "cell_type": "code",
   "execution_count": 59,
   "metadata": {},
   "outputs": [],
   "source": [
    "import matplotlib.pyplot as plt\n",
    "import seaborn as sns\n",
    "\n",
    "# sns.boxplot(y=df['stay_time_min'])\n",
    "# plt.show()"
   ]
  },
  {
   "cell_type": "code",
   "execution_count": null,
   "metadata": {},
   "outputs": [],
   "source": []
  },
  {
   "cell_type": "code",
   "execution_count": null,
   "metadata": {},
   "outputs": [],
   "source": []
  },
  {
   "cell_type": "markdown",
   "metadata": {},
   "source": [
    "因為分類結果還未進來 以下都是用category代替 目前初版進來先將category改成c_lab023"
   ]
  },
  {
   "cell_type": "markdown",
   "metadata": {},
   "source": [
    "建議停留時間補值--test 4種補值(中位數、平均數、眾數、迴歸方法)方式 發現使用MODE眾數效果最好 故最後採用眾數 "
   ]
  },
  {
   "cell_type": "markdown",
   "metadata": {},
   "source": [
    "先將以有的建議停留時間刪除10% 用來嘗試補值 看效果如何 並定義一個閥值 當|原停留時間-預測停留時間|>閥值 則歸納進預測不準"
   ]
  },
  {
   "cell_type": "code",
   "execution_count": 60,
   "metadata": {},
   "outputs": [
    {
     "name": "stdout",
     "output_type": "stream",
     "text": [
      "impute missing values by madian acc rate: 88.21%\n",
      "impute missing values by mean acc rate: 80.79%\n",
      "impute missing values by mode acc rate: 86.90%\n",
      "impute missing values by regression acc rate: 75.98%\n"
     ]
    }
   ],
   "source": [
    "# data = df.dropna(subset=['stay_time_min']).copy()\n",
    "data = df.copy()\n",
    "\n",
    "threshold = 30\n",
    "# 從有'stay_time'值的行中隨機選擇10%作為測試集\n",
    "test_data = data.dropna(subset=['stay_time_min']).sample(frac=0.1, random_state=42)\n",
    "original_stay_time_min = test_data['stay_time_min'].copy()\n",
    "# print(test_data.shape)\n",
    "# 在原始數據中刪除這些選定的行以模擬缺失值\n",
    "data.loc[test_data.index, 'stay_time_min'] = np.nan\n",
    "test_data['stay_time_min'] = np.nan\n",
    "# print(test_data['stay_time_min'].isna().sum())\n",
    "\n",
    "# 使用中位數補值\n",
    "grouped_median = data.groupby('c_lab023')['stay_time_min'].median()\n",
    "test_data_copy_median = test_data.copy()\n",
    "test_data_copy_median['stay_time_min'] = np.where(test_data_copy_median['stay_time_min'].isna(), \n",
    "                                              test_data_copy_median['c_lab023'].map(grouped_median), \n",
    "                                              test_data_copy_median['stay_time_min'])\n",
    "# 使用平均數補值\n",
    "grouped_mean = data.groupby('c_lab023')['stay_time_min'].mean()\n",
    "test_data_copy_mean = test_data.copy()\n",
    "test_data_copy_mean['stay_time_min'] = np.where(test_data_copy_mean['stay_time_min'].isna(), \n",
    "                                              test_data_copy_mean['c_lab023'].map(grouped_mean), \n",
    "                                              test_data_copy_mean['stay_time_min'])\n",
    "\n",
    "# 使用眾數補值\n",
    "def compute_mode(x):\n",
    "    if not x.mode().empty:\n",
    "        return x.mode().iloc[0]\n",
    "    else:\n",
    "        return np.nan  # 或者使用 x.mean() 或其他值\n",
    "grouped_mode = data.groupby('c_lab023')['stay_time_min'].apply(compute_mode)\n",
    "\n",
    "test_data_copy_mode = test_data.copy()\n",
    "test_data_copy_mode['stay_time_min'] = np.where(test_data_copy_mode['stay_time_min'].isna(), \n",
    "                                             test_data_copy_mode['c_lab023'].map(grouped_mode), \n",
    "                                             test_data_copy_mode['stay_time_min'])\n",
    "\n",
    "# 使用回歸補值\n",
    "train_data = data.dropna(subset=['stay_time_min'])\n",
    "feature=['rating','rating_count']\n",
    "X_train = train_data[feature]\n",
    "y_train = train_data['stay_time_min']\n",
    "\n",
    "model = LinearRegression().fit(X_train, y_train)\n",
    "test_data_copy_regression = test_data.copy()\n",
    "missing_indices = test_data_copy_regression['stay_time_min'].isna()\n",
    "\n",
    "if missing_indices.sum() > 0: # 確保有缺失值\n",
    "    X_test = test_data_copy_regression[missing_indices][feature]\n",
    "    test_data_copy_regression.loc[missing_indices, 'stay_time_min'] = model.predict(X_test)\n",
    "\n",
    "\n",
    "# 比較補值效果\n",
    "test_data['error_median'] = original_stay_time_min- test_data_copy_median['stay_time_min']\n",
    "incorrect_imputations_median = (test_data['error_median'].abs() > threshold).sum()\n",
    "percentage_correct_median = (1-incorrect_imputations_median / len(test_data)) * 100\n",
    "\n",
    "test_data['error_mean'] = original_stay_time_min- test_data_copy_mean['stay_time_min']\n",
    "incorrect_imputations_mean = (test_data['error_mean'].abs() > threshold).sum()\n",
    "percentage_correct_mean = (1-incorrect_imputations_mean / len(test_data)) * 100\n",
    "\n",
    "test_data['error_mode'] = original_stay_time_min - test_data_copy_mode['stay_time_min']\n",
    "incorrect_imputations_mode = (test_data['error_mode'].abs() > threshold).sum()\n",
    "percentage_correct_mode = (1-incorrect_imputations_mode / len(test_data)) * 100\n",
    "\n",
    "test_data['error_regression'] = original_stay_time_min - test_data_copy_regression['stay_time_min']\n",
    "incorrect_imputations_regression = (test_data['error_regression'].abs() > threshold).sum()\n",
    "percentage_correct_regression = (1-incorrect_imputations_regression / len(test_data)) * 100\n",
    "\n",
    "# 顯示結果\n",
    "print(f\"impute missing values by madian acc rate: {percentage_correct_median:.2f}%\")\n",
    "print(f\"impute missing values by mean acc rate: {percentage_correct_mean:.2f}%\")\n",
    "print(f\"impute missing values by mode acc rate: {percentage_correct_mode:.2f}%\")\n",
    "print(f\"impute missing values by regression acc rate: {percentage_correct_regression:.2f}%\")\n"
   ]
  },
  {
   "cell_type": "markdown",
   "metadata": {},
   "source": [
    "建議停留時間補值 -- 中位數補值"
   ]
  },
  {
   "cell_type": "code",
   "execution_count": 61,
   "metadata": {},
   "outputs": [
    {
     "name": "stderr",
     "output_type": "stream",
     "text": [
      "c:\\Users\\User\\anaconda3\\envs\\python\\lib\\site-packages\\numpy\\lib\\nanfunctions.py:1215: RuntimeWarning: Mean of empty slice\n",
      "  return np.nanmean(a, axis, out=out, keepdims=keepdims)\n"
     ]
    }
   ],
   "source": [
    "# 定義一個函數來計算中位數\n",
    "def median_function(x):\n",
    "    return x.median()\n",
    "\n",
    "# 計算各分類的中位數\n",
    "median_per_category = df.groupby(\"c_lab023\")['stay_time_min'].transform(median_function)\n",
    "\n",
    "# 使用各分類的中位數補值\n",
    "df['stay_time_min'].fillna(median_per_category, inplace=True)\n"
   ]
  },
  {
   "cell_type": "code",
   "execution_count": 62,
   "metadata": {},
   "outputs": [],
   "source": [
    "# # 定義一個函數來計算眾數\n",
    "# def mode_function(x):\n",
    "#     return x.mode()[0] if not x.mode().empty else None\n",
    "\n",
    "# # 計算各分類的眾數\n",
    "# mode_per_category = df.groupby(\"c_lab023\")['stay_time_min'].transform(mode_function)\n",
    "\n",
    "# # 使用各分類的眾數補值\n",
    "# df['stay_time_min'].fillna(mode_per_category, inplace=True)"
   ]
  },
  {
   "cell_type": "code",
   "execution_count": 63,
   "metadata": {},
   "outputs": [
    {
     "name": "stdout",
     "output_type": "stream",
     "text": [
      "total search count:  4658\n"
     ]
    },
    {
     "data": {
      "text/plain": [
       "name                        0\n",
       "current_time                0\n",
       "rating                      0\n",
       "rating_count                0\n",
       "category                    4\n",
       "address                  1051\n",
       "introduce                 295\n",
       "Website                     0\n",
       "img                         0\n",
       "latitude                    0\n",
       "longitude                   0\n",
       "rw_category                 1\n",
       "rw_tag                     52\n",
       "rw_tickets_sale          4418\n",
       "rw_open_time              397\n",
       "rw_introduction          3478\n",
       "rw_phone                 1873\n",
       "rw_address                  0\n",
       "rw_city                     0\n",
       "rw_town                    10\n",
       "stay_time_min               4\n",
       "weekday_opentime_dict     397\n",
       "is_open_list              397\n",
       "new_star_label              0\n",
       "good                        0\n",
       "neutral                     0\n",
       "bad                         0\n",
       "brief_intro                 0\n",
       "span_intro_                 0\n",
       "label_lCr01                 0\n",
       "label_lCr02                 0\n",
       "new_cate3                3454\n",
       "ncat_label02             3454\n",
       "c_lab021                 2314\n",
       "c_lab022                 1149\n",
       "c_lab023                    0\n",
       "dtype: int64"
      ]
     },
     "execution_count": 63,
     "metadata": {},
     "output_type": "execute_result"
    }
   ],
   "source": [
    "print('total search count: ',len(df))\n",
    "df.isnull().sum().drop(['keyword','rw_Monday_open','rw_Monday_close','rw_Tuesday_open','rw_Tuesday_close','rw_Wednesday_open','rw_Wednesday_close','rw_Thursday_open','rw_Thursday_close','rw_Friday_open','rw_Friday_close','rw_Saturday_open','rw_Saturday_close','rw_Sunday_open','rw_Sunday_close'])"
   ]
  },
  {
   "cell_type": "markdown",
   "metadata": {},
   "source": [
    "查看建議停留時間依然為空值的狀況"
   ]
  },
  {
   "cell_type": "code",
   "execution_count": 64,
   "metadata": {},
   "outputs": [
    {
     "name": "stdout",
     "output_type": "stream",
     "text": [
      "          name  c_lab023\n",
      "792   五峰旗聖母朝聖地      10.0\n",
      "2476     路思義教堂      10.0\n",
      "3216    玉井白色教堂      10.0\n",
      "3454     鹽水天主堂      10.0\n"
     ]
    }
   ],
   "source": [
    "empty_stay_time_min = df[df['stay_time_min'].isnull()]\n",
    "print(empty_stay_time_min[['name','c_lab023']])"
   ]
  },
  {
   "cell_type": "code",
   "execution_count": 65,
   "metadata": {},
   "outputs": [
    {
     "name": "stdout",
     "output_type": "stream",
     "text": [
      "Empty DataFrame\n",
      "Columns: [name, c_lab023]\n",
      "Index: []\n"
     ]
    }
   ],
   "source": [
    "df['stay_time_min']=df['stay_time_min'].fillna('30')\n",
    "empty_stay_time_min = df[df['stay_time_min'].isnull()]\n",
    "print(empty_stay_time_min[['name','c_lab023']])"
   ]
  },
  {
   "cell_type": "code",
   "execution_count": null,
   "metadata": {},
   "outputs": [],
   "source": []
  },
  {
   "cell_type": "markdown",
   "metadata": {},
   "source": [
    "建議營業時間補值 -- 因為這部分屬於文字 故直接採用眾數補值"
   ]
  },
  {
   "cell_type": "markdown",
   "metadata": {},
   "source": [
    "先測試隨機森林跟眾數補值的差別"
   ]
  },
  {
   "cell_type": "code",
   "execution_count": 66,
   "metadata": {},
   "outputs": [
    {
     "name": "stdout",
     "output_type": "stream",
     "text": [
      "Mode method accuracy (by category): 0.1959956513469585\n",
      "Random Forest method accuracy (by category): 0.17926603511775083\n"
     ]
    }
   ],
   "source": [
    "import pandas as pd\n",
    "import numpy as np\n",
    "from sklearn.ensemble import RandomForestClassifier\n",
    "from sklearn.preprocessing import LabelEncoder\n",
    "from sklearn.impute import SimpleImputer\n",
    "\n",
    "# 選取數值型資料作為特征\n",
    "# features = df.select_dtypes(include=[np.number]).columns.tolist()\n",
    "features=['rating','rating_count']\n",
    "# print(features)\n",
    "imputer = SimpleImputer(strategy='mean')\n",
    "# 設置用於評估的正確率\n",
    "mode_accuracy = 0\n",
    "rf_accuracy = 0\n",
    "\n",
    "for category in df['c_lab023'].unique():\n",
    "    category_data = df[df['c_lab023'] == category].dropna(subset=['rw_open_time']).copy()\n",
    "    \n",
    "    # 刪除 10% 用於評估的資料\n",
    "    sampled_indices = category_data.sample(frac=0.1, random_state=42).index\n",
    "    original_values = category_data.loc[sampled_indices, 'rw_open_time'].copy()\n",
    "    category_data.loc[sampled_indices, 'rw_open_time'] = np.nan\n",
    "\n",
    "    # 使用眾數補值\n",
    "    mode_values = category_data['rw_open_time'].mode()\n",
    "\n",
    "    # 檢查是否有眾數\n",
    "    if not mode_values.empty:\n",
    "        mode_value = mode_values[0]\n",
    "        category_data['rw_mode_filled'] = category_data['rw_open_time'].fillna(mode_value)\n",
    "        tmp_add_acc_mode =np.mean(original_values == category_data.loc[sampled_indices, 'rw_mode_filled'])\n",
    "        if   tmp_add_acc_mode>0:\n",
    "            mode_accuracy += tmp_add_acc_mode\n",
    "        else:\n",
    "            mode_accuracy += 0\n",
    "    else:\n",
    "        # 處理無眾數的情況，例如將rw_mode_filled設置為NaN或其他合適的值\n",
    "        category_data['rw_mode_filled'] = np.nan\n",
    "        mode_accuracy += 0  \n",
    "    # print('mode_accuracy',mode_accuracy)\n",
    "    # 使用隨機森林補值\n",
    "    encoder = LabelEncoder()\n",
    "    known_data = category_data[category_data['rw_open_time'].notnull()]\n",
    "\n",
    "    if not known_data.empty:\n",
    "        encoded_rw_open_time = encoder.fit_transform(known_data['rw_open_time'])\n",
    "        rf = RandomForestClassifier(n_estimators=500)\n",
    "\n",
    "        # 在這裡進行整個 category_data 的補值\n",
    "        category_data_imputed = imputer.fit_transform(category_data[features])\n",
    "        \n",
    "        # 獲取known_data的整數索引\n",
    "        known_indices = np.where(category_data['rw_open_time'].notnull())[0]\n",
    "\n",
    "        rf.fit(category_data_imputed[known_indices], encoded_rw_open_time)\n",
    "\n",
    "        # 對sampled_indices進行預測\n",
    "        sampled_data_indices = np.where(category_data.index.isin(sampled_indices))[0]\n",
    "\n",
    "        if len(sampled_data_indices) > 0:  # 新增的條件\n",
    "            predicted_encoded_rw_open_time = rf.predict(category_data_imputed[sampled_data_indices])\n",
    "            predicted_rw_open_time = encoder.inverse_transform(predicted_encoded_rw_open_time)\n",
    "            rf_accuracy += np.mean(original_values == predicted_rw_open_time)\n",
    "    else:\n",
    "        rf_accuracy += 0\n",
    "\n",
    "# 計算平均正確率\n",
    "# print('mode_accuracy',mode_accuracy)\n",
    "mode_accuracy /= df['c_lab023'].nunique()\n",
    "rf_accuracy /= df['c_lab023'].nunique()\n",
    "# print(df['category'].nunique())\n",
    "print(f\"Mode method accuracy (by category): {mode_accuracy}\")\n",
    "print(f\"Random Forest method accuracy (by category): {rf_accuracy}\")\n"
   ]
  },
  {
   "cell_type": "code",
   "execution_count": 67,
   "metadata": {},
   "outputs": [
    {
     "name": "stdout",
     "output_type": "stream",
     "text": [
      "          keyword     name         current_time  rating  rating_count  \\\n",
      "0     南投縣中寮鄉 景點推薦  剝皮寮歷史街區  2023-08-02 18:35:21     4.2         12238   \n",
      "1     南投縣中寮鄉 景點推薦   仙洞坪棋盤石  2023-08-02 18:35:21     3.6            84   \n",
      "2     南投縣中寮鄉 景點推薦    中寮石龍宮  2023-08-02 18:35:21     4.6          3731   \n",
      "3     南投縣中寮鄉 景點推薦   南投龍鳳瀑布  2023-08-02 18:35:21     4.0          1437   \n",
      "4     南投縣中寮鄉 景點推薦    仙峰日月洞  2023-08-02 18:35:21     3.9           156   \n",
      "...           ...      ...                  ...     ...           ...   \n",
      "4653  高雄市鼓山區 景點推薦  一號船渠景觀橋  2023-08-08 18:40:56     4.2           571   \n",
      "4654  高雄市鼓山區 景點推薦  萬壽山龍泉禪寺  2023-08-08 18:40:56     4.3           797   \n",
      "4655  高雄市鼓山區 景點推薦      少女峰  2023-08-08 18:40:56     4.6           221   \n",
      "4656  高雄市鼓山區 景點推薦   打鼓岩元亨寺  2023-08-08 18:40:56     4.4          2692   \n",
      "4657  高雄市鼓山區 景點推薦    鼓山地嶽殿  2023-08-08 18:40:56     4.7           254   \n",
      "\n",
      "     category     address             introduce  \\\n",
      "0        歷史建築     康定路173巷        18 世紀房屋林立的城市街區   \n",
      "1        旅遊景點         NaN               24 小時營業   \n",
      "2          寺廟   龍南路303-9號           河畔的道教信徒朝聖寺廟   \n",
      "3        旅遊景點         65號              有觀景台的小瀑布   \n",
      "4        旅遊景點    仙峰巷27之1號                   NaN   \n",
      "...       ...         ...                   ...   \n",
      "4653       橋樑      哨船街30號               24 小時營業   \n",
      "4654     旅遊景點  鼓山三路51巷59號                   NaN   \n",
      "4655     旅遊景點         NaN               24 小時營業   \n",
      "4656     旅遊景點       元亨街7號  已打烊 ⋅ 開始營業時間：週三08:00   \n",
      "4657     旅遊景點  河川街103巷20號    營業中 ⋅ 結束營業時間：21:00   \n",
      "\n",
      "                                                Website  \\\n",
      "0     https://www.google.com/maps/place/%E5%89%9D%E7...   \n",
      "1     https://www.google.com/maps/place/%E4%BB%99%E6...   \n",
      "2     https://www.google.com/maps/place/%E4%B8%AD%E5...   \n",
      "3     https://www.google.com/maps/place/%E5%8D%97%E6...   \n",
      "4     https://www.google.com/maps/place/%E4%BB%99%E5...   \n",
      "...                                                 ...   \n",
      "4653  https://www.google.com/maps/place/%E4%B8%80%E8...   \n",
      "4654  https://www.google.com/maps/place/%E8%90%AC%E5...   \n",
      "4655  https://www.google.com/maps/place/%E5%B0%91%E5...   \n",
      "4656  https://www.google.com/maps/place/%E6%89%93%E9...   \n",
      "4657  https://www.google.com/maps/place/%E9%BC%93%E5...   \n",
      "\n",
      "                                                    img  ... bad  \\\n",
      "0     https://lh5.googleusercontent.com/p/AF1QipP-Th...  ...   4   \n",
      "1     https://lh5.googleusercontent.com/p/AF1QipP1js...  ...   9   \n",
      "2     https://lh5.googleusercontent.com/p/AF1QipOmSJ...  ...   3   \n",
      "3     https://lh5.googleusercontent.com/p/AF1QipOnXd...  ...   6   \n",
      "4     https://lh5.googleusercontent.com/p/AF1QipNHUL...  ...   9   \n",
      "...                                                 ...  ...  ..   \n",
      "4653  https://lh5.googleusercontent.com/p/AF1QipPF7y...  ...   3   \n",
      "4654  https://lh5.googleusercontent.com/p/AF1QipOn_g...  ...   1   \n",
      "4655  https://lh5.googleusercontent.com/p/AF1QipPHoR...  ...   9   \n",
      "4656  https://lh5.googleusercontent.com/p/AF1QipOTui...  ...   3   \n",
      "4657  https://lh5.googleusercontent.com/p/AF1QipMkGB...  ...   0   \n",
      "\n",
      "                                            brief_intro  \\\n",
      "0     ['位於台北萬華老舊巷弄中的台北市鄉土教育中心，是利用「剝皮寮」的舊址，以融入式的教育文化理...   \n",
      "1     ['位在中寮鄉的「仙洞坪棋盤石」，是特殊的天然景觀。低平的溪谷地因雨水沖刷與地殼變動，使得巨...   \n",
      "2     ['中寮景點推薦介紹 ; 中寮景點NO1：金龍山法華寺 ; 中寮景點NO2：中寮懶雲窩 ; ...   \n",
      "3     ['龍鳳瀑布/中寮景點/中部戲水景點/南投景點每到夏天就好想去親近一下清涼的溪水這次找到一個...   \n",
      "4     ['仙峰日月洞位在南投縣中寮鄉仙峰嶺上，是由已故的村民陳清泉先生所打造的人工石洞，由於洞口兩...   \n",
      "...                                                 ...   \n",
      "4653  ['位於哈瑪星鼓山渡輪站旁，供人與單車通行的景觀橋，是哈瑪星的新地標，白天在橋上可觀賞海港與...   \n",
      "4654  ['有興趣的遊客除了來這邊朝拜之外，也可以到附近的美術館參觀，這邊附近環境與高雄市區是不同的...   \n",
      "4655  ['少女峰火車站攻頂景點 · 1. Sphinx 觀景台Sphinx-Terrace · 2...   \n",
      "4656  ['元亨寺. 景點介紹-教師版. 西方人說：「有中國人的地方，就有廟宇」，且每座廟宇幾乎都是...   \n",
      "4657  ['鼓山玉旨地嶽殿，主祀東嶽仁聖大帝、地藏王菩薩、李府大神，位於台灣高雄鼓山區。', '高雄...   \n",
      "\n",
      "                                            span_intro_ label_lCr01  \\\n",
      "0     ['位於台北萬華老舊巷弄中的台北市鄉土教育中心，是利用「剝皮寮」的舊址，以融入式的教育文化理...           7   \n",
      "1     ['位在中寮鄉的「仙洞坪棋盤石」，是特殊的天然景觀。低平的溪谷地因雨水沖刷與地殼變動，使得巨...           7   \n",
      "2     ['南投「中寮石龍宮」是今年很紅的「泡麵土地公廟」，起源在六合彩盛行的時代，信徒晚上來這裡過...           7   \n",
      "3     ['龍鳳瀑布位在中寮鄉清水村中，原名為雌雄瀑布，也曾被稱為「水濂洞」，瀑布的長度約為四十公尺...           8   \n",
      "4     ['特色介紹 南投中寮鄉的「仙峰日月洞」，是座人造石洞，由村民陳先生耗時十年開鑿而成，因入口...           7   \n",
      "...                                                 ...         ...   \n",
      "4653  ['位於哈瑪星鼓山渡輪站旁，供人與單車通行的景觀橋，是哈瑪星的新地標，白天在橋上可觀賞海港與...           7   \n",
      "4654  ['有興趣的遊客除了來這邊朝拜之外，也可以到附近的美術館參觀，這邊附近環境與高雄市區是不同的...           7   \n",
      "4655  ['少女峰火車站攻頂景點 · 1. Sphinx 觀景台Sphinx-Terrace · 2...           7   \n",
      "4656  ['景點資訊 元亨寺位於高雄市鼓山區壽山山麓下，寺廟以打鼓巖與龍泉禪寺歷史較久而聞名。 元亨...           7   \n",
      "4657  ['鼓山玉旨地嶽殿，主祀東嶽仁聖大帝、地藏王菩薩、李府大神，廟宇位於臺灣高雄鼓山區，坐落於鼓...           7   \n",
      "\n",
      "     label_lCr02 new_cate3  ncat_label02  c_lab021  c_lab022  c_lab023  \n",
      "0              7        老街          20.0      20.0      20.0      20.0  \n",
      "1              7       NaN           NaN       NaN      21.0      21.0  \n",
      "2              7        寺廟           7.0       7.0       7.0       7.0  \n",
      "3              4        瀑布          17.0      17.0      17.0      17.0  \n",
      "4              7       NaN           NaN      21.0      21.0      21.0  \n",
      "...          ...       ...           ...       ...       ...       ...  \n",
      "4653           7       NaN           NaN       NaN      21.0      21.0  \n",
      "4654           7       NaN           NaN      21.0      21.0      21.0  \n",
      "4655           7       NaN           NaN       NaN       NaN      21.0  \n",
      "4656           7       NaN           NaN       7.0       7.0       7.0  \n",
      "4657           7       NaN           NaN       0.0       0.0       0.0  \n",
      "\n",
      "[4658 rows x 51 columns]\n"
     ]
    }
   ],
   "source": [
    "def mode_function(x):\n",
    "    return x.mode()[0] if not x.mode().empty else None\n",
    "\n",
    "mode_by_category = df.groupby('c_lab023')['rw_open_time'].transform(mode_function)\n",
    "\n",
    "# 使用每個 category 組的眾數補全 rw_open_time 的遺失值\n",
    "df['rw_open_time'] = df.apply(\n",
    "    lambda row: mode_by_category[row.name] if pd.isnull(row['rw_open_time']) else row['rw_open_time'],\n",
    "    axis=1\n",
    ")\n",
    "\n",
    "print(df)\n"
   ]
  },
  {
   "cell_type": "code",
   "execution_count": 68,
   "metadata": {},
   "outputs": [],
   "source": [
    "import re\n",
    "\n",
    "def opentime_dataclean(rw_open_time):\n",
    "    \n",
    "    weekday_order = ['星期一', '星期二', '星期三', '星期四', '星期五', '星期六', '星期日']\n",
    "\n",
    "    # 處理1. 24小時營業景點，營業時間調整為00:00-23:59\n",
    "    rw_open_time = rw_open_time.replace('24 小時營業', '00:00–23:59')\n",
    "\n",
    "    weekday_opentime_dict = {}\n",
    "    reg_ex = r'\\d{2}:\\d{2}–\\d{2}:\\d{2}'\n",
    "\n",
    "    for eachday in rw_open_time.split():\n",
    "        weekday = eachday[:3]\n",
    "        # 處理2. 分段營業時間\n",
    "        time_ranges = re.findall(reg_ex, eachday)\n",
    "\n",
    "        # 處理3. 針對營業時間跨天(close < start)做調整: close=23:59\n",
    "        adjusted_time_ranges = []\n",
    "        for time_range in time_ranges:\n",
    "            start_time, end_time = map(str.strip, time_range.split('–'))\n",
    "\n",
    "            if start_time <= end_time:\n",
    "                adjusted_time_ranges.append(str(start_time) + '–' + str(end_time))\n",
    "            else:\n",
    "                adjusted_time_ranges.append(str(start_time) + '–' + '23:59')\n",
    "\n",
    "        weekday_opentime_dict[weekday] = adjusted_time_ranges\n",
    "\n",
    "\n",
    "    # Result1. 每日營業時間(dict) = {key(星期):value(營業時間區段)}\n",
    "    weekday_opentime_dict = {key: weekday_opentime_dict[key] for key in weekday_order}\n",
    "    \n",
    "    # Result2. 使用list記錄每天是否有營業\n",
    "    is_open_list = [1 if weekday_opentime_dict[day] else 0 for day in weekday_order]\n",
    "\n",
    "    return weekday_opentime_dict, is_open_list"
   ]
  },
  {
   "cell_type": "code",
   "execution_count": 69,
   "metadata": {},
   "outputs": [
    {
     "data": {
      "text/html": [
       "<div>\n",
       "<style scoped>\n",
       "    .dataframe tbody tr th:only-of-type {\n",
       "        vertical-align: middle;\n",
       "    }\n",
       "\n",
       "    .dataframe tbody tr th {\n",
       "        vertical-align: top;\n",
       "    }\n",
       "\n",
       "    .dataframe thead th {\n",
       "        text-align: right;\n",
       "    }\n",
       "</style>\n",
       "<table border=\"1\" class=\"dataframe\">\n",
       "  <thead>\n",
       "    <tr style=\"text-align: right;\">\n",
       "      <th></th>\n",
       "      <th>keyword</th>\n",
       "      <th>name</th>\n",
       "      <th>current_time</th>\n",
       "      <th>rating</th>\n",
       "      <th>rating_count</th>\n",
       "      <th>category</th>\n",
       "      <th>address</th>\n",
       "      <th>introduce</th>\n",
       "      <th>Website</th>\n",
       "      <th>img</th>\n",
       "      <th>...</th>\n",
       "      <th>bad</th>\n",
       "      <th>brief_intro</th>\n",
       "      <th>span_intro_</th>\n",
       "      <th>label_lCr01</th>\n",
       "      <th>label_lCr02</th>\n",
       "      <th>new_cate3</th>\n",
       "      <th>ncat_label02</th>\n",
       "      <th>c_lab021</th>\n",
       "      <th>c_lab022</th>\n",
       "      <th>c_lab023</th>\n",
       "    </tr>\n",
       "  </thead>\n",
       "  <tbody>\n",
       "    <tr>\n",
       "      <th>0</th>\n",
       "      <td>南投縣中寮鄉 景點推薦</td>\n",
       "      <td>剝皮寮歷史街區</td>\n",
       "      <td>2023-08-02 18:35:21</td>\n",
       "      <td>4.2</td>\n",
       "      <td>12238</td>\n",
       "      <td>歷史建築</td>\n",
       "      <td>康定路173巷</td>\n",
       "      <td>18 世紀房屋林立的城市街區</td>\n",
       "      <td>https://www.google.com/maps/place/%E5%89%9D%E7...</td>\n",
       "      <td>https://lh5.googleusercontent.com/p/AF1QipP-Th...</td>\n",
       "      <td>...</td>\n",
       "      <td>4</td>\n",
       "      <td>['位於台北萬華老舊巷弄中的台北市鄉土教育中心，是利用「剝皮寮」的舊址，以融入式的教育文化理...</td>\n",
       "      <td>['位於台北萬華老舊巷弄中的台北市鄉土教育中心，是利用「剝皮寮」的舊址，以融入式的教育文化理...</td>\n",
       "      <td>7</td>\n",
       "      <td>7</td>\n",
       "      <td>老街</td>\n",
       "      <td>20.0</td>\n",
       "      <td>20.0</td>\n",
       "      <td>20.0</td>\n",
       "      <td>20.0</td>\n",
       "    </tr>\n",
       "  </tbody>\n",
       "</table>\n",
       "<p>1 rows × 51 columns</p>\n",
       "</div>"
      ],
      "text/plain": [
       "       keyword     name         current_time  rating  rating_count category  \\\n",
       "0  南投縣中寮鄉 景點推薦  剝皮寮歷史街區  2023-08-02 18:35:21     4.2         12238     歷史建築   \n",
       "\n",
       "   address       introduce                                            Website  \\\n",
       "0  康定路173巷  18 世紀房屋林立的城市街區  https://www.google.com/maps/place/%E5%89%9D%E7...   \n",
       "\n",
       "                                                 img  ... bad  \\\n",
       "0  https://lh5.googleusercontent.com/p/AF1QipP-Th...  ...   4   \n",
       "\n",
       "                                         brief_intro  \\\n",
       "0  ['位於台北萬華老舊巷弄中的台北市鄉土教育中心，是利用「剝皮寮」的舊址，以融入式的教育文化理...   \n",
       "\n",
       "                                         span_intro_ label_lCr01 label_lCr02  \\\n",
       "0  ['位於台北萬華老舊巷弄中的台北市鄉土教育中心，是利用「剝皮寮」的舊址，以融入式的教育文化理...           7           7   \n",
       "\n",
       "  new_cate3  ncat_label02  c_lab021  c_lab022  c_lab023  \n",
       "0        老街          20.0      20.0      20.0      20.0  \n",
       "\n",
       "[1 rows x 51 columns]"
      ]
     },
     "execution_count": 69,
     "metadata": {},
     "output_type": "execute_result"
    }
   ],
   "source": [
    "df1 = df.copy()  # 複製一個新的 DataFrame，以免修改原始數據\n",
    "\n",
    "df1['weekday_opentime_dict'] = None\n",
    "df1['is_open_list'] = None\n",
    "\n",
    "# 僅針對非 nan 值進行處理\n",
    "for index, row in df1.iterrows():\n",
    "    # 對 df['rw_open_time'] 欄位進行處理並儲存結果到新的欄位\n",
    "    if pd.notna(row['rw_open_time']):\n",
    "        weekday_opentime_dict, is_open_list = opentime_dataclean(row['rw_open_time'])\n",
    "        df1.at[index, 'weekday_opentime_dict'] = weekday_opentime_dict\n",
    "        df1.at[index, 'is_open_list'] = is_open_list\n",
    "\n",
    "df1.head(1)"
   ]
  },
  {
   "cell_type": "code",
   "execution_count": 70,
   "metadata": {},
   "outputs": [],
   "source": [
    "df = df1"
   ]
  },
  {
   "cell_type": "code",
   "execution_count": null,
   "metadata": {},
   "outputs": [],
   "source": []
  },
  {
   "cell_type": "code",
   "execution_count": null,
   "metadata": {},
   "outputs": [],
   "source": []
  },
  {
   "cell_type": "code",
   "execution_count": 71,
   "metadata": {},
   "outputs": [
    {
     "name": "stdout",
     "output_type": "stream",
     "text": [
      "total search count:  4658\n",
      "name                        0\n",
      "current_time                0\n",
      "rating                      0\n",
      "rating_count                0\n",
      "category                    4\n",
      "address                  1051\n",
      "introduce                 295\n",
      "Website                     0\n",
      "img                         0\n",
      "latitude                    0\n",
      "longitude                   0\n",
      "rw_category                 1\n",
      "rw_tag                     52\n",
      "rw_tickets_sale          4418\n",
      "rw_open_time                0\n",
      "rw_introduction          3478\n",
      "rw_phone                 1873\n",
      "rw_address                  0\n",
      "rw_city                     0\n",
      "rw_town                    10\n",
      "stay_time_min               0\n",
      "weekday_opentime_dict       0\n",
      "is_open_list                0\n",
      "new_star_label              0\n",
      "good                        0\n",
      "neutral                     0\n",
      "bad                         0\n",
      "brief_intro                 0\n",
      "span_intro_                 0\n",
      "label_lCr01                 0\n",
      "label_lCr02                 0\n",
      "new_cate3                3454\n",
      "ncat_label02             3454\n",
      "c_lab021                 2314\n",
      "c_lab022                 1149\n",
      "c_lab023                    0\n",
      "dtype: int64\n"
     ]
    }
   ],
   "source": [
    "print('total search count: ',len(df))\n",
    "print(df.isnull().sum().drop(['keyword','rw_Monday_open','rw_Monday_close','rw_Tuesday_open','rw_Tuesday_close','rw_Wednesday_open','rw_Wednesday_close','rw_Thursday_open','rw_Thursday_close','rw_Friday_open','rw_Friday_close','rw_Saturday_open','rw_Saturday_close','rw_Sunday_open','rw_Sunday_close']))"
   ]
  },
  {
   "cell_type": "code",
   "execution_count": 72,
   "metadata": {},
   "outputs": [],
   "source": [
    "df.to_csv('search_clear_final.csv',encoding='utf-8-sig')"
   ]
  },
  {
   "cell_type": "markdown",
   "metadata": {},
   "source": [
    "建議營業時間補值 -- test 隨機森林補值"
   ]
  },
  {
   "cell_type": "code",
   "execution_count": 73,
   "metadata": {},
   "outputs": [],
   "source": [
    "# df = pd.read_csv(\"new_search_clear.csv\")\n",
    "# df.head(3)"
   ]
  },
  {
   "cell_type": "code",
   "execution_count": 74,
   "metadata": {},
   "outputs": [],
   "source": [
    "# import pandas as pd\n",
    "# from sklearn.ensemble import RandomForestClassifier\n",
    "# from sklearn.preprocessing import LabelEncoder\n",
    "\n",
    "# # 'rw_open_time' 編碼為整數\n",
    "# encoder = LabelEncoder()\n",
    "# known_data = df[df['rw_open_time'].notnull()]\n",
    "# unknown_data = df[df['rw_open_time'].isnull()]\n",
    "\n",
    "# encoded_rw_open_time = encoder.fit_transform(known_data['rw_open_time'])\n",
    "\n",
    "# features = ['rating', 'rating_count']\n",
    "# rf = RandomForestClassifier(n_estimators=100)\n",
    "# rf.fit(known_data[features], encoded_rw_open_time)\n",
    "\n",
    "\n",
    "# predicted_encoded_rw_open_time = rf.predict(unknown_data[features])\n",
    "# predicted_rw_open_time = encoder.inverse_transform(predicted_encoded_rw_open_time)\n",
    "\n",
    "\n",
    "# df.loc[df['rw_open_time'].isnull(), 'rw_open_time'] = predicted_rw_open_time\n"
   ]
  }
 ],
 "metadata": {
  "kernelspec": {
   "display_name": "python",
   "language": "python",
   "name": "python3"
  },
  "language_info": {
   "codemirror_mode": {
    "name": "ipython",
    "version": 3
   },
   "file_extension": ".py",
   "mimetype": "text/x-python",
   "name": "python",
   "nbconvert_exporter": "python",
   "pygments_lexer": "ipython3",
   "version": "3.8.18"
  },
  "orig_nbformat": 4
 },
 "nbformat": 4,
 "nbformat_minor": 2
}
