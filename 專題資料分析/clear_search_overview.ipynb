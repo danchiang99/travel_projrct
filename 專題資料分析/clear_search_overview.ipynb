{
 "cells": [
  {
   "cell_type": "code",
   "execution_count": 91,
   "metadata": {},
   "outputs": [],
   "source": [
    "import pandas as pd\n",
    "import re\n",
    "import matplotlib.pyplot as plt\n",
    "from matplotlib.font_manager import FontProperties"
   ]
  },
  {
   "attachments": {},
   "cell_type": "markdown",
   "metadata": {},
   "source": [
    " 開啟總搜尋資料表"
   ]
  },
  {
   "cell_type": "code",
   "execution_count": null,
   "metadata": {},
   "outputs": [],
   "source": []
  },
  {
   "cell_type": "code",
   "execution_count": 92,
   "metadata": {},
   "outputs": [],
   "source": [
    "# df_search_overview = pd.read_csv('C:/Users/User/Desktop/googleapi/googlemaps爬蟲_ver10/search_overview.csv')\n",
    "df_search_overview = pd.read_csv('C:/Users/User/Desktop/googleapi/googlemaps_爬蟲/googlemaps爬蟲與清整/result/search_overview.csv')\n",
    "df_search_overview = df_search_overview.drop(['Unnamed: 0'],axis = 1)"
   ]
  },
  {
   "cell_type": "code",
   "execution_count": 93,
   "metadata": {},
   "outputs": [
    {
     "data": {
      "text/html": [
       "<div>\n",
       "<style scoped>\n",
       "    .dataframe tbody tr th:only-of-type {\n",
       "        vertical-align: middle;\n",
       "    }\n",
       "\n",
       "    .dataframe tbody tr th {\n",
       "        vertical-align: top;\n",
       "    }\n",
       "\n",
       "    .dataframe thead th {\n",
       "        text-align: right;\n",
       "    }\n",
       "</style>\n",
       "<table border=\"1\" class=\"dataframe\">\n",
       "  <thead>\n",
       "    <tr style=\"text-align: right;\">\n",
       "      <th></th>\n",
       "      <th>keyword</th>\n",
       "      <th>name</th>\n",
       "      <th>current_time</th>\n",
       "      <th>rating</th>\n",
       "      <th>rating_count</th>\n",
       "      <th>category</th>\n",
       "      <th>address</th>\n",
       "      <th>introduce</th>\n",
       "      <th>Website</th>\n",
       "      <th>img</th>\n",
       "      <th>latitude</th>\n",
       "      <th>longitude</th>\n",
       "      <th>rw_category</th>\n",
       "      <th>rw_tag</th>\n",
       "      <th>rw_tickets_sale</th>\n",
       "      <th>rw_open_time</th>\n",
       "      <th>rw_Monday_open</th>\n",
       "      <th>rw_Monday_close</th>\n",
       "      <th>rw_Tuesday_open</th>\n",
       "      <th>rw_Tuesday_close</th>\n",
       "      <th>rw_Wednesday_open</th>\n",
       "      <th>rw_Wednesday_close</th>\n",
       "      <th>rw_Thursday_open</th>\n",
       "      <th>rw_Thursday_close</th>\n",
       "      <th>rw_Friday_open</th>\n",
       "      <th>rw_Friday_close</th>\n",
       "      <th>rw_Saturday_open</th>\n",
       "      <th>rw_Saturday_close</th>\n",
       "      <th>rw_Sunday_open</th>\n",
       "      <th>rw_Sunday_close</th>\n",
       "      <th>rw_introduction</th>\n",
       "      <th>rw_phone</th>\n",
       "      <th>rw_address</th>\n",
       "      <th>rw_city</th>\n",
       "      <th>rw_town</th>\n",
       "      <th>stay_time</th>\n",
       "    </tr>\n",
       "  </thead>\n",
       "  <tbody>\n",
       "    <tr>\n",
       "      <th>0</th>\n",
       "      <td>南投縣中寮鄉 景點推薦</td>\n",
       "      <td>中寮劉家梅園休園（一期一會明年再見）</td>\n",
       "      <td>2023-08-02 18:35:21</td>\n",
       "      <td>4.3</td>\n",
       "      <td>125.0</td>\n",
       "      <td>旅遊景點</td>\n",
       "      <td>頂坑巷12號</td>\n",
       "      <td>NaN</td>\n",
       "      <td>https://www.google.com/maps/place/%E4%B8%AD%E5%AF%AE%E5%8A%89%E5%AE%B6%E6%A2%85%E5%9C%92+%E4%BC%91%E5%9C%92+%EF%BC%88%E4%B8%80%E6%9C%9F%E4%B8%80%E6%9C%83%E6%98%8E%E5%B9%B4%E5%86%8D%E8%A6%8B%EF%BC%89/data=!4m7!3m6!1s0x346928a161e870a5:0xf5b64d71087260e8!8m2!3d23.9553273!4d120.8237057!16s%2Fg%2F11c6cfq6j2!19sChIJpXDoYaEoaTQR6GByCHFNtvU?authuser=0&amp;hl=zh-TW&amp;rclk=1</td>\n",
       "      <td>https://lh5.googleusercontent.com/p/AF1QipPowNN_-sHOTh7S1CrIeWfaL5bUqc9sLM2FbCA-=w162-h92-k-no</td>\n",
       "      <td>23.955327</td>\n",
       "      <td>120.823706</td>\n",
       "      <td>旅遊景點</td>\n",
       "      <td>無障礙入口 無障礙停車場 適合兒童</td>\n",
       "      <td>NaN</td>\n",
       "      <td>NaN</td>\n",
       "      <td>NaN</td>\n",
       "      <td>NaN</td>\n",
       "      <td>NaN</td>\n",
       "      <td>NaN</td>\n",
       "      <td>NaN</td>\n",
       "      <td>NaN</td>\n",
       "      <td>NaN</td>\n",
       "      <td>NaN</td>\n",
       "      <td>NaN</td>\n",
       "      <td>NaN</td>\n",
       "      <td>NaN</td>\n",
       "      <td>NaN</td>\n",
       "      <td>NaN</td>\n",
       "      <td>NaN</td>\n",
       "      <td>NaN</td>\n",
       "      <td>0983 756 921</td>\n",
       "      <td>541南投縣中寮鄉頂坑巷12號</td>\n",
       "      <td>南投縣</td>\n",
       "      <td>中寮鄉</td>\n",
       "      <td>NaN</td>\n",
       "    </tr>\n",
       "    <tr>\n",
       "      <th>1</th>\n",
       "      <td>南投縣中寮鄉 景點推薦</td>\n",
       "      <td>剝皮寮歷史街區</td>\n",
       "      <td>2023-08-02 18:35:21</td>\n",
       "      <td>4.2</td>\n",
       "      <td>12238.0</td>\n",
       "      <td>歷史建築</td>\n",
       "      <td>康定路173巷</td>\n",
       "      <td>18 世紀房屋林立的城市街區</td>\n",
       "      <td>https://www.google.com/maps/place/%E5%89%9D%E7%9A%AE%E5%AF%AE%E6%AD%B7%E5%8F%B2%E8%A1%97%E5%8D%80/data=!4m7!3m6!1s0x3442a9a8d017b6dd:0xff3361bbadd40fe9!8m2!3d25.036838!4d121.5021648!16s%2Fg%2F155r2_r7!19sChIJ3bYX0KipQjQR6Q_UrbthM_8?authuser=0&amp;hl=zh-TW&amp;rclk=1</td>\n",
       "      <td>https://lh5.googleusercontent.com/p/AF1QipP-Th0_kVH7FwpP1nvvsa7-FUeay2h85eQhG4eV=w122-h92-k-no</td>\n",
       "      <td>25.036838</td>\n",
       "      <td>121.502165</td>\n",
       "      <td>旅遊景點</td>\n",
       "      <td>無障礙入口 無障礙洗手間 性別友善洗手間 適合兒童</td>\n",
       "      <td>NaN</td>\n",
       "      <td>星期二09:00–18:00 星期三09:00–18:00 星期四09:00–18:00 星期五09:00–18:00 星期六09:00–18:00 星期日09:00–18:00 星期一休息</td>\n",
       "      <td>NaN</td>\n",
       "      <td>NaN</td>\n",
       "      <td>900.0</td>\n",
       "      <td>1800.0</td>\n",
       "      <td>900.0</td>\n",
       "      <td>1800.0</td>\n",
       "      <td>900.0</td>\n",
       "      <td>1800.0</td>\n",
       "      <td>900.0</td>\n",
       "      <td>1800.0</td>\n",
       "      <td>900.0</td>\n",
       "      <td>1800.0</td>\n",
       "      <td>900.0</td>\n",
       "      <td>1800.0</td>\n",
       "      <td>具歷史意義的城市街區，坐擁 18 世紀傳統建築群，另有教育中心。</td>\n",
       "      <td>02 2302 3199</td>\n",
       "      <td>108台北市萬華區康定路173巷</td>\n",
       "      <td>台北市</td>\n",
       "      <td>萬華區</td>\n",
       "      <td>NaN</td>\n",
       "    </tr>\n",
       "  </tbody>\n",
       "</table>\n",
       "</div>"
      ],
      "text/plain": [
       "       keyword                name         current_time  rating  rating_count  \\\n",
       "0  南投縣中寮鄉 景點推薦  中寮劉家梅園休園（一期一會明年再見）  2023-08-02 18:35:21     4.3         125.0   \n",
       "1  南投縣中寮鄉 景點推薦             剝皮寮歷史街區  2023-08-02 18:35:21     4.2       12238.0   \n",
       "\n",
       "  category  address       introduce  \\\n",
       "0     旅遊景點   頂坑巷12號             NaN   \n",
       "1     歷史建築  康定路173巷  18 世紀房屋林立的城市街區   \n",
       "\n",
       "                                                                                                                                                                                                                                                                                                                                                                      Website  \\\n",
       "0  https://www.google.com/maps/place/%E4%B8%AD%E5%AF%AE%E5%8A%89%E5%AE%B6%E6%A2%85%E5%9C%92+%E4%BC%91%E5%9C%92+%EF%BC%88%E4%B8%80%E6%9C%9F%E4%B8%80%E6%9C%83%E6%98%8E%E5%B9%B4%E5%86%8D%E8%A6%8B%EF%BC%89/data=!4m7!3m6!1s0x346928a161e870a5:0xf5b64d71087260e8!8m2!3d23.9553273!4d120.8237057!16s%2Fg%2F11c6cfq6j2!19sChIJpXDoYaEoaTQR6GByCHFNtvU?authuser=0&hl=zh-TW&rclk=1   \n",
       "1                                                                                                          https://www.google.com/maps/place/%E5%89%9D%E7%9A%AE%E5%AF%AE%E6%AD%B7%E5%8F%B2%E8%A1%97%E5%8D%80/data=!4m7!3m6!1s0x3442a9a8d017b6dd:0xff3361bbadd40fe9!8m2!3d25.036838!4d121.5021648!16s%2Fg%2F155r2_r7!19sChIJ3bYX0KipQjQR6Q_UrbthM_8?authuser=0&hl=zh-TW&rclk=1   \n",
       "\n",
       "                                                                                              img  \\\n",
       "0  https://lh5.googleusercontent.com/p/AF1QipPowNN_-sHOTh7S1CrIeWfaL5bUqc9sLM2FbCA-=w162-h92-k-no   \n",
       "1  https://lh5.googleusercontent.com/p/AF1QipP-Th0_kVH7FwpP1nvvsa7-FUeay2h85eQhG4eV=w122-h92-k-no   \n",
       "\n",
       "    latitude   longitude rw_category                      rw_tag  \\\n",
       "0  23.955327  120.823706        旅遊景點          無障礙入口 無障礙停車場 適合兒童    \n",
       "1  25.036838  121.502165        旅遊景點  無障礙入口 無障礙洗手間 性別友善洗手間 適合兒童    \n",
       "\n",
       "  rw_tickets_sale  \\\n",
       "0             NaN   \n",
       "1             NaN   \n",
       "\n",
       "                                                                                       rw_open_time  \\\n",
       "0                                                                                               NaN   \n",
       "1  星期二09:00–18:00 星期三09:00–18:00 星期四09:00–18:00 星期五09:00–18:00 星期六09:00–18:00 星期日09:00–18:00 星期一休息    \n",
       "\n",
       "   rw_Monday_open  rw_Monday_close  rw_Tuesday_open  rw_Tuesday_close  \\\n",
       "0             NaN              NaN              NaN               NaN   \n",
       "1             NaN              NaN            900.0            1800.0   \n",
       "\n",
       "   rw_Wednesday_open  rw_Wednesday_close  rw_Thursday_open  rw_Thursday_close  \\\n",
       "0                NaN                 NaN               NaN                NaN   \n",
       "1              900.0              1800.0             900.0             1800.0   \n",
       "\n",
       "   rw_Friday_open  rw_Friday_close  rw_Saturday_open  rw_Saturday_close  \\\n",
       "0             NaN              NaN               NaN                NaN   \n",
       "1           900.0           1800.0             900.0             1800.0   \n",
       "\n",
       "   rw_Sunday_open  rw_Sunday_close                   rw_introduction  \\\n",
       "0             NaN              NaN                               NaN   \n",
       "1           900.0           1800.0  具歷史意義的城市街區，坐擁 18 世紀傳統建築群，另有教育中心。   \n",
       "\n",
       "       rw_phone        rw_address rw_city rw_town stay_time  \n",
       "0  0983 756 921   541南投縣中寮鄉頂坑巷12號     南投縣     中寮鄉       NaN  \n",
       "1  02 2302 3199  108台北市萬華區康定路173巷     台北市     萬華區       NaN  "
      ]
     },
     "execution_count": 93,
     "metadata": {},
     "output_type": "execute_result"
    }
   ],
   "source": [
    "pd.set_option('display.max_columns', None)\n",
    "pd.set_option('display.max_colwidth', None)\n",
    "\n",
    "df_search_overview.head(2)"
   ]
  },
  {
   "cell_type": "code",
   "execution_count": 94,
   "metadata": {},
   "outputs": [
    {
     "name": "stdout",
     "output_type": "stream",
     "text": [
      "total search count:  6075\n"
     ]
    },
    {
     "data": {
      "text/plain": [
       "name                  0\n",
       "current_time          0\n",
       "rating                0\n",
       "rating_count          0\n",
       "category             12\n",
       "address            1483\n",
       "introduce           656\n",
       "Website               0\n",
       "img                   0\n",
       "latitude             32\n",
       "longitude            32\n",
       "rw_category          12\n",
       "rw_tag               85\n",
       "rw_tickets_sale    5823\n",
       "rw_open_time        801\n",
       "rw_introduction    4823\n",
       "rw_phone           2618\n",
       "rw_address            0\n",
       "rw_city               6\n",
       "rw_town              20\n",
       "stay_time          3541\n",
       "dtype: int64"
      ]
     },
     "execution_count": 94,
     "metadata": {},
     "output_type": "execute_result"
    }
   ],
   "source": [
    "print('total search count: ',len(df_search_overview))\n",
    "df_search_overview.isnull().sum().drop(['keyword','rw_Monday_open','rw_Monday_close','rw_Tuesday_open','rw_Tuesday_close','rw_Wednesday_open','rw_Wednesday_close','rw_Thursday_open','rw_Thursday_close','rw_Friday_open','rw_Friday_close','rw_Saturday_open','rw_Saturday_close','rw_Sunday_open','rw_Sunday_close'])\n",
    "\n"
   ]
  },
  {
   "attachments": {},
   "cell_type": "markdown",
   "metadata": {},
   "source": [
    "各縣市景點數量"
   ]
  },
  {
   "cell_type": "code",
   "execution_count": 95,
   "metadata": {},
   "outputs": [
    {
     "name": "stdout",
     "output_type": "stream",
     "text": [
      "total_sum 6069\n"
     ]
    },
    {
     "data": {
      "text/plain": [
       "新北市    848\n",
       "台中市    551\n",
       "高雄市    508\n",
       "台南市    489\n",
       "台北市    412\n",
       "苗栗縣    340\n",
       "屏東縣    332\n",
       "桃園市    325\n",
       "嘉義縣    312\n",
       "彰化縣    267\n",
       "南投縣    230\n",
       "台東縣    227\n",
       "花蓮縣    200\n",
       "新竹縣    198\n",
       "雲林縣    187\n",
       "宜蘭縣    164\n",
       "澎湖縣    128\n",
       "基隆市    114\n",
       "金門縣     75\n",
       "新竹市     69\n",
       "連江縣     64\n",
       "嘉義市     28\n",
       "桃園縣      1\n",
       "Name: rw_city, dtype: int64"
      ]
     },
     "execution_count": 95,
     "metadata": {},
     "output_type": "execute_result"
    }
   ],
   "source": [
    "country_counts = df_search_overview['rw_city'].value_counts()\n",
    "total_sum = country_counts.sum()\n",
    "print(\"total_sum\",total_sum)\n",
    "country_counts"
   ]
  },
  {
   "cell_type": "code",
   "execution_count": 96,
   "metadata": {},
   "outputs": [],
   "source": [
    "# canada_indices = df_search_overview.index[df_search_overview['rw_city'] == '文山區台北市']\n",
    "# canada_indices"
   ]
  },
  {
   "cell_type": "code",
   "execution_count": 97,
   "metadata": {},
   "outputs": [
    {
     "data": {
      "text/plain": [
       "桃園縣    1\n",
       "Name: rw_city, dtype: int64"
      ]
     },
     "execution_count": 97,
     "metadata": {},
     "output_type": "execute_result"
    }
   ],
   "source": [
    "country_counts[country_counts < 10]"
   ]
  },
  {
   "cell_type": "code",
   "execution_count": 98,
   "metadata": {},
   "outputs": [
    {
     "name": "stdout",
     "output_type": "stream",
     "text": [
      "3424    東勢\n",
      "Name: name, dtype: object\n"
     ]
    }
   ],
   "source": [
    "tmpcitylist = country_counts[country_counts < 10].index\n",
    "for i in tmpcitylist:\n",
    "    print(df_search_overview[df_search_overview['rw_city'] == i]['name'])\n",
    "# tmpcitylist/"
   ]
  },
  {
   "cell_type": "code",
   "execution_count": 99,
   "metadata": {},
   "outputs": [],
   "source": [
    "# # 先整理數量少的 可能是沒分好\n",
    "# country_counts[country_counts < 10]\n",
    "\n",
    "# tmpcitylist = country_counts[country_counts < 10].index.tolist()\n",
    "# for i in tmpcitylist:\n",
    "#     match = re.search(r\"[區鄉鎮市村](.+?[市縣])\", i)\n",
    "#     if match:\n",
    "#         city = match.group(1)\n",
    "\n",
    "#     df_search_overview['rw_city'] = df_search_overview['rw_city'].replace(i, city)"
   ]
  },
  {
   "cell_type": "code",
   "execution_count": 100,
   "metadata": {},
   "outputs": [],
   "source": [
    "# 桃園縣 改 桃園市\n",
    "df_search_overview['rw_city'] = df_search_overview['rw_city'].replace('桃園縣', '桃園市')"
   ]
  },
  {
   "cell_type": "code",
   "execution_count": 101,
   "metadata": {},
   "outputs": [
    {
     "name": "stdout",
     "output_type": "stream",
     "text": [
      "total_sum 6069\n"
     ]
    },
    {
     "data": {
      "text/plain": [
       "新北市    848\n",
       "台中市    551\n",
       "高雄市    508\n",
       "台南市    489\n",
       "台北市    412\n",
       "苗栗縣    340\n",
       "屏東縣    332\n",
       "桃園市    326\n",
       "嘉義縣    312\n",
       "彰化縣    267\n",
       "南投縣    230\n",
       "台東縣    227\n",
       "花蓮縣    200\n",
       "新竹縣    198\n",
       "雲林縣    187\n",
       "宜蘭縣    164\n",
       "澎湖縣    128\n",
       "基隆市    114\n",
       "金門縣     75\n",
       "新竹市     69\n",
       "連江縣     64\n",
       "嘉義市     28\n",
       "Name: rw_city, dtype: int64"
      ]
     },
     "execution_count": 101,
     "metadata": {},
     "output_type": "execute_result"
    }
   ],
   "source": [
    "# 看整理完後狀況\n",
    "country_counts = df_search_overview['rw_city'].value_counts()\n",
    "total_sum = country_counts.sum()\n",
    "print(\"total_sum\",total_sum)\n",
    "country_counts"
   ]
  },
  {
   "cell_type": "code",
   "execution_count": 102,
   "metadata": {},
   "outputs": [
    {
     "name": "stdout",
     "output_type": "stream",
     "text": [
      "總資料筆數:  6,075\n",
      "以分類比數: 6069\n",
      "新北市    13.97%\n",
      "台中市     9.08%\n",
      "高雄市     8.37%\n",
      "台南市     8.06%\n",
      "台北市     6.79%\n",
      "苗栗縣     5.60%\n",
      "屏東縣     5.47%\n",
      "桃園市     5.37%\n",
      "嘉義縣     5.14%\n",
      "彰化縣     4.40%\n",
      "南投縣     3.79%\n",
      "台東縣     3.74%\n",
      "花蓮縣     3.30%\n",
      "新竹縣     3.26%\n",
      "雲林縣     3.08%\n",
      "宜蘭縣     2.70%\n",
      "澎湖縣     2.11%\n",
      "基隆市     1.88%\n",
      "金門縣     1.24%\n",
      "新竹市     1.14%\n",
      "連江縣     1.05%\n",
      "嘉義市     0.46%\n",
      "Name: rw_city, dtype: object\n"
     ]
    }
   ],
   "source": [
    "# 計算比例\n",
    "total_sum = country_counts.sum()\n",
    "count_by_category_percentage = country_counts / total_sum\n",
    "print('總資料筆數: ','{:,}'.format(len(df_search_overview)))\n",
    "print('以分類比數:',total_sum)\n",
    "print(count_by_category_percentage.apply(lambda x: '{:.2%}'.format(x)))"
   ]
  },
  {
   "attachments": {},
   "cell_type": "markdown",
   "metadata": {},
   "source": [
    "檢查rw_city空值狀況"
   ]
  },
  {
   "cell_type": "code",
   "execution_count": 103,
   "metadata": {},
   "outputs": [
    {
     "name": "stdout",
     "output_type": "stream",
     "text": [
      "city null count:  6\n",
      "total count:  6075\n",
      "city null rate:  0.1 %\n",
      "rw_city_null: \n"
     ]
    },
    {
     "data": {
      "text/html": [
       "<div>\n",
       "<style scoped>\n",
       "    .dataframe tbody tr th:only-of-type {\n",
       "        vertical-align: middle;\n",
       "    }\n",
       "\n",
       "    .dataframe tbody tr th {\n",
       "        vertical-align: top;\n",
       "    }\n",
       "\n",
       "    .dataframe thead th {\n",
       "        text-align: right;\n",
       "    }\n",
       "</style>\n",
       "<table border=\"1\" class=\"dataframe\">\n",
       "  <thead>\n",
       "    <tr style=\"text-align: right;\">\n",
       "      <th></th>\n",
       "      <th>keyword</th>\n",
       "      <th>name</th>\n",
       "      <th>current_time</th>\n",
       "      <th>rating</th>\n",
       "      <th>rating_count</th>\n",
       "      <th>category</th>\n",
       "      <th>address</th>\n",
       "      <th>introduce</th>\n",
       "      <th>Website</th>\n",
       "      <th>img</th>\n",
       "      <th>latitude</th>\n",
       "      <th>longitude</th>\n",
       "      <th>rw_category</th>\n",
       "      <th>rw_tag</th>\n",
       "      <th>rw_tickets_sale</th>\n",
       "      <th>rw_open_time</th>\n",
       "      <th>rw_Monday_open</th>\n",
       "      <th>rw_Monday_close</th>\n",
       "      <th>rw_Tuesday_open</th>\n",
       "      <th>rw_Tuesday_close</th>\n",
       "      <th>rw_Wednesday_open</th>\n",
       "      <th>rw_Wednesday_close</th>\n",
       "      <th>rw_Thursday_open</th>\n",
       "      <th>rw_Thursday_close</th>\n",
       "      <th>rw_Friday_open</th>\n",
       "      <th>rw_Friday_close</th>\n",
       "      <th>rw_Saturday_open</th>\n",
       "      <th>rw_Saturday_close</th>\n",
       "      <th>rw_Sunday_open</th>\n",
       "      <th>rw_Sunday_close</th>\n",
       "      <th>rw_introduction</th>\n",
       "      <th>rw_phone</th>\n",
       "      <th>rw_address</th>\n",
       "      <th>rw_city</th>\n",
       "      <th>rw_town</th>\n",
       "      <th>stay_time</th>\n",
       "    </tr>\n",
       "  </thead>\n",
       "  <tbody>\n",
       "    <tr>\n",
       "      <th>3526</th>\n",
       "      <td>臺中市清水區 景點推薦</td>\n",
       "      <td>高美濕地木棧道</td>\n",
       "      <td>2023-08-02 13:36:35</td>\n",
       "      <td>4.8</td>\n",
       "      <td>31.0</td>\n",
       "      <td>旅遊景點</td>\n",
       "      <td>436</td>\n",
       "      <td>NaN</td>\n",
       "      <td>https://www.google.com/maps/place/%E9%AB%98%E7%BE%8E%E6%BF%95%E5%9C%B0%E6%9C%A8%E6%A3%A7%E9%81%93/data=!4m7!3m6!1s0x3469138c836181bd:0xdf6435442ccdebd9!8m2!3d24.3122662!4d120.548809!16s%2Fg%2F11st8wm59q!19sChIJvYFhg4wTaTQR2evNLEQ1ZN8?authuser=0&amp;hl=zh-TW&amp;rclk=1</td>\n",
       "      <td>https://lh5.googleusercontent.com/p/AF1QipPOAEauetywngUoSMCbIDS4VupjQrntfiXq5i4q=w137-h92-k-no</td>\n",
       "      <td>24.312266</td>\n",
       "      <td>120.548809</td>\n",
       "      <td>旅遊景點</td>\n",
       "      <td>適合兒童</td>\n",
       "      <td>NaN</td>\n",
       "      <td>NaN</td>\n",
       "      <td>NaN</td>\n",
       "      <td>NaN</td>\n",
       "      <td>NaN</td>\n",
       "      <td>NaN</td>\n",
       "      <td>NaN</td>\n",
       "      <td>NaN</td>\n",
       "      <td>NaN</td>\n",
       "      <td>NaN</td>\n",
       "      <td>NaN</td>\n",
       "      <td>NaN</td>\n",
       "      <td>NaN</td>\n",
       "      <td>NaN</td>\n",
       "      <td>NaN</td>\n",
       "      <td>NaN</td>\n",
       "      <td>NaN</td>\n",
       "      <td>NaN</td>\n",
       "      <td>清水區436</td>\n",
       "      <td>NaN</td>\n",
       "      <td>NaN</td>\n",
       "      <td>NaN</td>\n",
       "    </tr>\n",
       "    <tr>\n",
       "      <th>3626</th>\n",
       "      <td>臺北市 景點推薦</td>\n",
       "      <td>陽明山國家公園</td>\n",
       "      <td>2023-08-02 09:55:47</td>\n",
       "      <td>4.5</td>\n",
       "      <td>23880.0</td>\n",
       "      <td>旅遊景點</td>\n",
       "      <td>NaN</td>\n",
       "      <td>風景如畫的地區，有火山，適合健走</td>\n",
       "      <td>https://www.google.com/maps/place/%E9%99%BD%E6%98%8E%E5%B1%B1%E5%9C%8B%E5%AE%B6%E5%85%AC%E5%9C%92/data=!4m7!3m6!1s0x3442adf824cfc74b:0x5c0be3a34fc3b079!8m2!3d25.1942462!4d121.5609363!16zL20vMDJzZjZt!19sChIJS8fPJPitQjQRebDDT6PjC1w?authuser=0&amp;hl=zh-TW&amp;rclk=1</td>\n",
       "      <td>https://lh5.googleusercontent.com/p/AF1QipNG_qzs-m4dG_NGfnYX2OMq9ntsATxj5F8J9MTN=w122-h92-k-no</td>\n",
       "      <td>25.194246</td>\n",
       "      <td>121.560936</td>\n",
       "      <td>旅遊景點</td>\n",
       "      <td>無障礙入口 無障礙停車場 健行 允許帶狗 公共廁所 野餐桌 適合兒童</td>\n",
       "      <td>免費</td>\n",
       "      <td>NaN</td>\n",
       "      <td>NaN</td>\n",
       "      <td>NaN</td>\n",
       "      <td>NaN</td>\n",
       "      <td>NaN</td>\n",
       "      <td>NaN</td>\n",
       "      <td>NaN</td>\n",
       "      <td>NaN</td>\n",
       "      <td>NaN</td>\n",
       "      <td>NaN</td>\n",
       "      <td>NaN</td>\n",
       "      <td>NaN</td>\n",
       "      <td>NaN</td>\n",
       "      <td>NaN</td>\n",
       "      <td>NaN</td>\n",
       "      <td>風景秀麗的景點，有溫泉和健走步道，該國最大的休眠火山也位於此。</td>\n",
       "      <td>NaN</td>\n",
       "      <td>ymsnp.gov.tw</td>\n",
       "      <td>NaN</td>\n",
       "      <td>NaN</td>\n",
       "      <td>NaN</td>\n",
       "    </tr>\n",
       "    <tr>\n",
       "      <th>4524</th>\n",
       "      <td>臺東縣東河鄉 景點推薦</td>\n",
       "      <td>石雨傘</td>\n",
       "      <td>2023-08-02 13:24:30</td>\n",
       "      <td>4.1</td>\n",
       "      <td>2573.0</td>\n",
       "      <td>旅遊景點</td>\n",
       "      <td>鎮台11線105.8號TW公里</td>\n",
       "      <td>24 小時營業</td>\n",
       "      <td>https://www.google.com/maps/place/%E7%9F%B3%E9%9B%A8%E5%82%98/data=!4m7!3m6!1s0x34689e003324b24b:0x557d6be812b9b8b3!8m2!3d23.1745127!4d121.4009362!16s%2Fg%2F1tfh2d3m!19sChIJS7IkMwCeaDQRs7i5EuhrfVU?authuser=0&amp;hl=zh-TW&amp;rclk=1</td>\n",
       "      <td>https://lh5.googleusercontent.com/p/AF1QipOqUT8RecpqMGLrHRpQPB8bE5nqPK8Cx3Gx9gCP=w163-h92-k-no</td>\n",
       "      <td>23.174513</td>\n",
       "      <td>121.400936</td>\n",
       "      <td>旅遊景點</td>\n",
       "      <td>適合兒童</td>\n",
       "      <td>NaN</td>\n",
       "      <td>星期三24 小時營業 星期四24 小時營業 星期五24 小時營業 星期六24 小時營業 星期日24 小時營業 星期一24 小時營業 星期二24 小時營業</td>\n",
       "      <td>0.0</td>\n",
       "      <td>2400.0</td>\n",
       "      <td>0.0</td>\n",
       "      <td>2400.0</td>\n",
       "      <td>0.0</td>\n",
       "      <td>2400.0</td>\n",
       "      <td>0.0</td>\n",
       "      <td>2400.0</td>\n",
       "      <td>0.0</td>\n",
       "      <td>2400.0</td>\n",
       "      <td>0.0</td>\n",
       "      <td>2400.0</td>\n",
       "      <td>0.0</td>\n",
       "      <td>2400.0</td>\n",
       "      <td>NaN</td>\n",
       "      <td>08 928 0313</td>\n",
       "      <td>成功鎮鎮台11線105.8號TW 公里</td>\n",
       "      <td>NaN</td>\n",
       "      <td>NaN</td>\n",
       "      <td>NaN</td>\n",
       "    </tr>\n",
       "    <tr>\n",
       "      <th>4964</th>\n",
       "      <td>苗栗縣卓蘭鎮 景點推薦</td>\n",
       "      <td>白布帆砲台古道</td>\n",
       "      <td>2023-08-08 18:44:15</td>\n",
       "      <td>4.2</td>\n",
       "      <td>231.0</td>\n",
       "      <td>景點</td>\n",
       "      <td>24.296498,120</td>\n",
       "      <td>24 小時營業</td>\n",
       "      <td>https://www.google.com/maps/place/%E7%99%BD%E5%B8%83%E5%B8%86%E7%A0%B2%E5%8F%B0%E5%8F%A4%E9%81%93/data=!4m7!3m6!1s0x3468fd5ac4af3759:0xe7ab81cd75d68f!8m2!3d24.296498!4d120.906253!16s%2Fg%2F11hbjl_t43!19sChIJWTevxFr9aDQRj9Z1zYGr5wA?authuser=0&amp;hl=zh-TW&amp;rclk=1</td>\n",
       "      <td>https://lh5.googleusercontent.com/p/AF1QipOXAVY666tg8fZuqMOiJxGF0mcoipgpT-Huagat=w122-h92-k-no</td>\n",
       "      <td>24.296498</td>\n",
       "      <td>120.906253</td>\n",
       "      <td>景點</td>\n",
       "      <td>無障礙入口 無障礙停車場</td>\n",
       "      <td>NaN</td>\n",
       "      <td>星期三24 小時營業 星期四24 小時營業 星期五24 小時營業 星期六24 小時營業 星期日24 小時營業 星期一24 小時營業 星期二24 小時營業</td>\n",
       "      <td>0.0</td>\n",
       "      <td>2400.0</td>\n",
       "      <td>0.0</td>\n",
       "      <td>2400.0</td>\n",
       "      <td>0.0</td>\n",
       "      <td>2400.0</td>\n",
       "      <td>0.0</td>\n",
       "      <td>2400.0</td>\n",
       "      <td>0.0</td>\n",
       "      <td>2400.0</td>\n",
       "      <td>0.0</td>\n",
       "      <td>2400.0</td>\n",
       "      <td>0.0</td>\n",
       "      <td>2400.0</td>\n",
       "      <td>NaN</td>\n",
       "      <td>NaN</td>\n",
       "      <td>24.296498, 120</td>\n",
       "      <td>NaN</td>\n",
       "      <td>NaN</td>\n",
       "      <td>15 分鐘到 1 小時</td>\n",
       "    </tr>\n",
       "    <tr>\n",
       "      <th>4968</th>\n",
       "      <td>苗栗縣卓蘭鎮 景點推薦</td>\n",
       "      <td>卓蘭老街</td>\n",
       "      <td>2023-08-08 18:44:15</td>\n",
       "      <td>4.0</td>\n",
       "      <td>1.0</td>\n",
       "      <td>休息站</td>\n",
       "      <td>NaN</td>\n",
       "      <td>即將打烊：19:00 ⋅ 開始營業時間：週三07:00</td>\n",
       "      <td>https://www.google.com/maps/place/%E5%8D%93%E8%98%AD%E8%80%81%E8%A1%97/data=!4m7!3m6!1s0x3469034a5d5ec627:0x4ee566d9d99f34d7!8m2!3d24.3143915!4d120.8266991!16s%2Fg%2F11qnjr6m_s!19sChIJJ8ZeXUoDaTQR1zSf2dlm5U4?authuser=0&amp;hl=zh-TW&amp;rclk=1</td>\n",
       "      <td>//maps.gstatic.com/tactile/pane/default_geocode-1x.png</td>\n",
       "      <td>24.314391</td>\n",
       "      <td>120.826699</td>\n",
       "      <td>休息站</td>\n",
       "      <td>NaN</td>\n",
       "      <td>NaN</td>\n",
       "      <td>星期三07:00–19:00 星期四07:00–19:00 星期五休息 星期六休息 星期日07:00–20:00 星期一休息 星期二07:00–19:00</td>\n",
       "      <td>NaN</td>\n",
       "      <td>NaN</td>\n",
       "      <td>700.0</td>\n",
       "      <td>1900.0</td>\n",
       "      <td>700.0</td>\n",
       "      <td>1900.0</td>\n",
       "      <td>700.0</td>\n",
       "      <td>1900.0</td>\n",
       "      <td>NaN</td>\n",
       "      <td>NaN</td>\n",
       "      <td>NaN</td>\n",
       "      <td>NaN</td>\n",
       "      <td>700.0</td>\n",
       "      <td>2000.0</td>\n",
       "      <td>NaN</td>\n",
       "      <td>NaN</td>\n",
       "      <td>0977 020 422</td>\n",
       "      <td>NaN</td>\n",
       "      <td>NaN</td>\n",
       "      <td>NaN</td>\n",
       "    </tr>\n",
       "    <tr>\n",
       "      <th>4985</th>\n",
       "      <td>苗栗縣南庄鄉 景點推薦</td>\n",
       "      <td>ShuixingSuspensionBridge</td>\n",
       "      <td>2023-08-02 18:12:00</td>\n",
       "      <td>4.4</td>\n",
       "      <td>45.0</td>\n",
       "      <td>旅遊景點</td>\n",
       "      <td>中港溪</td>\n",
       "      <td>NaN</td>\n",
       "      <td>https://www.google.com/maps/place/Shuixing+Suspension+Bridge/data=!4m7!3m6!1s0x34684e1466a98dbd:0x400abed6b550d4be!8m2!3d24.6209708!4d121.0059202!16s%2Fg%2F11c0vxjh21!19sChIJvY2pZhROaDQRvtRQtda-CkA?authuser=0&amp;hl=zh-TW&amp;rclk=1</td>\n",
       "      <td>https://lh5.googleusercontent.com/p/AF1QipM9c1iVe3K2sEpY9dnTKhYgbx0wu5Clphs40YFs=w80-h106-k-no</td>\n",
       "      <td>24.620971</td>\n",
       "      <td>121.005920</td>\n",
       "      <td>旅遊景點</td>\n",
       "      <td>無障礙停車場 適合兒童</td>\n",
       "      <td>NaN</td>\n",
       "      <td>NaN</td>\n",
       "      <td>NaN</td>\n",
       "      <td>NaN</td>\n",
       "      <td>NaN</td>\n",
       "      <td>NaN</td>\n",
       "      <td>NaN</td>\n",
       "      <td>NaN</td>\n",
       "      <td>NaN</td>\n",
       "      <td>NaN</td>\n",
       "      <td>NaN</td>\n",
       "      <td>NaN</td>\n",
       "      <td>NaN</td>\n",
       "      <td>NaN</td>\n",
       "      <td>NaN</td>\n",
       "      <td>NaN</td>\n",
       "      <td>NaN</td>\n",
       "      <td>NaN</td>\n",
       "      <td>中港 溪</td>\n",
       "      <td>NaN</td>\n",
       "      <td>NaN</td>\n",
       "      <td>NaN</td>\n",
       "    </tr>\n",
       "  </tbody>\n",
       "</table>\n",
       "</div>"
      ],
      "text/plain": [
       "          keyword                      name         current_time  rating  \\\n",
       "3526  臺中市清水區 景點推薦                   高美濕地木棧道  2023-08-02 13:36:35     4.8   \n",
       "3626     臺北市 景點推薦                   陽明山國家公園  2023-08-02 09:55:47     4.5   \n",
       "4524  臺東縣東河鄉 景點推薦                       石雨傘  2023-08-02 13:24:30     4.1   \n",
       "4964  苗栗縣卓蘭鎮 景點推薦                   白布帆砲台古道  2023-08-08 18:44:15     4.2   \n",
       "4968  苗栗縣卓蘭鎮 景點推薦                      卓蘭老街  2023-08-08 18:44:15     4.0   \n",
       "4985  苗栗縣南庄鄉 景點推薦  ShuixingSuspensionBridge  2023-08-02 18:12:00     4.4   \n",
       "\n",
       "      rating_count category          address                    introduce  \\\n",
       "3526          31.0     旅遊景點              436                          NaN   \n",
       "3626       23880.0     旅遊景點              NaN             風景如畫的地區，有火山，適合健走   \n",
       "4524        2573.0     旅遊景點  鎮台11線105.8號TW公里                      24 小時營業   \n",
       "4964         231.0       景點    24.296498,120                      24 小時營業   \n",
       "4968           1.0      休息站              NaN  即將打烊：19:00 ⋅ 開始營業時間：週三07:00   \n",
       "4985          45.0     旅遊景點              中港溪                          NaN   \n",
       "\n",
       "                                                                                                                                                                                                                                                                   Website  \\\n",
       "3526  https://www.google.com/maps/place/%E9%AB%98%E7%BE%8E%E6%BF%95%E5%9C%B0%E6%9C%A8%E6%A3%A7%E9%81%93/data=!4m7!3m6!1s0x3469138c836181bd:0xdf6435442ccdebd9!8m2!3d24.3122662!4d120.548809!16s%2Fg%2F11st8wm59q!19sChIJvYFhg4wTaTQR2evNLEQ1ZN8?authuser=0&hl=zh-TW&rclk=1   \n",
       "3626      https://www.google.com/maps/place/%E9%99%BD%E6%98%8E%E5%B1%B1%E5%9C%8B%E5%AE%B6%E5%85%AC%E5%9C%92/data=!4m7!3m6!1s0x3442adf824cfc74b:0x5c0be3a34fc3b079!8m2!3d25.1942462!4d121.5609363!16zL20vMDJzZjZt!19sChIJS8fPJPitQjQRebDDT6PjC1w?authuser=0&hl=zh-TW&rclk=1   \n",
       "4524                                       https://www.google.com/maps/place/%E7%9F%B3%E9%9B%A8%E5%82%98/data=!4m7!3m6!1s0x34689e003324b24b:0x557d6be812b9b8b3!8m2!3d23.1745127!4d121.4009362!16s%2Fg%2F1tfh2d3m!19sChIJS7IkMwCeaDQRs7i5EuhrfVU?authuser=0&hl=zh-TW&rclk=1   \n",
       "4964     https://www.google.com/maps/place/%E7%99%BD%E5%B8%83%E5%B8%86%E7%A0%B2%E5%8F%B0%E5%8F%A4%E9%81%93/data=!4m7!3m6!1s0x3468fd5ac4af3759:0xe7ab81cd75d68f!8m2!3d24.296498!4d120.906253!16s%2Fg%2F11hbjl_t43!19sChIJWTevxFr9aDQRj9Z1zYGr5wA?authuser=0&hl=zh-TW&rclk=1   \n",
       "4968                            https://www.google.com/maps/place/%E5%8D%93%E8%98%AD%E8%80%81%E8%A1%97/data=!4m7!3m6!1s0x3469034a5d5ec627:0x4ee566d9d99f34d7!8m2!3d24.3143915!4d120.8266991!16s%2Fg%2F11qnjr6m_s!19sChIJJ8ZeXUoDaTQR1zSf2dlm5U4?authuser=0&hl=zh-TW&rclk=1   \n",
       "4985                                      https://www.google.com/maps/place/Shuixing+Suspension+Bridge/data=!4m7!3m6!1s0x34684e1466a98dbd:0x400abed6b550d4be!8m2!3d24.6209708!4d121.0059202!16s%2Fg%2F11c0vxjh21!19sChIJvY2pZhROaDQRvtRQtda-CkA?authuser=0&hl=zh-TW&rclk=1   \n",
       "\n",
       "                                                                                                 img  \\\n",
       "3526  https://lh5.googleusercontent.com/p/AF1QipPOAEauetywngUoSMCbIDS4VupjQrntfiXq5i4q=w137-h92-k-no   \n",
       "3626  https://lh5.googleusercontent.com/p/AF1QipNG_qzs-m4dG_NGfnYX2OMq9ntsATxj5F8J9MTN=w122-h92-k-no   \n",
       "4524  https://lh5.googleusercontent.com/p/AF1QipOqUT8RecpqMGLrHRpQPB8bE5nqPK8Cx3Gx9gCP=w163-h92-k-no   \n",
       "4964  https://lh5.googleusercontent.com/p/AF1QipOXAVY666tg8fZuqMOiJxGF0mcoipgpT-Huagat=w122-h92-k-no   \n",
       "4968                                          //maps.gstatic.com/tactile/pane/default_geocode-1x.png   \n",
       "4985  https://lh5.googleusercontent.com/p/AF1QipM9c1iVe3K2sEpY9dnTKhYgbx0wu5Clphs40YFs=w80-h106-k-no   \n",
       "\n",
       "       latitude   longitude rw_category                               rw_tag  \\\n",
       "3526  24.312266  120.548809        旅遊景點                                適合兒童    \n",
       "3626  25.194246  121.560936        旅遊景點  無障礙入口 無障礙停車場 健行 允許帶狗 公共廁所 野餐桌 適合兒童    \n",
       "4524  23.174513  121.400936        旅遊景點                                適合兒童    \n",
       "4964  24.296498  120.906253          景點                        無障礙入口 無障礙停車場    \n",
       "4968  24.314391  120.826699         休息站                                  NaN   \n",
       "4985  24.620971  121.005920        旅遊景點                         無障礙停車場 適合兒童    \n",
       "\n",
       "     rw_tickets_sale  \\\n",
       "3526             NaN   \n",
       "3626              免費   \n",
       "4524             NaN   \n",
       "4964             NaN   \n",
       "4968             NaN   \n",
       "4985             NaN   \n",
       "\n",
       "                                                                        rw_open_time  \\\n",
       "3526                                                                             NaN   \n",
       "3626                                                                             NaN   \n",
       "4524   星期三24 小時營業 星期四24 小時營業 星期五24 小時營業 星期六24 小時營業 星期日24 小時營業 星期一24 小時營業 星期二24 小時營業    \n",
       "4964   星期三24 小時營業 星期四24 小時營業 星期五24 小時營業 星期六24 小時營業 星期日24 小時營業 星期一24 小時營業 星期二24 小時營業    \n",
       "4968  星期三07:00–19:00 星期四07:00–19:00 星期五休息 星期六休息 星期日07:00–20:00 星期一休息 星期二07:00–19:00    \n",
       "4985                                                                             NaN   \n",
       "\n",
       "      rw_Monday_open  rw_Monday_close  rw_Tuesday_open  rw_Tuesday_close  \\\n",
       "3526             NaN              NaN              NaN               NaN   \n",
       "3626             NaN              NaN              NaN               NaN   \n",
       "4524             0.0           2400.0              0.0            2400.0   \n",
       "4964             0.0           2400.0              0.0            2400.0   \n",
       "4968             NaN              NaN            700.0            1900.0   \n",
       "4985             NaN              NaN              NaN               NaN   \n",
       "\n",
       "      rw_Wednesday_open  rw_Wednesday_close  rw_Thursday_open  \\\n",
       "3526                NaN                 NaN               NaN   \n",
       "3626                NaN                 NaN               NaN   \n",
       "4524                0.0              2400.0               0.0   \n",
       "4964                0.0              2400.0               0.0   \n",
       "4968              700.0              1900.0             700.0   \n",
       "4985                NaN                 NaN               NaN   \n",
       "\n",
       "      rw_Thursday_close  rw_Friday_open  rw_Friday_close  rw_Saturday_open  \\\n",
       "3526                NaN             NaN              NaN               NaN   \n",
       "3626                NaN             NaN              NaN               NaN   \n",
       "4524             2400.0             0.0           2400.0               0.0   \n",
       "4964             2400.0             0.0           2400.0               0.0   \n",
       "4968             1900.0             NaN              NaN               NaN   \n",
       "4985                NaN             NaN              NaN               NaN   \n",
       "\n",
       "      rw_Saturday_close  rw_Sunday_open  rw_Sunday_close  \\\n",
       "3526                NaN             NaN              NaN   \n",
       "3626                NaN             NaN              NaN   \n",
       "4524             2400.0             0.0           2400.0   \n",
       "4964             2400.0             0.0           2400.0   \n",
       "4968                NaN           700.0           2000.0   \n",
       "4985                NaN             NaN              NaN   \n",
       "\n",
       "                      rw_introduction     rw_phone           rw_address  \\\n",
       "3526                              NaN          NaN               清水區436   \n",
       "3626  風景秀麗的景點，有溫泉和健走步道，該國最大的休眠火山也位於此。          NaN         ymsnp.gov.tw   \n",
       "4524                              NaN  08 928 0313  成功鎮鎮台11線105.8號TW 公里   \n",
       "4964                              NaN          NaN       24.296498, 120   \n",
       "4968                              NaN          NaN         0977 020 422   \n",
       "4985                              NaN          NaN                 中港 溪   \n",
       "\n",
       "     rw_city rw_town    stay_time  \n",
       "3526     NaN     NaN          NaN  \n",
       "3626     NaN     NaN          NaN  \n",
       "4524     NaN     NaN          NaN  \n",
       "4964     NaN     NaN  15 分鐘到 1 小時  \n",
       "4968     NaN     NaN          NaN  \n",
       "4985     NaN     NaN          NaN  "
      ]
     },
     "execution_count": 103,
     "metadata": {},
     "output_type": "execute_result"
    }
   ],
   "source": [
    "null_count = df_search_overview['rw_city'].isnull().sum()\n",
    "print('city null count: ',null_count)\n",
    "print('total count: ',len(df_search_overview['name']))\n",
    "print('city null rate: ',round(null_count/len(df_search_overview['name'])*100,2),'%')\n",
    "print('rw_city_null: ')\n",
    "rw_city_null = df_search_overview['rw_city'].isnull()\n",
    "df_search_overview[rw_city_null]"
   ]
  },
  {
   "cell_type": "code",
   "execution_count": 104,
   "metadata": {},
   "outputs": [],
   "source": [
    "# 評論數量小於100的地址刪除(廢棄)\n",
    "# print('刪除: ',end=\"\")\n",
    "# drop_list = df_search_overview.loc[(df_search_overview['rw_city'].isnull()) & (df_search_overview['rating_count'] < 100), 'name']\n",
    "\n",
    "# print(drop_list.tolist())  # 將結果轉換為列表輸出\n",
    "# for drop_name in drop_list:\n",
    "#     df_search_overview.drop(df_search_overview[df_search_overview['name'] == drop_name].index, inplace=True)\n",
    "# print('刪除後: ')\n",
    "# rw_city_null = df_search_overview['rw_city'].isnull()\n",
    "# df_search_overview[rw_city_null]"
   ]
  },
  {
   "cell_type": "code",
   "execution_count": 105,
   "metadata": {},
   "outputs": [
    {
     "data": {
      "text/html": [
       "<div>\n",
       "<style scoped>\n",
       "    .dataframe tbody tr th:only-of-type {\n",
       "        vertical-align: middle;\n",
       "    }\n",
       "\n",
       "    .dataframe tbody tr th {\n",
       "        vertical-align: top;\n",
       "    }\n",
       "\n",
       "    .dataframe thead th {\n",
       "        text-align: right;\n",
       "    }\n",
       "</style>\n",
       "<table border=\"1\" class=\"dataframe\">\n",
       "  <thead>\n",
       "    <tr style=\"text-align: right;\">\n",
       "      <th></th>\n",
       "      <th>keyword</th>\n",
       "      <th>name</th>\n",
       "      <th>current_time</th>\n",
       "      <th>rating</th>\n",
       "      <th>rating_count</th>\n",
       "      <th>category</th>\n",
       "      <th>address</th>\n",
       "      <th>introduce</th>\n",
       "      <th>Website</th>\n",
       "      <th>img</th>\n",
       "      <th>latitude</th>\n",
       "      <th>longitude</th>\n",
       "      <th>rw_category</th>\n",
       "      <th>rw_tag</th>\n",
       "      <th>rw_tickets_sale</th>\n",
       "      <th>rw_open_time</th>\n",
       "      <th>rw_Monday_open</th>\n",
       "      <th>rw_Monday_close</th>\n",
       "      <th>rw_Tuesday_open</th>\n",
       "      <th>rw_Tuesday_close</th>\n",
       "      <th>rw_Wednesday_open</th>\n",
       "      <th>rw_Wednesday_close</th>\n",
       "      <th>rw_Thursday_open</th>\n",
       "      <th>rw_Thursday_close</th>\n",
       "      <th>rw_Friday_open</th>\n",
       "      <th>rw_Friday_close</th>\n",
       "      <th>rw_Saturday_open</th>\n",
       "      <th>rw_Saturday_close</th>\n",
       "      <th>rw_Sunday_open</th>\n",
       "      <th>rw_Sunday_close</th>\n",
       "      <th>rw_introduction</th>\n",
       "      <th>rw_phone</th>\n",
       "      <th>rw_address</th>\n",
       "      <th>rw_city</th>\n",
       "      <th>rw_town</th>\n",
       "      <th>stay_time</th>\n",
       "    </tr>\n",
       "  </thead>\n",
       "  <tbody>\n",
       "    <tr>\n",
       "      <th>3526</th>\n",
       "      <td>臺中市清水區 景點推薦</td>\n",
       "      <td>高美濕地木棧道</td>\n",
       "      <td>2023-08-02 13:36:35</td>\n",
       "      <td>4.8</td>\n",
       "      <td>31.0</td>\n",
       "      <td>旅遊景點</td>\n",
       "      <td>436台中市清水區美堤街</td>\n",
       "      <td>NaN</td>\n",
       "      <td>https://www.google.com/maps/place/%E9%AB%98%E7%BE%8E%E6%BF%95%E5%9C%B0%E6%9C%A8%E6%A3%A7%E9%81%93/data=!4m7!3m6!1s0x3469138c836181bd:0xdf6435442ccdebd9!8m2!3d24.3122662!4d120.548809!16s%2Fg%2F11st8wm59q!19sChIJvYFhg4wTaTQR2evNLEQ1ZN8?authuser=0&amp;hl=zh-TW&amp;rclk=1</td>\n",
       "      <td>https://lh5.googleusercontent.com/p/AF1QipPOAEauetywngUoSMCbIDS4VupjQrntfiXq5i4q=w137-h92-k-no</td>\n",
       "      <td>24.312266</td>\n",
       "      <td>120.548809</td>\n",
       "      <td>旅遊景點</td>\n",
       "      <td>適合兒童</td>\n",
       "      <td>NaN</td>\n",
       "      <td>NaN</td>\n",
       "      <td>NaN</td>\n",
       "      <td>NaN</td>\n",
       "      <td>NaN</td>\n",
       "      <td>NaN</td>\n",
       "      <td>NaN</td>\n",
       "      <td>NaN</td>\n",
       "      <td>NaN</td>\n",
       "      <td>NaN</td>\n",
       "      <td>NaN</td>\n",
       "      <td>NaN</td>\n",
       "      <td>NaN</td>\n",
       "      <td>NaN</td>\n",
       "      <td>NaN</td>\n",
       "      <td>NaN</td>\n",
       "      <td>NaN</td>\n",
       "      <td>NaN</td>\n",
       "      <td>436台中市清水區美堤街</td>\n",
       "      <td>台中市</td>\n",
       "      <td>清水區</td>\n",
       "      <td>NaN</td>\n",
       "    </tr>\n",
       "    <tr>\n",
       "      <th>3626</th>\n",
       "      <td>臺北市 景點推薦</td>\n",
       "      <td>陽明山國家公園</td>\n",
       "      <td>2023-08-02 09:55:47</td>\n",
       "      <td>4.5</td>\n",
       "      <td>23880.0</td>\n",
       "      <td>旅遊景點</td>\n",
       "      <td>11247 台北市北投區泉源路200號</td>\n",
       "      <td>風景如畫的地區，有火山，適合健走</td>\n",
       "      <td>https://www.google.com/maps/place/%E9%99%BD%E6%98%8E%E5%B1%B1%E5%9C%8B%E5%AE%B6%E5%85%AC%E5%9C%92/data=!4m7!3m6!1s0x3442adf824cfc74b:0x5c0be3a34fc3b079!8m2!3d25.1942462!4d121.5609363!16zL20vMDJzZjZt!19sChIJS8fPJPitQjQRebDDT6PjC1w?authuser=0&amp;hl=zh-TW&amp;rclk=1</td>\n",
       "      <td>https://lh5.googleusercontent.com/p/AF1QipNG_qzs-m4dG_NGfnYX2OMq9ntsATxj5F8J9MTN=w122-h92-k-no</td>\n",
       "      <td>25.194246</td>\n",
       "      <td>121.560936</td>\n",
       "      <td>旅遊景點</td>\n",
       "      <td>無障礙入口 無障礙停車場 健行 允許帶狗 公共廁所 野餐桌 適合兒童</td>\n",
       "      <td>免費</td>\n",
       "      <td>NaN</td>\n",
       "      <td>NaN</td>\n",
       "      <td>NaN</td>\n",
       "      <td>NaN</td>\n",
       "      <td>NaN</td>\n",
       "      <td>NaN</td>\n",
       "      <td>NaN</td>\n",
       "      <td>NaN</td>\n",
       "      <td>NaN</td>\n",
       "      <td>NaN</td>\n",
       "      <td>NaN</td>\n",
       "      <td>NaN</td>\n",
       "      <td>NaN</td>\n",
       "      <td>NaN</td>\n",
       "      <td>NaN</td>\n",
       "      <td>風景秀麗的景點，有溫泉和健走步道，該國最大的休眠火山也位於此。</td>\n",
       "      <td>NaN</td>\n",
       "      <td>11247 台北市北投區泉源路200號</td>\n",
       "      <td>台北市</td>\n",
       "      <td>北投區</td>\n",
       "      <td>NaN</td>\n",
       "    </tr>\n",
       "    <tr>\n",
       "      <th>4524</th>\n",
       "      <td>臺東縣東河鄉 景點推薦</td>\n",
       "      <td>石雨傘</td>\n",
       "      <td>2023-08-02 13:24:30</td>\n",
       "      <td>4.1</td>\n",
       "      <td>2573.0</td>\n",
       "      <td>旅遊景點</td>\n",
       "      <td>台東縣成功鎮三仙台</td>\n",
       "      <td>24 小時營業</td>\n",
       "      <td>https://www.google.com/maps/place/%E7%9F%B3%E9%9B%A8%E5%82%98/data=!4m7!3m6!1s0x34689e003324b24b:0x557d6be812b9b8b3!8m2!3d23.1745127!4d121.4009362!16s%2Fg%2F1tfh2d3m!19sChIJS7IkMwCeaDQRs7i5EuhrfVU?authuser=0&amp;hl=zh-TW&amp;rclk=1</td>\n",
       "      <td>https://lh5.googleusercontent.com/p/AF1QipOqUT8RecpqMGLrHRpQPB8bE5nqPK8Cx3Gx9gCP=w163-h92-k-no</td>\n",
       "      <td>23.174513</td>\n",
       "      <td>121.400936</td>\n",
       "      <td>旅遊景點</td>\n",
       "      <td>適合兒童</td>\n",
       "      <td>NaN</td>\n",
       "      <td>星期三24 小時營業 星期四24 小時營業 星期五24 小時營業 星期六24 小時營業 星期日24 小時營業 星期一24 小時營業 星期二24 小時營業</td>\n",
       "      <td>0.0</td>\n",
       "      <td>2400.0</td>\n",
       "      <td>0.0</td>\n",
       "      <td>2400.0</td>\n",
       "      <td>0.0</td>\n",
       "      <td>2400.0</td>\n",
       "      <td>0.0</td>\n",
       "      <td>2400.0</td>\n",
       "      <td>0.0</td>\n",
       "      <td>2400.0</td>\n",
       "      <td>0.0</td>\n",
       "      <td>2400.0</td>\n",
       "      <td>0.0</td>\n",
       "      <td>2400.0</td>\n",
       "      <td>NaN</td>\n",
       "      <td>08 928 0313</td>\n",
       "      <td>台東縣成功鎮三仙台</td>\n",
       "      <td>台東縣</td>\n",
       "      <td>成功鎮</td>\n",
       "      <td>NaN</td>\n",
       "    </tr>\n",
       "    <tr>\n",
       "      <th>4964</th>\n",
       "      <td>苗栗縣卓蘭鎮 景點推薦</td>\n",
       "      <td>白布帆砲台古道</td>\n",
       "      <td>2023-08-08 18:44:15</td>\n",
       "      <td>4.2</td>\n",
       "      <td>231.0</td>\n",
       "      <td>景點</td>\n",
       "      <td>苗栗縣卓蘭鎮</td>\n",
       "      <td>24 小時營業</td>\n",
       "      <td>https://www.google.com/maps/place/%E7%99%BD%E5%B8%83%E5%B8%86%E7%A0%B2%E5%8F%B0%E5%8F%A4%E9%81%93/data=!4m7!3m6!1s0x3468fd5ac4af3759:0xe7ab81cd75d68f!8m2!3d24.296498!4d120.906253!16s%2Fg%2F11hbjl_t43!19sChIJWTevxFr9aDQRj9Z1zYGr5wA?authuser=0&amp;hl=zh-TW&amp;rclk=1</td>\n",
       "      <td>https://lh5.googleusercontent.com/p/AF1QipOXAVY666tg8fZuqMOiJxGF0mcoipgpT-Huagat=w122-h92-k-no</td>\n",
       "      <td>24.296498</td>\n",
       "      <td>120.906253</td>\n",
       "      <td>景點</td>\n",
       "      <td>無障礙入口 無障礙停車場</td>\n",
       "      <td>NaN</td>\n",
       "      <td>星期三24 小時營業 星期四24 小時營業 星期五24 小時營業 星期六24 小時營業 星期日24 小時營業 星期一24 小時營業 星期二24 小時營業</td>\n",
       "      <td>0.0</td>\n",
       "      <td>2400.0</td>\n",
       "      <td>0.0</td>\n",
       "      <td>2400.0</td>\n",
       "      <td>0.0</td>\n",
       "      <td>2400.0</td>\n",
       "      <td>0.0</td>\n",
       "      <td>2400.0</td>\n",
       "      <td>0.0</td>\n",
       "      <td>2400.0</td>\n",
       "      <td>0.0</td>\n",
       "      <td>2400.0</td>\n",
       "      <td>0.0</td>\n",
       "      <td>2400.0</td>\n",
       "      <td>NaN</td>\n",
       "      <td>NaN</td>\n",
       "      <td>苗栗縣卓蘭鎮</td>\n",
       "      <td>苗栗縣</td>\n",
       "      <td>卓蘭鎮</td>\n",
       "      <td>15 分鐘到 1 小時</td>\n",
       "    </tr>\n",
       "    <tr>\n",
       "      <th>4968</th>\n",
       "      <td>苗栗縣卓蘭鎮 景點推薦</td>\n",
       "      <td>卓蘭老街</td>\n",
       "      <td>2023-08-08 18:44:15</td>\n",
       "      <td>4.0</td>\n",
       "      <td>1.0</td>\n",
       "      <td>休息站</td>\n",
       "      <td>苗栗縣卓蘭鎮中正路89號</td>\n",
       "      <td>即將打烊：19:00 ⋅ 開始營業時間：週三07:00</td>\n",
       "      <td>https://www.google.com/maps/place/%E5%8D%93%E8%98%AD%E8%80%81%E8%A1%97/data=!4m7!3m6!1s0x3469034a5d5ec627:0x4ee566d9d99f34d7!8m2!3d24.3143915!4d120.8266991!16s%2Fg%2F11qnjr6m_s!19sChIJJ8ZeXUoDaTQR1zSf2dlm5U4?authuser=0&amp;hl=zh-TW&amp;rclk=1</td>\n",
       "      <td>//maps.gstatic.com/tactile/pane/default_geocode-1x.png</td>\n",
       "      <td>24.314391</td>\n",
       "      <td>120.826699</td>\n",
       "      <td>休息站</td>\n",
       "      <td>NaN</td>\n",
       "      <td>NaN</td>\n",
       "      <td>星期三07:00–19:00 星期四07:00–19:00 星期五休息 星期六休息 星期日07:00–20:00 星期一休息 星期二07:00–19:00</td>\n",
       "      <td>NaN</td>\n",
       "      <td>NaN</td>\n",
       "      <td>700.0</td>\n",
       "      <td>1900.0</td>\n",
       "      <td>700.0</td>\n",
       "      <td>1900.0</td>\n",
       "      <td>700.0</td>\n",
       "      <td>1900.0</td>\n",
       "      <td>NaN</td>\n",
       "      <td>NaN</td>\n",
       "      <td>NaN</td>\n",
       "      <td>NaN</td>\n",
       "      <td>700.0</td>\n",
       "      <td>2000.0</td>\n",
       "      <td>NaN</td>\n",
       "      <td>NaN</td>\n",
       "      <td>苗栗縣卓蘭鎮中正路89號</td>\n",
       "      <td>苗栗縣</td>\n",
       "      <td>卓蘭鎮</td>\n",
       "      <td>NaN</td>\n",
       "    </tr>\n",
       "    <tr>\n",
       "      <th>4985</th>\n",
       "      <td>苗栗縣南庄鄉 景點推薦</td>\n",
       "      <td>ShuixingSuspensionBridge</td>\n",
       "      <td>2023-08-02 18:12:00</td>\n",
       "      <td>4.4</td>\n",
       "      <td>45.0</td>\n",
       "      <td>旅遊景點</td>\n",
       "      <td>苗栗縣南庄鄉</td>\n",
       "      <td>NaN</td>\n",
       "      <td>https://www.google.com/maps/place/Shuixing+Suspension+Bridge/data=!4m7!3m6!1s0x34684e1466a98dbd:0x400abed6b550d4be!8m2!3d24.6209708!4d121.0059202!16s%2Fg%2F11c0vxjh21!19sChIJvY2pZhROaDQRvtRQtda-CkA?authuser=0&amp;hl=zh-TW&amp;rclk=1</td>\n",
       "      <td>https://lh5.googleusercontent.com/p/AF1QipM9c1iVe3K2sEpY9dnTKhYgbx0wu5Clphs40YFs=w80-h106-k-no</td>\n",
       "      <td>24.620971</td>\n",
       "      <td>121.005920</td>\n",
       "      <td>旅遊景點</td>\n",
       "      <td>無障礙停車場 適合兒童</td>\n",
       "      <td>NaN</td>\n",
       "      <td>NaN</td>\n",
       "      <td>NaN</td>\n",
       "      <td>NaN</td>\n",
       "      <td>NaN</td>\n",
       "      <td>NaN</td>\n",
       "      <td>NaN</td>\n",
       "      <td>NaN</td>\n",
       "      <td>NaN</td>\n",
       "      <td>NaN</td>\n",
       "      <td>NaN</td>\n",
       "      <td>NaN</td>\n",
       "      <td>NaN</td>\n",
       "      <td>NaN</td>\n",
       "      <td>NaN</td>\n",
       "      <td>NaN</td>\n",
       "      <td>NaN</td>\n",
       "      <td>NaN</td>\n",
       "      <td>苗栗縣南庄鄉</td>\n",
       "      <td>苗栗縣</td>\n",
       "      <td>南庄鄉</td>\n",
       "      <td>NaN</td>\n",
       "    </tr>\n",
       "  </tbody>\n",
       "</table>\n",
       "</div>"
      ],
      "text/plain": [
       "          keyword                      name         current_time  rating  \\\n",
       "3526  臺中市清水區 景點推薦                   高美濕地木棧道  2023-08-02 13:36:35     4.8   \n",
       "3626     臺北市 景點推薦                   陽明山國家公園  2023-08-02 09:55:47     4.5   \n",
       "4524  臺東縣東河鄉 景點推薦                       石雨傘  2023-08-02 13:24:30     4.1   \n",
       "4964  苗栗縣卓蘭鎮 景點推薦                   白布帆砲台古道  2023-08-08 18:44:15     4.2   \n",
       "4968  苗栗縣卓蘭鎮 景點推薦                      卓蘭老街  2023-08-08 18:44:15     4.0   \n",
       "4985  苗栗縣南庄鄉 景點推薦  ShuixingSuspensionBridge  2023-08-02 18:12:00     4.4   \n",
       "\n",
       "      rating_count category              address                    introduce  \\\n",
       "3526          31.0     旅遊景點         436台中市清水區美堤街                          NaN   \n",
       "3626       23880.0     旅遊景點  11247 台北市北投區泉源路200號             風景如畫的地區，有火山，適合健走   \n",
       "4524        2573.0     旅遊景點            台東縣成功鎮三仙台                      24 小時營業   \n",
       "4964         231.0       景點               苗栗縣卓蘭鎮                      24 小時營業   \n",
       "4968           1.0      休息站         苗栗縣卓蘭鎮中正路89號  即將打烊：19:00 ⋅ 開始營業時間：週三07:00   \n",
       "4985          45.0     旅遊景點               苗栗縣南庄鄉                          NaN   \n",
       "\n",
       "                                                                                                                                                                                                                                                                   Website  \\\n",
       "3526  https://www.google.com/maps/place/%E9%AB%98%E7%BE%8E%E6%BF%95%E5%9C%B0%E6%9C%A8%E6%A3%A7%E9%81%93/data=!4m7!3m6!1s0x3469138c836181bd:0xdf6435442ccdebd9!8m2!3d24.3122662!4d120.548809!16s%2Fg%2F11st8wm59q!19sChIJvYFhg4wTaTQR2evNLEQ1ZN8?authuser=0&hl=zh-TW&rclk=1   \n",
       "3626      https://www.google.com/maps/place/%E9%99%BD%E6%98%8E%E5%B1%B1%E5%9C%8B%E5%AE%B6%E5%85%AC%E5%9C%92/data=!4m7!3m6!1s0x3442adf824cfc74b:0x5c0be3a34fc3b079!8m2!3d25.1942462!4d121.5609363!16zL20vMDJzZjZt!19sChIJS8fPJPitQjQRebDDT6PjC1w?authuser=0&hl=zh-TW&rclk=1   \n",
       "4524                                       https://www.google.com/maps/place/%E7%9F%B3%E9%9B%A8%E5%82%98/data=!4m7!3m6!1s0x34689e003324b24b:0x557d6be812b9b8b3!8m2!3d23.1745127!4d121.4009362!16s%2Fg%2F1tfh2d3m!19sChIJS7IkMwCeaDQRs7i5EuhrfVU?authuser=0&hl=zh-TW&rclk=1   \n",
       "4964     https://www.google.com/maps/place/%E7%99%BD%E5%B8%83%E5%B8%86%E7%A0%B2%E5%8F%B0%E5%8F%A4%E9%81%93/data=!4m7!3m6!1s0x3468fd5ac4af3759:0xe7ab81cd75d68f!8m2!3d24.296498!4d120.906253!16s%2Fg%2F11hbjl_t43!19sChIJWTevxFr9aDQRj9Z1zYGr5wA?authuser=0&hl=zh-TW&rclk=1   \n",
       "4968                            https://www.google.com/maps/place/%E5%8D%93%E8%98%AD%E8%80%81%E8%A1%97/data=!4m7!3m6!1s0x3469034a5d5ec627:0x4ee566d9d99f34d7!8m2!3d24.3143915!4d120.8266991!16s%2Fg%2F11qnjr6m_s!19sChIJJ8ZeXUoDaTQR1zSf2dlm5U4?authuser=0&hl=zh-TW&rclk=1   \n",
       "4985                                      https://www.google.com/maps/place/Shuixing+Suspension+Bridge/data=!4m7!3m6!1s0x34684e1466a98dbd:0x400abed6b550d4be!8m2!3d24.6209708!4d121.0059202!16s%2Fg%2F11c0vxjh21!19sChIJvY2pZhROaDQRvtRQtda-CkA?authuser=0&hl=zh-TW&rclk=1   \n",
       "\n",
       "                                                                                                 img  \\\n",
       "3526  https://lh5.googleusercontent.com/p/AF1QipPOAEauetywngUoSMCbIDS4VupjQrntfiXq5i4q=w137-h92-k-no   \n",
       "3626  https://lh5.googleusercontent.com/p/AF1QipNG_qzs-m4dG_NGfnYX2OMq9ntsATxj5F8J9MTN=w122-h92-k-no   \n",
       "4524  https://lh5.googleusercontent.com/p/AF1QipOqUT8RecpqMGLrHRpQPB8bE5nqPK8Cx3Gx9gCP=w163-h92-k-no   \n",
       "4964  https://lh5.googleusercontent.com/p/AF1QipOXAVY666tg8fZuqMOiJxGF0mcoipgpT-Huagat=w122-h92-k-no   \n",
       "4968                                          //maps.gstatic.com/tactile/pane/default_geocode-1x.png   \n",
       "4985  https://lh5.googleusercontent.com/p/AF1QipM9c1iVe3K2sEpY9dnTKhYgbx0wu5Clphs40YFs=w80-h106-k-no   \n",
       "\n",
       "       latitude   longitude rw_category                               rw_tag  \\\n",
       "3526  24.312266  120.548809        旅遊景點                                適合兒童    \n",
       "3626  25.194246  121.560936        旅遊景點  無障礙入口 無障礙停車場 健行 允許帶狗 公共廁所 野餐桌 適合兒童    \n",
       "4524  23.174513  121.400936        旅遊景點                                適合兒童    \n",
       "4964  24.296498  120.906253          景點                        無障礙入口 無障礙停車場    \n",
       "4968  24.314391  120.826699         休息站                                  NaN   \n",
       "4985  24.620971  121.005920        旅遊景點                         無障礙停車場 適合兒童    \n",
       "\n",
       "     rw_tickets_sale  \\\n",
       "3526             NaN   \n",
       "3626              免費   \n",
       "4524             NaN   \n",
       "4964             NaN   \n",
       "4968             NaN   \n",
       "4985             NaN   \n",
       "\n",
       "                                                                        rw_open_time  \\\n",
       "3526                                                                             NaN   \n",
       "3626                                                                             NaN   \n",
       "4524   星期三24 小時營業 星期四24 小時營業 星期五24 小時營業 星期六24 小時營業 星期日24 小時營業 星期一24 小時營業 星期二24 小時營業    \n",
       "4964   星期三24 小時營業 星期四24 小時營業 星期五24 小時營業 星期六24 小時營業 星期日24 小時營業 星期一24 小時營業 星期二24 小時營業    \n",
       "4968  星期三07:00–19:00 星期四07:00–19:00 星期五休息 星期六休息 星期日07:00–20:00 星期一休息 星期二07:00–19:00    \n",
       "4985                                                                             NaN   \n",
       "\n",
       "      rw_Monday_open  rw_Monday_close  rw_Tuesday_open  rw_Tuesday_close  \\\n",
       "3526             NaN              NaN              NaN               NaN   \n",
       "3626             NaN              NaN              NaN               NaN   \n",
       "4524             0.0           2400.0              0.0            2400.0   \n",
       "4964             0.0           2400.0              0.0            2400.0   \n",
       "4968             NaN              NaN            700.0            1900.0   \n",
       "4985             NaN              NaN              NaN               NaN   \n",
       "\n",
       "      rw_Wednesday_open  rw_Wednesday_close  rw_Thursday_open  \\\n",
       "3526                NaN                 NaN               NaN   \n",
       "3626                NaN                 NaN               NaN   \n",
       "4524                0.0              2400.0               0.0   \n",
       "4964                0.0              2400.0               0.0   \n",
       "4968              700.0              1900.0             700.0   \n",
       "4985                NaN                 NaN               NaN   \n",
       "\n",
       "      rw_Thursday_close  rw_Friday_open  rw_Friday_close  rw_Saturday_open  \\\n",
       "3526                NaN             NaN              NaN               NaN   \n",
       "3626                NaN             NaN              NaN               NaN   \n",
       "4524             2400.0             0.0           2400.0               0.0   \n",
       "4964             2400.0             0.0           2400.0               0.0   \n",
       "4968             1900.0             NaN              NaN               NaN   \n",
       "4985                NaN             NaN              NaN               NaN   \n",
       "\n",
       "      rw_Saturday_close  rw_Sunday_open  rw_Sunday_close  \\\n",
       "3526                NaN             NaN              NaN   \n",
       "3626                NaN             NaN              NaN   \n",
       "4524             2400.0             0.0           2400.0   \n",
       "4964             2400.0             0.0           2400.0   \n",
       "4968                NaN           700.0           2000.0   \n",
       "4985                NaN             NaN              NaN   \n",
       "\n",
       "                      rw_introduction     rw_phone           rw_address  \\\n",
       "3526                              NaN          NaN         436台中市清水區美堤街   \n",
       "3626  風景秀麗的景點，有溫泉和健走步道，該國最大的休眠火山也位於此。          NaN  11247 台北市北投區泉源路200號   \n",
       "4524                              NaN  08 928 0313            台東縣成功鎮三仙台   \n",
       "4964                              NaN          NaN               苗栗縣卓蘭鎮   \n",
       "4968                              NaN          NaN         苗栗縣卓蘭鎮中正路89號   \n",
       "4985                              NaN          NaN               苗栗縣南庄鄉   \n",
       "\n",
       "     rw_city rw_town    stay_time  \n",
       "3526     台中市     清水區          NaN  \n",
       "3626     台北市     北投區          NaN  \n",
       "4524     台東縣     成功鎮          NaN  \n",
       "4964     苗栗縣     卓蘭鎮  15 分鐘到 1 小時  \n",
       "4968     苗栗縣     卓蘭鎮          NaN  \n",
       "4985     苗栗縣     南庄鄉          NaN  "
      ]
     },
     "execution_count": 105,
     "metadata": {},
     "output_type": "execute_result"
    }
   ],
   "source": [
    "# 手動填補3個有遺缺的景點\n",
    "#陽明山 11247 台北市北投區泉源路200號\n",
    "#參考 https://np.cpami.gov.tw/%E4%BC%91%E9%96%92%E9%81%8A%E6%86%A9/%E9%99%BD%E6%98%8E%E5%B1%B1%E5%9C%8B%E5%AE%B6%E5%85%AC%E5%9C%92.html\n",
    "df_search_overview.loc[df_search_overview['name']=='陽明山國家公園','address']='11247 台北市北投區泉源路200號'\n",
    "df_search_overview.loc[df_search_overview['name']=='陽明山國家公園','rw_address']='11247 台北市北投區泉源路200號'\n",
    "df_search_overview.loc[df_search_overview['name']=='陽明山國家公園','rw_city']='台北市'\n",
    "df_search_overview.loc[df_search_overview['name']=='陽明山國家公園','rw_town']='北投區'\n",
    "#石雨傘 台東縣成功鎮三仙台\n",
    "#參考 https://www.travelking.com.tw/tourguide/scenery712.html\n",
    "df_search_overview.loc[df_search_overview['name']=='石雨傘','address']='台東縣成功鎮三仙台'\n",
    "df_search_overview.loc[df_search_overview['name']=='石雨傘','rw_address']='台東縣成功鎮三仙台'\n",
    "df_search_overview.loc[df_search_overview['name']=='石雨傘','rw_city']='台東縣'\n",
    "df_search_overview.loc[df_search_overview['name']=='石雨傘','rw_town']='成功鎮'\n",
    "#白布帆砲台古道 苗栗縣卓蘭鎮\n",
    "#參考 https://hiking.biji.co/index.php?q=trail&act=detail&id=1685#google_vignette\n",
    "df_search_overview.loc[df_search_overview['name']=='白布帆砲台古道','address']='苗栗縣卓蘭鎮'\n",
    "df_search_overview.loc[df_search_overview['name']=='白布帆砲台古道','rw_address']='苗栗縣卓蘭鎮'\n",
    "df_search_overview.loc[df_search_overview['name']=='白布帆砲台古道','rw_city']='苗栗縣'\n",
    "df_search_overview.loc[df_search_overview['name']=='白布帆砲台古道','rw_town']='卓蘭鎮'\n",
    "#高美濕地木棧道 436台中市清水區美堤街\n",
    "#參考高美濕地地址(因是由高美濕地往前走一點即可抵達) https://www.google.com/maps/place/%E9%AB%98%E7%BE%8E%E6%BF%95%E5%9C%B0/@24.3115804,120.5475993,17.75z/am=t/data=!4m24!1m17!4m16!1m6!1m2!1s0x3442a93ed025bb5f:0x6ffab7dffcc452d9!2z5Y-w5YyX5biC5Lit5q2j5Y2A6Z2S5bO26KW_6Lev5Lmd5pel5ZKW5ZWh77yI5YyX6LuK5bqX77yJOSBEYXlzIENvZmZlZQ!2m2!1d121.5177709!2d25.0449603!1m6!1m2!1s0x3469138c836181bd:0xdf6435442ccdebd9!2z5riF5rC05Y2ANDM26auY576O5r-V5Zyw5pyo5qOn6YGT!2m2!1d120.548809!2d24.3122662!3e2!5i1!3m5!1s0x3469133c166c6143:0x8677d74a6115be29!8m2!3d24.311951!4d120.54981!16s%2Fg%2F11dyzkpcxs?authuser=0&entry=ttu\n",
    "df_search_overview.loc[df_search_overview['name']=='高美濕地木棧道','address']='436台中市清水區美堤街'\n",
    "df_search_overview.loc[df_search_overview['name']=='高美濕地木棧道','rw_address']='436台中市清水區美堤街'\n",
    "df_search_overview.loc[df_search_overview['name']=='高美濕地木棧道','rw_city']='台中市'\n",
    "df_search_overview.loc[df_search_overview['name']=='高美濕地木棧道','rw_town']='清水區'\n",
    "#高美濕地木棧道 苗栗縣卓蘭鎮中正路89號\n",
    "#參考良美豆花地址(在老街中) https://www.google.com.tw/maps/place/%E8%89%AF%E7%BE%8E%E8%B1%86%E8%8A%B1/@24.3116059,120.8267861,18z/data=!4m6!3m5!1s0x346903481d27191d:0xcfed270cca5cd3bd!8m2!3d24.3116059!4d120.8267861!16s%2Fg%2F11bzs2jl_b?entry=ttu\n",
    "df_search_overview.loc[df_search_overview['name']=='卓蘭老街','address']='苗栗縣卓蘭鎮中正路89號'\n",
    "df_search_overview.loc[df_search_overview['name']=='卓蘭老街','rw_address']='苗栗縣卓蘭鎮中正路89號'\n",
    "df_search_overview.loc[df_search_overview['name']=='卓蘭老街','rw_city']='苗栗縣'\n",
    "df_search_overview.loc[df_search_overview['name']=='卓蘭老街','rw_town']='卓蘭鎮'\n",
    "#ShuixingSuspensionBridge 苗栗縣南庄鄉\n",
    "#參考 https://www.google.com.tw/maps/place/Shuixing+Suspension+Bridge/@24.3547538,120.4447237,9z/data=!4m10!1m2!2m1!1sShuixing+Suspension+Bridge+!3m6!1s0x34684e1466a98dbd:0x400abed6b550d4be!8m2!3d24.6209708!4d121.0059202!15sChpTaHVpeGluZyBTdXNwZW5zaW9uIEJyaWRnZZIBEnRvdXJpc3RfYXR0cmFjdGlvbuABAA!16s%2Fg%2F11c0vxjh21?entry=ttu\n",
    "df_search_overview.loc[df_search_overview['name']=='ShuixingSuspensionBridge','address']='苗栗縣南庄鄉'\n",
    "df_search_overview.loc[df_search_overview['name']=='ShuixingSuspensionBridge','rw_address']='苗栗縣南庄鄉'\n",
    "df_search_overview.loc[df_search_overview['name']=='ShuixingSuspensionBridge','rw_city']='苗栗縣'\n",
    "df_search_overview.loc[df_search_overview['name']=='ShuixingSuspensionBridge','rw_town']='南庄鄉'\n",
    "\n",
    "df_search_overview[rw_city_null]"
   ]
  },
  {
   "cell_type": "code",
   "execution_count": 106,
   "metadata": {},
   "outputs": [
    {
     "name": "stdout",
     "output_type": "stream",
     "text": [
      "city null count:  0\n",
      "city null count:  6075\n",
      "city null rate:  0.0 %\n",
      "rw_city_null: \n"
     ]
    },
    {
     "data": {
      "text/html": [
       "<div>\n",
       "<style scoped>\n",
       "    .dataframe tbody tr th:only-of-type {\n",
       "        vertical-align: middle;\n",
       "    }\n",
       "\n",
       "    .dataframe tbody tr th {\n",
       "        vertical-align: top;\n",
       "    }\n",
       "\n",
       "    .dataframe thead th {\n",
       "        text-align: right;\n",
       "    }\n",
       "</style>\n",
       "<table border=\"1\" class=\"dataframe\">\n",
       "  <thead>\n",
       "    <tr style=\"text-align: right;\">\n",
       "      <th></th>\n",
       "      <th>keyword</th>\n",
       "      <th>name</th>\n",
       "      <th>current_time</th>\n",
       "      <th>rating</th>\n",
       "      <th>rating_count</th>\n",
       "      <th>category</th>\n",
       "      <th>address</th>\n",
       "      <th>introduce</th>\n",
       "      <th>Website</th>\n",
       "      <th>img</th>\n",
       "      <th>latitude</th>\n",
       "      <th>longitude</th>\n",
       "      <th>rw_category</th>\n",
       "      <th>rw_tag</th>\n",
       "      <th>rw_tickets_sale</th>\n",
       "      <th>rw_open_time</th>\n",
       "      <th>rw_Monday_open</th>\n",
       "      <th>rw_Monday_close</th>\n",
       "      <th>rw_Tuesday_open</th>\n",
       "      <th>rw_Tuesday_close</th>\n",
       "      <th>rw_Wednesday_open</th>\n",
       "      <th>rw_Wednesday_close</th>\n",
       "      <th>rw_Thursday_open</th>\n",
       "      <th>rw_Thursday_close</th>\n",
       "      <th>rw_Friday_open</th>\n",
       "      <th>rw_Friday_close</th>\n",
       "      <th>rw_Saturday_open</th>\n",
       "      <th>rw_Saturday_close</th>\n",
       "      <th>rw_Sunday_open</th>\n",
       "      <th>rw_Sunday_close</th>\n",
       "      <th>rw_introduction</th>\n",
       "      <th>rw_phone</th>\n",
       "      <th>rw_address</th>\n",
       "      <th>rw_city</th>\n",
       "      <th>rw_town</th>\n",
       "      <th>stay_time</th>\n",
       "    </tr>\n",
       "  </thead>\n",
       "  <tbody>\n",
       "  </tbody>\n",
       "</table>\n",
       "</div>"
      ],
      "text/plain": [
       "Empty DataFrame\n",
       "Columns: [keyword, name, current_time, rating, rating_count, category, address, introduce, Website, img, latitude, longitude, rw_category, rw_tag, rw_tickets_sale, rw_open_time, rw_Monday_open, rw_Monday_close, rw_Tuesday_open, rw_Tuesday_close, rw_Wednesday_open, rw_Wednesday_close, rw_Thursday_open, rw_Thursday_close, rw_Friday_open, rw_Friday_close, rw_Saturday_open, rw_Saturday_close, rw_Sunday_open, rw_Sunday_close, rw_introduction, rw_phone, rw_address, rw_city, rw_town, stay_time]\n",
       "Index: []"
      ]
     },
     "execution_count": 106,
     "metadata": {},
     "output_type": "execute_result"
    }
   ],
   "source": [
    "# 檢查\n",
    "null_count = df_search_overview['rw_city'].isnull().sum()\n",
    "print('city null count: ',null_count)\n",
    "print('city null count: ',len(df_search_overview['name']))\n",
    "print('city null rate: ',round(null_count/len(df_search_overview['name'])*100,2),'%')\n",
    "print('rw_city_null: ')\n",
    "rw_city_null = df_search_overview['rw_city'].isnull()\n",
    "df_search_overview[rw_city_null]"
   ]
  },
  {
   "attachments": {},
   "cell_type": "markdown",
   "metadata": {},
   "source": [
    "長條圖顯示"
   ]
  },
  {
   "cell_type": "code",
   "execution_count": 107,
   "metadata": {},
   "outputs": [
    {
     "name": "stdout",
     "output_type": "stream",
     "text": [
      "總資料筆數:  6075\n",
      "以分類比數: 6075\n"
     ]
    },
    {
     "data": {
      "image/png": "[encoded data removed]",
      "text/plain": [
       "<Figure size 640x480 with 1 Axes>"
      ]
     },
     "metadata": {},
     "output_type": "display_data"
    }
   ],
   "source": [
    "country_counts = df_search_overview['rw_city'].value_counts()\n",
    "\n",
    "total_sum = country_counts.sum()\n",
    "print('總資料筆數: ',len(df_search_overview['name']))\n",
    "print('以分類比數:',total_sum)\n",
    "\n",
    "# 創建長條圖\n",
    "plt.bar(country_counts.index, country_counts.values)\n",
    "plt.xlabel('City')\n",
    "plt.ylabel('Count')\n",
    "plt.title('View Num(By City)')\n",
    "plt.xticks(rotation=45)  # 旋轉 x 軸標籤\n",
    "plt.rcParams['font.sans-serif'] = ['Microsoft YaHei']\n",
    "plt.show()"
   ]
  },
  {
   "cell_type": "code",
   "execution_count": 108,
   "metadata": {},
   "outputs": [
    {
     "name": "stdout",
     "output_type": "stream",
     "text": [
      "total search count:  6075\n"
     ]
    },
    {
     "data": {
      "text/plain": [
       "name                  0\n",
       "current_time          0\n",
       "rating                0\n",
       "rating_count          0\n",
       "category             12\n",
       "address            1481\n",
       "introduce           656\n",
       "Website               0\n",
       "img                   0\n",
       "latitude             32\n",
       "longitude            32\n",
       "rw_category          12\n",
       "rw_tag               85\n",
       "rw_tickets_sale    5823\n",
       "rw_open_time        801\n",
       "rw_introduction    4823\n",
       "rw_phone           2618\n",
       "rw_address            0\n",
       "rw_city               0\n",
       "rw_town              14\n",
       "stay_time          3541\n",
       "dtype: int64"
      ]
     },
     "execution_count": 108,
     "metadata": {},
     "output_type": "execute_result"
    }
   ],
   "source": [
    "print('total search count: ',len(df_search_overview))\n",
    "df_search_overview.isnull().sum().drop(['keyword','rw_Monday_open','rw_Monday_close','rw_Tuesday_open','rw_Tuesday_close','rw_Wednesday_open','rw_Wednesday_close','rw_Thursday_open','rw_Thursday_close','rw_Friday_open','rw_Friday_close','rw_Saturday_open','rw_Saturday_close','rw_Sunday_open','rw_Sunday_close'])"
   ]
  },
  {
   "attachments": {},
   "cell_type": "markdown",
   "metadata": {},
   "source": [
    "整理經緯度空值問題"
   ]
  },
  {
   "cell_type": "code",
   "execution_count": 109,
   "metadata": {},
   "outputs": [],
   "source": [
    "latitude_null = df_search_overview['latitude'].isnull()"
   ]
  },
  {
   "attachments": {},
   "cell_type": "markdown",
   "metadata": {},
   "source": [
    "因url格式不同造成無法順利獲取經緯度，故進行以下修正"
   ]
  },
  {
   "cell_type": "code",
   "execution_count": 110,
   "metadata": {},
   "outputs": [
    {
     "name": "stdout",
     "output_type": "stream",
     "text": [
      "       latitude    longitude\n",
      "134   23.765169  120.7189652\n",
      "143  23.8111261  120.7485143\n"
     ]
    }
   ],
   "source": [
    "pd.set_option('display.max_columns', None)\n",
    "pd.set_option('display.max_colwidth', None)\n",
    "# 關閉這些設定\n",
    "# pd.reset_option('display.max_colwidth')\n",
    "# pd.reset_option('display.max_columns')\n",
    "\n",
    "tmp_result = df_search_overview[latitude_null]\n",
    "for i,k in enumerate(tmp_result['Website'].tolist()):\n",
    "    df_search_overview.loc[df_search_overview['name']==tmp_result['name'].iloc[i],'latitude']=k.split(\"data=\")[1].split(\"!\")[8].split(\"d\")[1]\n",
    "    df_search_overview.loc[df_search_overview['name']==tmp_result['name'].iloc[i],'longitude']=k.split(\"data=\")[1].split(\"!\")[9].split(\"d\")[1]\n",
    "    # print(tmp_result['name'].iloc[i],end=\" \")\n",
    "    # print(k.split(\"data=\")[1].split(\"!\")[8].split(\"d\")[1],end=\" \")\n",
    "    # print(k.split(\"data=\")[1].split(\"!\")[9].split(\"d\")[1])\n",
    "print(df_search_overview[latitude_null][['latitude','longitude']].head(2))"
   ]
  },
  {
   "cell_type": "code",
   "execution_count": 111,
   "metadata": {},
   "outputs": [
    {
     "name": "stdout",
     "output_type": "stream",
     "text": [
      "total search count:  6075\n"
     ]
    },
    {
     "data": {
      "text/plain": [
       "name                  0\n",
       "current_time          0\n",
       "rating                0\n",
       "rating_count          0\n",
       "category             12\n",
       "address            1481\n",
       "introduce           656\n",
       "Website               0\n",
       "img                   0\n",
       "latitude              0\n",
       "longitude             0\n",
       "rw_category          12\n",
       "rw_tag               85\n",
       "rw_tickets_sale    5823\n",
       "rw_open_time        801\n",
       "rw_introduction    4823\n",
       "rw_phone           2618\n",
       "rw_address            0\n",
       "rw_city               0\n",
       "rw_town              14\n",
       "stay_time          3541\n",
       "dtype: int64"
      ]
     },
     "execution_count": 111,
     "metadata": {},
     "output_type": "execute_result"
    }
   ],
   "source": [
    "print('total search count: ',len(df_search_overview))\n",
    "df_search_overview.isnull().sum().drop(['keyword','rw_Monday_open','rw_Monday_close','rw_Tuesday_open','rw_Tuesday_close','rw_Wednesday_open','rw_Wednesday_close','rw_Thursday_open','rw_Thursday_close','rw_Friday_open','rw_Friday_close','rw_Saturday_open','rw_Saturday_close','rw_Sunday_open','rw_Sunday_close'])"
   ]
  },
  {
   "cell_type": "code",
   "execution_count": null,
   "metadata": {},
   "outputs": [],
   "source": []
  },
  {
   "attachments": {},
   "cell_type": "markdown",
   "metadata": {},
   "source": [
    "整理評分數量空值狀況"
   ]
  },
  {
   "cell_type": "code",
   "execution_count": 112,
   "metadata": {},
   "outputs": [
    {
     "name": "stdout",
     "output_type": "stream",
     "text": [
      "Int64Index([], dtype='int64')\n"
     ]
    },
    {
     "data": {
      "text/html": [
       "<div>\n",
       "<style scoped>\n",
       "    .dataframe tbody tr th:only-of-type {\n",
       "        vertical-align: middle;\n",
       "    }\n",
       "\n",
       "    .dataframe tbody tr th {\n",
       "        vertical-align: top;\n",
       "    }\n",
       "\n",
       "    .dataframe thead th {\n",
       "        text-align: right;\n",
       "    }\n",
       "</style>\n",
       "<table border=\"1\" class=\"dataframe\">\n",
       "  <thead>\n",
       "    <tr style=\"text-align: right;\">\n",
       "      <th></th>\n",
       "      <th>keyword</th>\n",
       "      <th>name</th>\n",
       "      <th>current_time</th>\n",
       "      <th>rating</th>\n",
       "      <th>rating_count</th>\n",
       "      <th>category</th>\n",
       "      <th>address</th>\n",
       "      <th>introduce</th>\n",
       "      <th>Website</th>\n",
       "      <th>img</th>\n",
       "      <th>latitude</th>\n",
       "      <th>longitude</th>\n",
       "      <th>rw_category</th>\n",
       "      <th>rw_tag</th>\n",
       "      <th>rw_tickets_sale</th>\n",
       "      <th>rw_open_time</th>\n",
       "      <th>rw_Monday_open</th>\n",
       "      <th>rw_Monday_close</th>\n",
       "      <th>rw_Tuesday_open</th>\n",
       "      <th>rw_Tuesday_close</th>\n",
       "      <th>rw_Wednesday_open</th>\n",
       "      <th>rw_Wednesday_close</th>\n",
       "      <th>rw_Thursday_open</th>\n",
       "      <th>rw_Thursday_close</th>\n",
       "      <th>rw_Friday_open</th>\n",
       "      <th>rw_Friday_close</th>\n",
       "      <th>rw_Saturday_open</th>\n",
       "      <th>rw_Saturday_close</th>\n",
       "      <th>rw_Sunday_open</th>\n",
       "      <th>rw_Sunday_close</th>\n",
       "      <th>rw_introduction</th>\n",
       "      <th>rw_phone</th>\n",
       "      <th>rw_address</th>\n",
       "      <th>rw_city</th>\n",
       "      <th>rw_town</th>\n",
       "      <th>stay_time</th>\n",
       "    </tr>\n",
       "  </thead>\n",
       "  <tbody>\n",
       "  </tbody>\n",
       "</table>\n",
       "</div>"
      ],
      "text/plain": [
       "Empty DataFrame\n",
       "Columns: [keyword, name, current_time, rating, rating_count, category, address, introduce, Website, img, latitude, longitude, rw_category, rw_tag, rw_tickets_sale, rw_open_time, rw_Monday_open, rw_Monday_close, rw_Tuesday_open, rw_Tuesday_close, rw_Wednesday_open, rw_Wednesday_close, rw_Thursday_open, rw_Thursday_close, rw_Friday_open, rw_Friday_close, rw_Saturday_open, rw_Saturday_close, rw_Sunday_open, rw_Sunday_close, rw_introduction, rw_phone, rw_address, rw_city, rw_town, stay_time]\n",
       "Index: []"
      ]
     },
     "execution_count": 112,
     "metadata": {},
     "output_type": "execute_result"
    }
   ],
   "source": [
    "rating_count_null = df_search_overview['rating_count'].isnull()\n",
    "print(df_search_overview[rating_count_null].index)\n",
    "df_search_overview[rating_count_null]"
   ]
  },
  {
   "cell_type": "code",
   "execution_count": 113,
   "metadata": {},
   "outputs": [
    {
     "name": "stdout",
     "output_type": "stream",
     "text": [
      "刪除後: \n",
      "Empty DataFrame\n",
      "Columns: [keyword, name, current_time, rating, rating_count, category, address, introduce, Website, img, latitude, longitude, rw_category, rw_tag, rw_tickets_sale, rw_open_time, rw_Monday_open, rw_Monday_close, rw_Tuesday_open, rw_Tuesday_close, rw_Wednesday_open, rw_Wednesday_close, rw_Thursday_open, rw_Thursday_close, rw_Friday_open, rw_Friday_close, rw_Saturday_open, rw_Saturday_close, rw_Sunday_open, rw_Sunday_close, rw_introduction, rw_phone, rw_address, rw_city, rw_town, stay_time]\n",
      "Index: []\n"
     ]
    }
   ],
   "source": [
    "df_search_overview.drop(df_search_overview[rating_count_null].index, inplace=True)\n",
    "print('刪除後: ')\n",
    "rating_count_null = df_search_overview['rating_count'].isnull()\n",
    "print(df_search_overview[rating_count_null])"
   ]
  },
  {
   "cell_type": "code",
   "execution_count": 114,
   "metadata": {},
   "outputs": [
    {
     "name": "stdout",
     "output_type": "stream",
     "text": [
      "total search count:  6075\n"
     ]
    },
    {
     "data": {
      "text/plain": [
       "name                  0\n",
       "current_time          0\n",
       "rating                0\n",
       "rating_count          0\n",
       "category             12\n",
       "address            1481\n",
       "introduce           656\n",
       "Website               0\n",
       "img                   0\n",
       "latitude              0\n",
       "longitude             0\n",
       "rw_category          12\n",
       "rw_tag               85\n",
       "rw_tickets_sale    5823\n",
       "rw_open_time        801\n",
       "rw_introduction    4823\n",
       "rw_phone           2618\n",
       "rw_address            0\n",
       "rw_city               0\n",
       "rw_town              14\n",
       "stay_time          3541\n",
       "dtype: int64"
      ]
     },
     "execution_count": 114,
     "metadata": {},
     "output_type": "execute_result"
    }
   ],
   "source": [
    "print('total search count: ',len(df_search_overview))\n",
    "df_search_overview.isnull().sum().drop(['keyword','rw_Monday_open','rw_Monday_close','rw_Tuesday_open','rw_Tuesday_close','rw_Wednesday_open','rw_Wednesday_close','rw_Thursday_open','rw_Thursday_close','rw_Friday_open','rw_Friday_close','rw_Saturday_open','rw_Saturday_close','rw_Sunday_open','rw_Sunday_close'])"
   ]
  },
  {
   "attachments": {},
   "cell_type": "markdown",
   "metadata": {},
   "source": [
    "整理圖片空值狀況"
   ]
  },
  {
   "cell_type": "code",
   "execution_count": 115,
   "metadata": {},
   "outputs": [
    {
     "name": "stdout",
     "output_type": "stream",
     "text": [
      "Int64Index([], dtype='int64')\n"
     ]
    },
    {
     "data": {
      "text/html": [
       "<div>\n",
       "<style scoped>\n",
       "    .dataframe tbody tr th:only-of-type {\n",
       "        vertical-align: middle;\n",
       "    }\n",
       "\n",
       "    .dataframe tbody tr th {\n",
       "        vertical-align: top;\n",
       "    }\n",
       "\n",
       "    .dataframe thead th {\n",
       "        text-align: right;\n",
       "    }\n",
       "</style>\n",
       "<table border=\"1\" class=\"dataframe\">\n",
       "  <thead>\n",
       "    <tr style=\"text-align: right;\">\n",
       "      <th></th>\n",
       "      <th>keyword</th>\n",
       "      <th>name</th>\n",
       "      <th>current_time</th>\n",
       "      <th>rating</th>\n",
       "      <th>rating_count</th>\n",
       "      <th>category</th>\n",
       "      <th>address</th>\n",
       "      <th>introduce</th>\n",
       "      <th>Website</th>\n",
       "      <th>img</th>\n",
       "      <th>latitude</th>\n",
       "      <th>longitude</th>\n",
       "      <th>rw_category</th>\n",
       "      <th>rw_tag</th>\n",
       "      <th>rw_tickets_sale</th>\n",
       "      <th>rw_open_time</th>\n",
       "      <th>rw_Monday_open</th>\n",
       "      <th>rw_Monday_close</th>\n",
       "      <th>rw_Tuesday_open</th>\n",
       "      <th>rw_Tuesday_close</th>\n",
       "      <th>rw_Wednesday_open</th>\n",
       "      <th>rw_Wednesday_close</th>\n",
       "      <th>rw_Thursday_open</th>\n",
       "      <th>rw_Thursday_close</th>\n",
       "      <th>rw_Friday_open</th>\n",
       "      <th>rw_Friday_close</th>\n",
       "      <th>rw_Saturday_open</th>\n",
       "      <th>rw_Saturday_close</th>\n",
       "      <th>rw_Sunday_open</th>\n",
       "      <th>rw_Sunday_close</th>\n",
       "      <th>rw_introduction</th>\n",
       "      <th>rw_phone</th>\n",
       "      <th>rw_address</th>\n",
       "      <th>rw_city</th>\n",
       "      <th>rw_town</th>\n",
       "      <th>stay_time</th>\n",
       "    </tr>\n",
       "  </thead>\n",
       "  <tbody>\n",
       "  </tbody>\n",
       "</table>\n",
       "</div>"
      ],
      "text/plain": [
       "Empty DataFrame\n",
       "Columns: [keyword, name, current_time, rating, rating_count, category, address, introduce, Website, img, latitude, longitude, rw_category, rw_tag, rw_tickets_sale, rw_open_time, rw_Monday_open, rw_Monday_close, rw_Tuesday_open, rw_Tuesday_close, rw_Wednesday_open, rw_Wednesday_close, rw_Thursday_open, rw_Thursday_close, rw_Friday_open, rw_Friday_close, rw_Saturday_open, rw_Saturday_close, rw_Sunday_open, rw_Sunday_close, rw_introduction, rw_phone, rw_address, rw_city, rw_town, stay_time]\n",
       "Index: []"
      ]
     },
     "execution_count": 115,
     "metadata": {},
     "output_type": "execute_result"
    }
   ],
   "source": [
    "img_null = df_search_overview['img'].isnull()\n",
    "print(df_search_overview[img_null].index)\n",
    "df_search_overview[img_null].head(2)"
   ]
  },
  {
   "attachments": {},
   "cell_type": "markdown",
   "metadata": {},
   "source": [
    "發現有些景點圖片有問題，使用爬蟲進行修正嘗試(進行修正過後 部分資料圖片部分還有問題)"
   ]
  },
  {
   "cell_type": "code",
   "execution_count": 116,
   "metadata": {},
   "outputs": [
    {
     "name": "stdout",
     "output_type": "stream",
     "text": [
      "url不對的數量:  2\n",
      "      name                                                     img  \\\n",
      "4968  卓蘭老街  //maps.gstatic.com/tactile/pane/default_geocode-1x.png   \n",
      "5778  集來農場  //maps.gstatic.com/tactile/pane/default_geocode-1x.png   \n",
      "\n",
      "                                                                                                                                                                                                                                         Website  \n",
      "4968  https://www.google.com/maps/place/%E5%8D%93%E8%98%AD%E8%80%81%E8%A1%97/data=!4m7!3m6!1s0x3469034a5d5ec627:0x4ee566d9d99f34d7!8m2!3d24.3143915!4d120.8266991!16s%2Fg%2F11qnjr6m_s!19sChIJJ8ZeXUoDaTQR1zSf2dlm5U4?authuser=0&hl=zh-TW&rclk=1  \n",
      "5778    https://www.google.com/maps/place/%E9%9B%86%E4%BE%86%E8%BE%B2%E5%A0%B4/data=!4m7!3m6!1s0x346e5ce7ca76dd0b:0x2e04604be69dd85d!8m2!3d23.0094093!4d120.5832794!16s%2Fg%2F1tk9nhwg!19sChIJC912yudcbjQRXdid5ktgBC4?authuser=0&hl=zh-TW&rclk=1  \n"
     ]
    }
   ],
   "source": [
    "# mistake_img = df_search_overview.loc[df_search_overview['img'].apply(lambda x: isinstance(x, str) and not x.startswith('https://lh5') if pd.notna(x) else False)]\n",
    "mistake_img = df_search_overview.loc[df_search_overview['img'].apply(lambda x: isinstance(x, str) and not x.startswith('https://') if pd.notna(x) else False)]\n",
    "\n",
    "print('url不對的數量: ',len(mistake_img))\n",
    "print(mistake_img[['name','img','Website']])\n",
    "mistake_img.to_csv('tmp.csv',encoding='utf-8-sig')"
   ]
  },
  {
   "attachments": {},
   "cell_type": "markdown",
   "metadata": {},
   "source": [
    "經確認確實沒圖片 且評論人數分別為1、8(暫不處理也不刪除)"
   ]
  },
  {
   "cell_type": "code",
   "execution_count": null,
   "metadata": {},
   "outputs": [],
   "source": []
  },
  {
   "cell_type": "code",
   "execution_count": null,
   "metadata": {},
   "outputs": [],
   "source": []
  },
  {
   "cell_type": "code",
   "execution_count": null,
   "metadata": {},
   "outputs": [],
   "source": []
  },
  {
   "attachments": {},
   "cell_type": "markdown",
   "metadata": {},
   "source": [
    "建議停留時間轉成分鐘"
   ]
  },
  {
   "cell_type": "code",
   "execution_count": 117,
   "metadata": {},
   "outputs": [
    {
     "name": "stdout",
     "output_type": "stream",
     "text": [
      "2534\n"
     ]
    },
    {
     "data": {
      "text/plain": [
       "10           1.5 小時\n",
       "11             1 小時\n",
       "12            45 分鐘\n",
       "13            45 分鐘\n",
       "16      20 分鐘到 1 小時\n",
       "           ...     \n",
       "6058       15-45 分鐘\n",
       "6059          45 分鐘\n",
       "6061          45 分鐘\n",
       "6062         1.5 小時\n",
       "6068    15 分鐘到 1 小時\n",
       "Name: stay_time, Length: 2534, dtype: object"
      ]
     },
     "execution_count": 117,
     "metadata": {},
     "output_type": "execute_result"
    }
   ],
   "source": [
    "print(len(df_search_overview[df_search_overview['stay_time'].notnull()]))\n",
    "df_search_overview[df_search_overview['stay_time'].notnull()]['stay_time']"
   ]
  },
  {
   "cell_type": "code",
   "execution_count": 118,
   "metadata": {},
   "outputs": [],
   "source": [
    "import re\n",
    "\n",
    "def convert_to_minutes(time_str):\n",
    "    if re.match(r'\\d+ 分鐘到 \\d+\\.?\\d* 小時', time_str):\n",
    "        match = re.findall(r'\\d+\\.?\\d*', time_str)\n",
    "        return int((float(match[0]) + float(match[1])* 60) / 2)\n",
    "    elif re.match(r'\\d+ 小時到 \\d+\\.?\\d* 小時', time_str):\n",
    "        match = re.findall(r'\\d+\\.?\\d*', time_str)\n",
    "        return int((float(match[0]) + float(match[1])) * 60 / 2)\n",
    "    elif re.match(r'\\d+ 分鐘到 \\d+\\.?\\d* 分鐘', time_str):\n",
    "        match = re.findall(r'\\d+\\.?\\d*', time_str)\n",
    "        return int((float(match[0]) + float(match[1])) / 2)\n",
    "    elif re.match(r'\\d+\\.?\\d* 小時', time_str):\n",
    "        hours = float(time_str.split()[0])\n",
    "        return int(hours * 60)\n",
    "    elif re.match(r'\\d+ 分鐘', time_str):\n",
    "        return int(time_str.split()[0])\n",
    "    elif re.match(r'\\d+-\\d+\\.?\\d* 分鐘', time_str):\n",
    "        match = re.findall(r'\\d+\\.?\\d*', time_str)\n",
    "        return int((float(match[0]) + float(match[1])) / 2)\n",
    "    elif re.match(r'\\d+(\\.\\d+)?-\\d+(\\.\\d+)? 小時', time_str):\n",
    "        match = re.findall(r'\\d+\\.?\\d*', time_str)\n",
    "        return int((float(match[0]) + float(match[1])) * 60/ 2)\n",
    "    else:\n",
    "        return None"
   ]
  },
  {
   "cell_type": "code",
   "execution_count": 119,
   "metadata": {},
   "outputs": [],
   "source": [
    "for time_str in df_search_overview[df_search_overview['stay_time'].notnull()]['stay_time']:\n",
    "    minutes = convert_to_minutes(time_str)\n",
    "    # if minutes is None:\n",
    "    #     convert_to_minutes_2(time_str)\n",
    "    if minutes is None:    \n",
    "        continue\n",
    "    df_search_overview.loc[df_search_overview['stay_time']== time_str,'stay_time']=minutes"
   ]
  },
  {
   "cell_type": "code",
   "execution_count": 120,
   "metadata": {},
   "outputs": [],
   "source": [
    "df_search_overview.rename(columns={'stay_time': 'stay_time_min'}, inplace=True)"
   ]
  },
  {
   "cell_type": "code",
   "execution_count": 121,
   "metadata": {},
   "outputs": [
    {
     "name": "stdout",
     "output_type": "stream",
     "text": [
      "2534\n"
     ]
    },
    {
     "data": {
      "text/plain": [
       "10      90\n",
       "11      60\n",
       "12      45\n",
       "13      45\n",
       "16      40\n",
       "        ..\n",
       "6058    30\n",
       "6059    45\n",
       "6061    45\n",
       "6062    90\n",
       "6068    37\n",
       "Name: stay_time_min, Length: 2534, dtype: object"
      ]
     },
     "execution_count": 121,
     "metadata": {},
     "output_type": "execute_result"
    }
   ],
   "source": [
    "print(len(df_search_overview[df_search_overview['stay_time_min'].notnull()]))\n",
    "df_search_overview[df_search_overview['stay_time_min'].notnull()]['stay_time_min']"
   ]
  },
  {
   "cell_type": "code",
   "execution_count": 122,
   "metadata": {},
   "outputs": [
    {
     "name": "stdout",
     "output_type": "stream",
     "text": [
      "check stay_time欄位中非空or非數字的數量： 0\n"
     ]
    }
   ],
   "source": [
    "not_only_numeric_or_nan = df_search_overview[~df_search_overview['stay_time_min'].apply(lambda x: isinstance(x, (int, float)) or pd.isna(x))]\n",
    "\n",
    "print(\"check stay_time欄位中非空or非數字的數量：\",len(not_only_numeric_or_nan))\n",
    "# print(len(not_only_numeric_or_nan))\n",
    "# print(not_only_numeric_or_nan)"
   ]
  },
  {
   "cell_type": "code",
   "execution_count": 123,
   "metadata": {},
   "outputs": [
    {
     "name": "stdout",
     "output_type": "stream",
     "text": [
      "total search count:  6075\n"
     ]
    },
    {
     "data": {
      "text/plain": [
       "name                  0\n",
       "current_time          0\n",
       "rating                0\n",
       "rating_count          0\n",
       "category             12\n",
       "address            1481\n",
       "introduce           656\n",
       "Website               0\n",
       "img                   0\n",
       "latitude              0\n",
       "longitude             0\n",
       "rw_category          12\n",
       "rw_tag               85\n",
       "rw_tickets_sale    5823\n",
       "rw_open_time        801\n",
       "rw_introduction    4823\n",
       "rw_phone           2618\n",
       "rw_address            0\n",
       "rw_city               0\n",
       "rw_town              14\n",
       "stay_time_min      3541\n",
       "dtype: int64"
      ]
     },
     "execution_count": 123,
     "metadata": {},
     "output_type": "execute_result"
    }
   ],
   "source": [
    "print('total search count: ',len(df_search_overview))\n",
    "df_search_overview.isnull().sum().drop(['keyword','rw_Monday_open','rw_Monday_close','rw_Tuesday_open','rw_Tuesday_close','rw_Wednesday_open','rw_Wednesday_close','rw_Thursday_open','rw_Thursday_close','rw_Friday_open','rw_Friday_close','rw_Saturday_open','rw_Saturday_close','rw_Sunday_open','rw_Sunday_close'])"
   ]
  },
  {
   "attachments": {},
   "cell_type": "markdown",
   "metadata": {},
   "source": [
    "營業時間為空值的狀況(根據評論數量進行過濾挑選部分景點進行人工補值)"
   ]
  },
  {
   "cell_type": "code",
   "execution_count": 124,
   "metadata": {},
   "outputs": [
    {
     "name": "stdout",
     "output_type": "stream",
     "text": [
      "營業時間為空值數量: 801\n"
     ]
    },
    {
     "data": {
      "text/html": [
       "<div>\n",
       "<style scoped>\n",
       "    .dataframe tbody tr th:only-of-type {\n",
       "        vertical-align: middle;\n",
       "    }\n",
       "\n",
       "    .dataframe tbody tr th {\n",
       "        vertical-align: top;\n",
       "    }\n",
       "\n",
       "    .dataframe thead th {\n",
       "        text-align: right;\n",
       "    }\n",
       "</style>\n",
       "<table border=\"1\" class=\"dataframe\">\n",
       "  <thead>\n",
       "    <tr style=\"text-align: right;\">\n",
       "      <th></th>\n",
       "      <th>name</th>\n",
       "      <th>Website</th>\n",
       "      <th>rating</th>\n",
       "      <th>rating_count</th>\n",
       "    </tr>\n",
       "  </thead>\n",
       "  <tbody>\n",
       "    <tr>\n",
       "      <th>1426</th>\n",
       "      <td>黃金花旗木</td>\n",
       "      <td>https://www.google.com/maps/place/%E9%BB%83%E9%87%91%E8%8A%B1%E6%97%97%E6%9C%A8/data=!4m7!3m6!1s0x346ecb74f915b23f:0x380a24b2705404ec!8m2!3d23.828358!4d120.60714!16s%2Fg%2F11kjf4lnvv!19sChIJP7IV-XTLbjQR7ARUcLIkCjg?authuser=0&amp;hl=zh-TW&amp;rclk=1</td>\n",
       "      <td>4.0</td>\n",
       "      <td>1.0</td>\n",
       "    </tr>\n",
       "    <tr>\n",
       "      <th>426</th>\n",
       "      <td>活水生態園區</td>\n",
       "      <td>https://www.google.com/maps/place/%E6%B4%BB%E6%B0%B4%E7%94%9F%E6%85%8B%E5%9C%92%E5%8D%80/data=!4m7!3m6!1s0x346ea30fa7c94903:0xc679914fa5ba19b7!8m2!3d23.5676958!4d120.3169723!16s%2Fg%2F11sx4h7n96!19sChIJA0nJpw-jbjQRtxm6pU-RecY?authuser=0&amp;hl=zh-TW&amp;rclk=1</td>\n",
       "      <td>5.0</td>\n",
       "      <td>1.0</td>\n",
       "    </tr>\n",
       "  </tbody>\n",
       "</table>\n",
       "</div>"
      ],
      "text/plain": [
       "        name  \\\n",
       "1426   黃金花旗木   \n",
       "426   活水生態園區   \n",
       "\n",
       "                                                                                                                                                                                                                                                           Website  \\\n",
       "1426              https://www.google.com/maps/place/%E9%BB%83%E9%87%91%E8%8A%B1%E6%97%97%E6%9C%A8/data=!4m7!3m6!1s0x346ecb74f915b23f:0x380a24b2705404ec!8m2!3d23.828358!4d120.60714!16s%2Fg%2F11kjf4lnvv!19sChIJP7IV-XTLbjQR7ARUcLIkCjg?authuser=0&hl=zh-TW&rclk=1   \n",
       "426   https://www.google.com/maps/place/%E6%B4%BB%E6%B0%B4%E7%94%9F%E6%85%8B%E5%9C%92%E5%8D%80/data=!4m7!3m6!1s0x346ea30fa7c94903:0xc679914fa5ba19b7!8m2!3d23.5676958!4d120.3169723!16s%2Fg%2F11sx4h7n96!19sChIJA0nJpw-jbjQRtxm6pU-RecY?authuser=0&hl=zh-TW&rclk=1   \n",
       "\n",
       "      rating  rating_count  \n",
       "1426     4.0           1.0  \n",
       "426      5.0           1.0  "
      ]
     },
     "execution_count": 124,
     "metadata": {},
     "output_type": "execute_result"
    }
   ],
   "source": [
    "rw_open_time_null = df_search_overview['rw_open_time'].isnull()\n",
    "print('營業時間為空值數量:',len(df_search_overview[rw_open_time_null]))\n",
    "tmp_opentime_null=df_search_overview[rw_open_time_null].sort_values(by='rating_count')\n",
    "tmp_opentime_null=tmp_opentime_null[['name','Website','rating','rating_count']]\n",
    "tmp_opentime_null.to_csv('opentime_null.csv',encoding='utf-8-sig')\n",
    "tmp_opentime_null.head(2)"
   ]
  },
  {
   "attachments": {},
   "cell_type": "markdown",
   "metadata": {},
   "source": [
    "https://docs.google.com/spreadsheets/d/1wwDB46B5f8yDqOTn7oYd28tQ0zwpHcWUIQpEy7NGGjo/edit#gid=2127927578\n",
    "放到此excel中，後續找完營業時間後，再來補值"
   ]
  },
  {
   "cell_type": "code",
   "execution_count": null,
   "metadata": {},
   "outputs": [],
   "source": []
  },
  {
   "cell_type": "code",
   "execution_count": null,
   "metadata": {},
   "outputs": [],
   "source": []
  },
  {
   "cell_type": "markdown",
   "metadata": {},
   "source": [
    "從category中發現，旅遊景點中含有一些不應該有的項目ex.餐廳、民宿等，故將這些確定無關的刪除"
   ]
  },
  {
   "cell_type": "code",
   "execution_count": 125,
   "metadata": {},
   "outputs": [],
   "source": [
    "drop_category_list=['熟食店','餐廳','闔家皆宜料理','客家料理','燒烤','素食料理','食品供應商','民宿','珍珠奶茶','小菜','嚴格素食料理','住宿','麵店','居酒屋','拉麵','快餐','火鍋','涮涮鍋','鐵板燒','泰國菜','中式包點店','意大利菜','日本地方料理餐廳','早餐','壽司','台灣菜','各種意大利麵','甜品店','小吃店','海鮮料理','美式餐車店','海鮮批發商']"
   ]
  },
  {
   "cell_type": "code",
   "execution_count": 126,
   "metadata": {},
   "outputs": [
    {
     "name": "stdout",
     "output_type": "stream",
     "text": [
      "91\n"
     ]
    }
   ],
   "source": [
    "# 使用 isin 方法篩選出符合條件的項目\n",
    "df_drop_category = df_search_overview[df_search_overview['category'].isin(drop_category_list)]\n",
    "\n",
    "# 使用 value_counts 方法計算每個值的數量\n",
    "value_counts = df_drop_category['category'].value_counts().sum()\n",
    "\n",
    "print(value_counts)"
   ]
  },
  {
   "cell_type": "code",
   "execution_count": 127,
   "metadata": {},
   "outputs": [
    {
     "data": {
      "text/html": [
       "<div>\n",
       "<style scoped>\n",
       "    .dataframe tbody tr th:only-of-type {\n",
       "        vertical-align: middle;\n",
       "    }\n",
       "\n",
       "    .dataframe tbody tr th {\n",
       "        vertical-align: top;\n",
       "    }\n",
       "\n",
       "    .dataframe thead th {\n",
       "        text-align: right;\n",
       "    }\n",
       "</style>\n",
       "<table border=\"1\" class=\"dataframe\">\n",
       "  <thead>\n",
       "    <tr style=\"text-align: right;\">\n",
       "      <th></th>\n",
       "      <th>keyword</th>\n",
       "      <th>name</th>\n",
       "      <th>current_time</th>\n",
       "      <th>rating</th>\n",
       "      <th>rating_count</th>\n",
       "      <th>category</th>\n",
       "      <th>address</th>\n",
       "      <th>introduce</th>\n",
       "      <th>Website</th>\n",
       "      <th>img</th>\n",
       "      <th>latitude</th>\n",
       "      <th>longitude</th>\n",
       "      <th>rw_category</th>\n",
       "      <th>rw_tag</th>\n",
       "      <th>rw_tickets_sale</th>\n",
       "      <th>rw_open_time</th>\n",
       "      <th>rw_Monday_open</th>\n",
       "      <th>rw_Monday_close</th>\n",
       "      <th>rw_Tuesday_open</th>\n",
       "      <th>rw_Tuesday_close</th>\n",
       "      <th>rw_Wednesday_open</th>\n",
       "      <th>rw_Wednesday_close</th>\n",
       "      <th>rw_Thursday_open</th>\n",
       "      <th>rw_Thursday_close</th>\n",
       "      <th>rw_Friday_open</th>\n",
       "      <th>rw_Friday_close</th>\n",
       "      <th>rw_Saturday_open</th>\n",
       "      <th>rw_Saturday_close</th>\n",
       "      <th>rw_Sunday_open</th>\n",
       "      <th>rw_Sunday_close</th>\n",
       "      <th>rw_introduction</th>\n",
       "      <th>rw_phone</th>\n",
       "      <th>rw_address</th>\n",
       "      <th>rw_city</th>\n",
       "      <th>rw_town</th>\n",
       "      <th>stay_time_min</th>\n",
       "    </tr>\n",
       "  </thead>\n",
       "  <tbody>\n",
       "  </tbody>\n",
       "</table>\n",
       "</div>"
      ],
      "text/plain": [
       "Empty DataFrame\n",
       "Columns: [keyword, name, current_time, rating, rating_count, category, address, introduce, Website, img, latitude, longitude, rw_category, rw_tag, rw_tickets_sale, rw_open_time, rw_Monday_open, rw_Monday_close, rw_Tuesday_open, rw_Tuesday_close, rw_Wednesday_open, rw_Wednesday_close, rw_Thursday_open, rw_Thursday_close, rw_Friday_open, rw_Friday_close, rw_Saturday_open, rw_Saturday_close, rw_Sunday_open, rw_Sunday_close, rw_introduction, rw_phone, rw_address, rw_city, rw_town, stay_time_min]\n",
       "Index: []"
      ]
     },
     "execution_count": 127,
     "metadata": {},
     "output_type": "execute_result"
    }
   ],
   "source": [
    "# 刪除 & check\n",
    "df_search_overview.drop(df_search_overview[df_search_overview['category'].isin(drop_category_list)].index, inplace=True)\n",
    "df_search_overview[df_search_overview['category'].isin(drop_category_list)]"
   ]
  },
  {
   "cell_type": "code",
   "execution_count": 128,
   "metadata": {},
   "outputs": [
    {
     "name": "stdout",
     "output_type": "stream",
     "text": [
      "Rows with numeric 'category' values:\n",
      "             name category\n",
      "5210  覓境E19蒙古包露營區        1\n",
      "          name category\n",
      "5218  藍映海岸景觀民宿        2\n",
      "         name category\n",
      "826  香格里拉休閒農場        3\n",
      "                  name category\n",
      "2301       北海岸愛之船民宿&餐廳        4\n",
      "5036  虎山溫泉會館(湯之島)-泰安溫泉        4\n"
     ]
    }
   ],
   "source": [
    "# 如果是數字則清空這欄位的值\n",
    "print(\"Rows with numeric 'category' values:\")\n",
    "for str_i in range(10):\n",
    "    tmp_str_i = str(str_i)\n",
    "    numeric_rows = df_search_overview[df_search_overview['category']==tmp_str_i]\n",
    "    if not numeric_rows.empty:\n",
    "        print(numeric_rows[['name','category']])\n",
    "        df_search_overview.loc[numeric_rows.index, 'category'] = None"
   ]
  },
  {
   "cell_type": "code",
   "execution_count": 129,
   "metadata": {},
   "outputs": [
    {
     "name": "stdout",
     "output_type": "stream",
     "text": [
      "Rows with numeric 'category' values:\n"
     ]
    }
   ],
   "source": [
    "#  check \n",
    "print(\"Rows with numeric 'category' values:\")\n",
    "for str_i in range(10):\n",
    "    tmp_str_i = str(str_i)\n",
    "    numeric_rows = df_search_overview[df_search_overview['category']==tmp_str_i]\n",
    "    if not numeric_rows.empty:\n",
    "        print(numeric_rows[['name','category']])"
   ]
  },
  {
   "cell_type": "code",
   "execution_count": null,
   "metadata": {},
   "outputs": [],
   "source": []
  },
  {
   "cell_type": "markdown",
   "metadata": {},
   "source": [
    "查詢name字串中資料有'民宿' 字眼的項目有哪些"
   ]
  },
  {
   "cell_type": "code",
   "execution_count": 130,
   "metadata": {},
   "outputs": [
    {
     "name": "stdout",
     "output_type": "stream",
     "text": [
      "2301                                                   北海岸愛之船民宿&餐廳\n",
      "4980    南庄橄欖樹【民宿+咖啡廳】《走進王子公主童話的美拍地》《沒養貓也可以來拍貓》《「橄」於跟她求婚的創意就在橄欖樹民宿》\n",
      "5218                                                      藍映海岸景觀民宿\n",
      "5649                                                     瑞山樂活田莊民宿區\n",
      "Name: name, dtype: object\n"
     ]
    }
   ],
   "source": [
    "keywords = ['民宿']\n",
    "\n",
    "filtered_df = df_search_overview[df_search_overview['name'].str.contains('|'.join(keywords))]\n",
    "\n",
    "print(filtered_df['name'])"
   ]
  },
  {
   "cell_type": "markdown",
   "metadata": {},
   "source": [
    "-> 暫不刪除 因為感覺好像都與景點多多少少有些聯繫"
   ]
  },
  {
   "cell_type": "code",
   "execution_count": null,
   "metadata": {},
   "outputs": [],
   "source": []
  },
  {
   "cell_type": "markdown",
   "metadata": {},
   "source": [
    "新增營業時間欄位"
   ]
  },
  {
   "cell_type": "code",
   "execution_count": 131,
   "metadata": {},
   "outputs": [],
   "source": [
    "import re\n",
    "\n",
    "def opentime_dataclean(rw_open_time):\n",
    "    \n",
    "    weekday_order = ['星期一', '星期二', '星期三', '星期四', '星期五', '星期六', '星期日']\n",
    "\n",
    "    # 處理1. 24小時營業景點，營業時間調整為00:00-23:59\n",
    "    rw_open_time = rw_open_time.replace('24 小時營業', '00:00–23:59')\n",
    "\n",
    "    weekday_opentime_dict = {}\n",
    "    reg_ex = r'\\d{2}:\\d{2}–\\d{2}:\\d{2}'\n",
    "\n",
    "    for eachday in rw_open_time.split():\n",
    "        weekday = eachday[:3]\n",
    "        # 處理2. 分段營業時間\n",
    "        time_ranges = re.findall(reg_ex, eachday)\n",
    "\n",
    "        # 處理3. 針對營業時間跨天(close < start)做調整: close=23:59\n",
    "        adjusted_time_ranges = []\n",
    "        for time_range in time_ranges:\n",
    "            start_time, end_time = map(str.strip, time_range.split('–'))\n",
    "\n",
    "            if start_time <= end_time:\n",
    "                adjusted_time_ranges.append(str(start_time) + '–' + str(end_time))\n",
    "            else:\n",
    "                adjusted_time_ranges.append(str(start_time) + '–' + '23:59')\n",
    "\n",
    "        weekday_opentime_dict[weekday] = adjusted_time_ranges\n",
    "\n",
    "\n",
    "    # Result1. 每日營業時間(dict) = {key(星期):value(營業時間區段)}\n",
    "    weekday_opentime_dict = {key: weekday_opentime_dict[key] for key in weekday_order}\n",
    "    \n",
    "    # Result2. 使用list記錄每天是否有營業\n",
    "    is_open_list = [1 if weekday_opentime_dict[day] else 0 for day in weekday_order]\n",
    "\n",
    "    return weekday_opentime_dict, is_open_list"
   ]
  },
  {
   "cell_type": "code",
   "execution_count": 132,
   "metadata": {},
   "outputs": [
    {
     "data": {
      "text/html": [
       "<div>\n",
       "<style scoped>\n",
       "    .dataframe tbody tr th:only-of-type {\n",
       "        vertical-align: middle;\n",
       "    }\n",
       "\n",
       "    .dataframe tbody tr th {\n",
       "        vertical-align: top;\n",
       "    }\n",
       "\n",
       "    .dataframe thead th {\n",
       "        text-align: right;\n",
       "    }\n",
       "</style>\n",
       "<table border=\"1\" class=\"dataframe\">\n",
       "  <thead>\n",
       "    <tr style=\"text-align: right;\">\n",
       "      <th></th>\n",
       "      <th>keyword</th>\n",
       "      <th>name</th>\n",
       "      <th>current_time</th>\n",
       "      <th>rating</th>\n",
       "      <th>rating_count</th>\n",
       "      <th>category</th>\n",
       "      <th>address</th>\n",
       "      <th>introduce</th>\n",
       "      <th>Website</th>\n",
       "      <th>img</th>\n",
       "      <th>latitude</th>\n",
       "      <th>longitude</th>\n",
       "      <th>rw_category</th>\n",
       "      <th>rw_tag</th>\n",
       "      <th>rw_tickets_sale</th>\n",
       "      <th>rw_open_time</th>\n",
       "      <th>rw_Monday_open</th>\n",
       "      <th>rw_Monday_close</th>\n",
       "      <th>rw_Tuesday_open</th>\n",
       "      <th>rw_Tuesday_close</th>\n",
       "      <th>rw_Wednesday_open</th>\n",
       "      <th>rw_Wednesday_close</th>\n",
       "      <th>rw_Thursday_open</th>\n",
       "      <th>rw_Thursday_close</th>\n",
       "      <th>rw_Friday_open</th>\n",
       "      <th>rw_Friday_close</th>\n",
       "      <th>rw_Saturday_open</th>\n",
       "      <th>rw_Saturday_close</th>\n",
       "      <th>rw_Sunday_open</th>\n",
       "      <th>rw_Sunday_close</th>\n",
       "      <th>rw_introduction</th>\n",
       "      <th>rw_phone</th>\n",
       "      <th>rw_address</th>\n",
       "      <th>rw_city</th>\n",
       "      <th>rw_town</th>\n",
       "      <th>stay_time_min</th>\n",
       "      <th>weekday_opentime_dict</th>\n",
       "      <th>is_open_list</th>\n",
       "    </tr>\n",
       "  </thead>\n",
       "  <tbody>\n",
       "    <tr>\n",
       "      <th>0</th>\n",
       "      <td>南投縣中寮鄉 景點推薦</td>\n",
       "      <td>中寮劉家梅園休園（一期一會明年再見）</td>\n",
       "      <td>2023-08-02 18:35:21</td>\n",
       "      <td>4.3</td>\n",
       "      <td>125.0</td>\n",
       "      <td>旅遊景點</td>\n",
       "      <td>頂坑巷12號</td>\n",
       "      <td>NaN</td>\n",
       "      <td>https://www.google.com/maps/place/%E4%B8%AD%E5%AF%AE%E5%8A%89%E5%AE%B6%E6%A2%85%E5%9C%92+%E4%BC%91%E5%9C%92+%EF%BC%88%E4%B8%80%E6%9C%9F%E4%B8%80%E6%9C%83%E6%98%8E%E5%B9%B4%E5%86%8D%E8%A6%8B%EF%BC%89/data=!4m7!3m6!1s0x346928a161e870a5:0xf5b64d71087260e8!8m2!3d23.9553273!4d120.8237057!16s%2Fg%2F11c6cfq6j2!19sChIJpXDoYaEoaTQR6GByCHFNtvU?authuser=0&amp;hl=zh-TW&amp;rclk=1</td>\n",
       "      <td>https://lh5.googleusercontent.com/p/AF1QipPowNN_-sHOTh7S1CrIeWfaL5bUqc9sLM2FbCA-=w162-h92-k-no</td>\n",
       "      <td>23.955327</td>\n",
       "      <td>120.823706</td>\n",
       "      <td>旅遊景點</td>\n",
       "      <td>無障礙入口 無障礙停車場 適合兒童</td>\n",
       "      <td>NaN</td>\n",
       "      <td>NaN</td>\n",
       "      <td>NaN</td>\n",
       "      <td>NaN</td>\n",
       "      <td>NaN</td>\n",
       "      <td>NaN</td>\n",
       "      <td>NaN</td>\n",
       "      <td>NaN</td>\n",
       "      <td>NaN</td>\n",
       "      <td>NaN</td>\n",
       "      <td>NaN</td>\n",
       "      <td>NaN</td>\n",
       "      <td>NaN</td>\n",
       "      <td>NaN</td>\n",
       "      <td>NaN</td>\n",
       "      <td>NaN</td>\n",
       "      <td>NaN</td>\n",
       "      <td>0983 756 921</td>\n",
       "      <td>541南投縣中寮鄉頂坑巷12號</td>\n",
       "      <td>南投縣</td>\n",
       "      <td>中寮鄉</td>\n",
       "      <td>NaN</td>\n",
       "      <td>None</td>\n",
       "      <td>None</td>\n",
       "    </tr>\n",
       "  </tbody>\n",
       "</table>\n",
       "</div>"
      ],
      "text/plain": [
       "       keyword                name         current_time  rating  rating_count  \\\n",
       "0  南投縣中寮鄉 景點推薦  中寮劉家梅園休園（一期一會明年再見）  2023-08-02 18:35:21     4.3         125.0   \n",
       "\n",
       "  category address introduce  \\\n",
       "0     旅遊景點  頂坑巷12號       NaN   \n",
       "\n",
       "                                                                                                                                                                                                                                                                                                                                                                      Website  \\\n",
       "0  https://www.google.com/maps/place/%E4%B8%AD%E5%AF%AE%E5%8A%89%E5%AE%B6%E6%A2%85%E5%9C%92+%E4%BC%91%E5%9C%92+%EF%BC%88%E4%B8%80%E6%9C%9F%E4%B8%80%E6%9C%83%E6%98%8E%E5%B9%B4%E5%86%8D%E8%A6%8B%EF%BC%89/data=!4m7!3m6!1s0x346928a161e870a5:0xf5b64d71087260e8!8m2!3d23.9553273!4d120.8237057!16s%2Fg%2F11c6cfq6j2!19sChIJpXDoYaEoaTQR6GByCHFNtvU?authuser=0&hl=zh-TW&rclk=1   \n",
       "\n",
       "                                                                                              img  \\\n",
       "0  https://lh5.googleusercontent.com/p/AF1QipPowNN_-sHOTh7S1CrIeWfaL5bUqc9sLM2FbCA-=w162-h92-k-no   \n",
       "\n",
       "    latitude   longitude rw_category              rw_tag rw_tickets_sale  \\\n",
       "0  23.955327  120.823706        旅遊景點  無障礙入口 無障礙停車場 適合兒童              NaN   \n",
       "\n",
       "  rw_open_time  rw_Monday_open  rw_Monday_close  rw_Tuesday_open  \\\n",
       "0          NaN             NaN              NaN              NaN   \n",
       "\n",
       "   rw_Tuesday_close  rw_Wednesday_open  rw_Wednesday_close  rw_Thursday_open  \\\n",
       "0               NaN                NaN                 NaN               NaN   \n",
       "\n",
       "   rw_Thursday_close  rw_Friday_open  rw_Friday_close  rw_Saturday_open  \\\n",
       "0                NaN             NaN              NaN               NaN   \n",
       "\n",
       "   rw_Saturday_close  rw_Sunday_open  rw_Sunday_close rw_introduction  \\\n",
       "0                NaN             NaN              NaN             NaN   \n",
       "\n",
       "       rw_phone       rw_address rw_city rw_town stay_time_min  \\\n",
       "0  0983 756 921  541南投縣中寮鄉頂坑巷12號     南投縣     中寮鄉           NaN   \n",
       "\n",
       "  weekday_opentime_dict is_open_list  \n",
       "0                  None         None  "
      ]
     },
     "execution_count": 132,
     "metadata": {},
     "output_type": "execute_result"
    }
   ],
   "source": [
    "df1 = df_search_overview.copy()  # 複製一個新的 DataFrame，以免修改原始數據\n",
    "\n",
    "df1['weekday_opentime_dict'] = None\n",
    "df1['is_open_list'] = None\n",
    "\n",
    "# 僅針對非 nan 值進行處理\n",
    "for index, row in df1.iterrows():\n",
    "    # 對 df['rw_open_time'] 欄位進行處理並儲存結果到新的欄位\n",
    "    if pd.notna(row['rw_open_time']):\n",
    "        weekday_opentime_dict, is_open_list = opentime_dataclean(row['rw_open_time'])\n",
    "        df1.at[index, 'weekday_opentime_dict'] = weekday_opentime_dict\n",
    "        df1.at[index, 'is_open_list'] = is_open_list\n",
    "\n",
    "df1.head(1)"
   ]
  },
  {
   "cell_type": "code",
   "execution_count": 133,
   "metadata": {},
   "outputs": [],
   "source": [
    "df_search_overview=df1"
   ]
  },
  {
   "cell_type": "code",
   "execution_count": null,
   "metadata": {},
   "outputs": [],
   "source": []
  },
  {
   "cell_type": "markdown",
   "metadata": {},
   "source": [
    "根據爬蟲指定點到各景點的結果，找出有些景點無法抵達以下刪除這些資料"
   ]
  },
  {
   "cell_type": "markdown",
   "metadata": {},
   "source": [
    "水漾森林 聖母登山步道 北大武山神社 落日亭 北大武神木 雪山圈谷 七彩湖"
   ]
  },
  {
   "cell_type": "code",
   "execution_count": 134,
   "metadata": {},
   "outputs": [
    {
     "name": "stdout",
     "output_type": "stream",
     "text": [
      "data len before 5984\n",
      "data len after 5977\n"
     ]
    }
   ],
   "source": [
    "print('data len before',len(df_search_overview))\n",
    "values_to_remove = ['水漾森林', '聖母登山步道', '北大武山神社','落日亭','北大武神木','雪山圈谷','七彩湖']\n",
    "\n",
    "condition = ~df_search_overview['name'].isin(values_to_remove)\n",
    "df_search_overview = df_search_overview[condition]\n",
    "\n",
    "df_search_overview = df_search_overview.reset_index(drop=True)\n",
    "print('data len after',len(df_search_overview))\n"
   ]
  },
  {
   "cell_type": "code",
   "execution_count": null,
   "metadata": {},
   "outputs": [],
   "source": []
  },
  {
   "cell_type": "code",
   "execution_count": 135,
   "metadata": {},
   "outputs": [],
   "source": [
    "# df_search_overview.to_csv('search_clear.csv',encoding='utf-8-sig')\n",
    "df_search_overview.to_csv('search_clear_del_notravel.csv',encoding='utf-8-sig')"
   ]
  },
  {
   "cell_type": "markdown",
   "metadata": {},
   "source": [
    "還可以做 將review整理後的資料合併進來ex 有效評論、1~5星各自數量等"
   ]
  },
  {
   "cell_type": "code",
   "execution_count": null,
   "metadata": {},
   "outputs": [],
   "source": []
  }
 ],
 "metadata": {
  "kernelspec": {
   "display_name": "Python 3",
   "language": "python",
   "name": "python3"
  },
  "language_info": {
   "codemirror_mode": {
    "name": "ipython",
    "version": 3
   },
   "file_extension": ".py",
   "mimetype": "text/x-python",
   "name": "python",
   "nbconvert_exporter": "python",
   "pygments_lexer": "ipython3",
   "version": "3.9.16"
  },
  "orig_nbformat": 4
 },
 "nbformat": 4,
 "nbformat_minor": 2
}
